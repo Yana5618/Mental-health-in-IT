{
  "nbformat": 4,
  "nbformat_minor": 5,
  "metadata": {
    "kernelspec": {
      "display_name": "Python 3",
      "language": "python",
      "name": "python3"
    },
    "language_info": {
      "codemirror_mode": {
        "name": "ipython",
        "version": 3
      },
      "file_extension": ".py",
      "mimetype": "text/x-python",
      "name": "python",
      "nbconvert_exporter": "python",
      "pygments_lexer": "ipython3",
      "version": "3.8.8"
    },
    "colab": {
      "name": "Mental health.ipynb",
      "provenance": [],
      "collapsed_sections": [],
      "toc_visible": true
    },
    "accelerator": "GPU"
  },
  "cells": [
    {
      "cell_type": "markdown",
      "metadata": {
        "id": "zmXxjSkuvyZZ"
      },
      "source": [
        "## Импортируем библотеки\n"
      ],
      "id": "zmXxjSkuvyZZ"
    },
    {
      "cell_type": "code",
      "metadata": {
        "id": "missing-timeline"
      },
      "source": [
        "import pandas as pd\n",
        "import numpy as np\n",
        "import seaborn as sns\n",
        "import sklearn\n",
        "import matplotlib.pyplot as plt\n",
        "\n",
        "from sklearn.preprocessing import StandardScaler\n",
        "from sklearn.model_selection import train_test_split\n",
        "\n",
        "from sklearn.linear_model import LogisticRegression \n",
        "from sklearn.neighbors import KNeighborsClassifier\n",
        "from sklearn.svm import SVC\n",
        "from sklearn.tree import DecisionTreeClassifier\n",
        "\n",
        "from sklearn.ensemble import RandomForestClassifier\n",
        "\n",
        "import xgboost as xgb\n",
        "from xgboost import XGBClassifier\n",
        "\n",
        "from sklearn.model_selection import GridSearchCV\n",
        "\n",
        "from sklearn.metrics import recall_score"
      ],
      "id": "missing-timeline",
      "execution_count": 1,
      "outputs": []
    },
    {
      "cell_type": "markdown",
      "metadata": {
        "id": "CWV5N4Wb51Zb"
      },
      "source": [
        "## Открываем наш датасет"
      ],
      "id": "CWV5N4Wb51Zb"
    },
    {
      "cell_type": "code",
      "metadata": {
        "id": "flush-reunion"
      },
      "source": [
        "df = pd.read_csv('/content/depress.csv')"
      ],
      "id": "flush-reunion",
      "execution_count": 2,
      "outputs": []
    },
    {
      "cell_type": "code",
      "metadata": {
        "colab": {
          "base_uri": "https://localhost:8080/",
          "height": 609
        },
        "id": "casual-provincial",
        "outputId": "491701ca-0505-4aeb-efb8-13d8d4484507"
      },
      "source": [
        "df.head(-1)"
      ],
      "id": "casual-provincial",
      "execution_count": 4,
      "outputs": [
        {
          "output_type": "execute_result",
          "data": {
            "text/html": [
              "<div>\n",
              "<style scoped>\n",
              "    .dataframe tbody tr th:only-of-type {\n",
              "        vertical-align: middle;\n",
              "    }\n",
              "\n",
              "    .dataframe tbody tr th {\n",
              "        vertical-align: top;\n",
              "    }\n",
              "\n",
              "    .dataframe thead th {\n",
              "        text-align: right;\n",
              "    }\n",
              "</style>\n",
              "<table border=\"1\" class=\"dataframe\">\n",
              "  <thead>\n",
              "    <tr style=\"text-align: right;\">\n",
              "      <th></th>\n",
              "      <th>Timestamp</th>\n",
              "      <th>Age</th>\n",
              "      <th>Gender</th>\n",
              "      <th>Country</th>\n",
              "      <th>state</th>\n",
              "      <th>self_employed</th>\n",
              "      <th>family_history</th>\n",
              "      <th>treatment</th>\n",
              "      <th>work_interfere</th>\n",
              "      <th>no_employees</th>\n",
              "      <th>remote_work</th>\n",
              "      <th>tech_company</th>\n",
              "      <th>benefits</th>\n",
              "      <th>care_options</th>\n",
              "      <th>wellness_program</th>\n",
              "      <th>seek_help</th>\n",
              "      <th>anonymity</th>\n",
              "      <th>leave</th>\n",
              "      <th>mental_health_consequence</th>\n",
              "      <th>phys_health_consequence</th>\n",
              "      <th>coworkers</th>\n",
              "      <th>supervisor</th>\n",
              "      <th>mental_health_interview</th>\n",
              "      <th>phys_health_interview</th>\n",
              "      <th>mental_vs_physical</th>\n",
              "      <th>obs_consequence</th>\n",
              "      <th>comments</th>\n",
              "    </tr>\n",
              "  </thead>\n",
              "  <tbody>\n",
              "    <tr>\n",
              "      <th>0</th>\n",
              "      <td>2014-08-27 11:29:31</td>\n",
              "      <td>37</td>\n",
              "      <td>Female</td>\n",
              "      <td>United States</td>\n",
              "      <td>IL</td>\n",
              "      <td>NaN</td>\n",
              "      <td>No</td>\n",
              "      <td>Yes</td>\n",
              "      <td>Often</td>\n",
              "      <td>6-25</td>\n",
              "      <td>No</td>\n",
              "      <td>Yes</td>\n",
              "      <td>Yes</td>\n",
              "      <td>Not sure</td>\n",
              "      <td>No</td>\n",
              "      <td>Yes</td>\n",
              "      <td>Yes</td>\n",
              "      <td>Somewhat easy</td>\n",
              "      <td>No</td>\n",
              "      <td>No</td>\n",
              "      <td>Some of them</td>\n",
              "      <td>Yes</td>\n",
              "      <td>No</td>\n",
              "      <td>Maybe</td>\n",
              "      <td>Yes</td>\n",
              "      <td>No</td>\n",
              "      <td>NaN</td>\n",
              "    </tr>\n",
              "    <tr>\n",
              "      <th>1</th>\n",
              "      <td>2014-08-27 11:29:37</td>\n",
              "      <td>44</td>\n",
              "      <td>M</td>\n",
              "      <td>United States</td>\n",
              "      <td>IN</td>\n",
              "      <td>NaN</td>\n",
              "      <td>No</td>\n",
              "      <td>No</td>\n",
              "      <td>Rarely</td>\n",
              "      <td>More than 1000</td>\n",
              "      <td>No</td>\n",
              "      <td>No</td>\n",
              "      <td>Don't know</td>\n",
              "      <td>No</td>\n",
              "      <td>Don't know</td>\n",
              "      <td>Don't know</td>\n",
              "      <td>Don't know</td>\n",
              "      <td>Don't know</td>\n",
              "      <td>Maybe</td>\n",
              "      <td>No</td>\n",
              "      <td>No</td>\n",
              "      <td>No</td>\n",
              "      <td>No</td>\n",
              "      <td>No</td>\n",
              "      <td>Don't know</td>\n",
              "      <td>No</td>\n",
              "      <td>NaN</td>\n",
              "    </tr>\n",
              "    <tr>\n",
              "      <th>2</th>\n",
              "      <td>2014-08-27 11:29:44</td>\n",
              "      <td>32</td>\n",
              "      <td>Male</td>\n",
              "      <td>Canada</td>\n",
              "      <td>NaN</td>\n",
              "      <td>NaN</td>\n",
              "      <td>No</td>\n",
              "      <td>No</td>\n",
              "      <td>Rarely</td>\n",
              "      <td>6-25</td>\n",
              "      <td>No</td>\n",
              "      <td>Yes</td>\n",
              "      <td>No</td>\n",
              "      <td>No</td>\n",
              "      <td>No</td>\n",
              "      <td>No</td>\n",
              "      <td>Don't know</td>\n",
              "      <td>Somewhat difficult</td>\n",
              "      <td>No</td>\n",
              "      <td>No</td>\n",
              "      <td>Yes</td>\n",
              "      <td>Yes</td>\n",
              "      <td>Yes</td>\n",
              "      <td>Yes</td>\n",
              "      <td>No</td>\n",
              "      <td>No</td>\n",
              "      <td>NaN</td>\n",
              "    </tr>\n",
              "    <tr>\n",
              "      <th>3</th>\n",
              "      <td>2014-08-27 11:29:46</td>\n",
              "      <td>31</td>\n",
              "      <td>Male</td>\n",
              "      <td>United Kingdom</td>\n",
              "      <td>NaN</td>\n",
              "      <td>NaN</td>\n",
              "      <td>Yes</td>\n",
              "      <td>Yes</td>\n",
              "      <td>Often</td>\n",
              "      <td>26-100</td>\n",
              "      <td>No</td>\n",
              "      <td>Yes</td>\n",
              "      <td>No</td>\n",
              "      <td>Yes</td>\n",
              "      <td>No</td>\n",
              "      <td>No</td>\n",
              "      <td>No</td>\n",
              "      <td>Somewhat difficult</td>\n",
              "      <td>Yes</td>\n",
              "      <td>Yes</td>\n",
              "      <td>Some of them</td>\n",
              "      <td>No</td>\n",
              "      <td>Maybe</td>\n",
              "      <td>Maybe</td>\n",
              "      <td>No</td>\n",
              "      <td>Yes</td>\n",
              "      <td>NaN</td>\n",
              "    </tr>\n",
              "    <tr>\n",
              "      <th>4</th>\n",
              "      <td>2014-08-27 11:30:22</td>\n",
              "      <td>31</td>\n",
              "      <td>Male</td>\n",
              "      <td>United States</td>\n",
              "      <td>TX</td>\n",
              "      <td>NaN</td>\n",
              "      <td>No</td>\n",
              "      <td>No</td>\n",
              "      <td>Never</td>\n",
              "      <td>100-500</td>\n",
              "      <td>Yes</td>\n",
              "      <td>Yes</td>\n",
              "      <td>Yes</td>\n",
              "      <td>No</td>\n",
              "      <td>Don't know</td>\n",
              "      <td>Don't know</td>\n",
              "      <td>Don't know</td>\n",
              "      <td>Don't know</td>\n",
              "      <td>No</td>\n",
              "      <td>No</td>\n",
              "      <td>Some of them</td>\n",
              "      <td>Yes</td>\n",
              "      <td>Yes</td>\n",
              "      <td>Yes</td>\n",
              "      <td>Don't know</td>\n",
              "      <td>No</td>\n",
              "      <td>NaN</td>\n",
              "    </tr>\n",
              "    <tr>\n",
              "      <th>...</th>\n",
              "      <td>...</td>\n",
              "      <td>...</td>\n",
              "      <td>...</td>\n",
              "      <td>...</td>\n",
              "      <td>...</td>\n",
              "      <td>...</td>\n",
              "      <td>...</td>\n",
              "      <td>...</td>\n",
              "      <td>...</td>\n",
              "      <td>...</td>\n",
              "      <td>...</td>\n",
              "      <td>...</td>\n",
              "      <td>...</td>\n",
              "      <td>...</td>\n",
              "      <td>...</td>\n",
              "      <td>...</td>\n",
              "      <td>...</td>\n",
              "      <td>...</td>\n",
              "      <td>...</td>\n",
              "      <td>...</td>\n",
              "      <td>...</td>\n",
              "      <td>...</td>\n",
              "      <td>...</td>\n",
              "      <td>...</td>\n",
              "      <td>...</td>\n",
              "      <td>...</td>\n",
              "      <td>...</td>\n",
              "    </tr>\n",
              "    <tr>\n",
              "      <th>1253</th>\n",
              "      <td>2015-08-25 19:59:38</td>\n",
              "      <td>36</td>\n",
              "      <td>Male</td>\n",
              "      <td>United States</td>\n",
              "      <td>UT</td>\n",
              "      <td>No</td>\n",
              "      <td>Yes</td>\n",
              "      <td>No</td>\n",
              "      <td>Rarely</td>\n",
              "      <td>More than 1000</td>\n",
              "      <td>No</td>\n",
              "      <td>No</td>\n",
              "      <td>Don't know</td>\n",
              "      <td>No</td>\n",
              "      <td>Yes</td>\n",
              "      <td>Yes</td>\n",
              "      <td>Don't know</td>\n",
              "      <td>Somewhat easy</td>\n",
              "      <td>Maybe</td>\n",
              "      <td>Maybe</td>\n",
              "      <td>Some of them</td>\n",
              "      <td>Some of them</td>\n",
              "      <td>No</td>\n",
              "      <td>No</td>\n",
              "      <td>Don't know</td>\n",
              "      <td>No</td>\n",
              "      <td>NaN</td>\n",
              "    </tr>\n",
              "    <tr>\n",
              "      <th>1254</th>\n",
              "      <td>2015-09-12 11:17:21</td>\n",
              "      <td>26</td>\n",
              "      <td>male</td>\n",
              "      <td>United Kingdom</td>\n",
              "      <td>NaN</td>\n",
              "      <td>No</td>\n",
              "      <td>No</td>\n",
              "      <td>Yes</td>\n",
              "      <td>NaN</td>\n",
              "      <td>26-100</td>\n",
              "      <td>No</td>\n",
              "      <td>Yes</td>\n",
              "      <td>No</td>\n",
              "      <td>No</td>\n",
              "      <td>No</td>\n",
              "      <td>No</td>\n",
              "      <td>Don't know</td>\n",
              "      <td>Somewhat easy</td>\n",
              "      <td>No</td>\n",
              "      <td>No</td>\n",
              "      <td>Some of them</td>\n",
              "      <td>Some of them</td>\n",
              "      <td>No</td>\n",
              "      <td>No</td>\n",
              "      <td>Don't know</td>\n",
              "      <td>No</td>\n",
              "      <td>NaN</td>\n",
              "    </tr>\n",
              "    <tr>\n",
              "      <th>1255</th>\n",
              "      <td>2015-09-26 01:07:35</td>\n",
              "      <td>32</td>\n",
              "      <td>Male</td>\n",
              "      <td>United States</td>\n",
              "      <td>IL</td>\n",
              "      <td>No</td>\n",
              "      <td>Yes</td>\n",
              "      <td>Yes</td>\n",
              "      <td>Often</td>\n",
              "      <td>26-100</td>\n",
              "      <td>Yes</td>\n",
              "      <td>Yes</td>\n",
              "      <td>Yes</td>\n",
              "      <td>Yes</td>\n",
              "      <td>No</td>\n",
              "      <td>No</td>\n",
              "      <td>Yes</td>\n",
              "      <td>Somewhat difficult</td>\n",
              "      <td>No</td>\n",
              "      <td>No</td>\n",
              "      <td>Some of them</td>\n",
              "      <td>Yes</td>\n",
              "      <td>No</td>\n",
              "      <td>No</td>\n",
              "      <td>Yes</td>\n",
              "      <td>No</td>\n",
              "      <td>NaN</td>\n",
              "    </tr>\n",
              "    <tr>\n",
              "      <th>1256</th>\n",
              "      <td>2015-11-07 12:36:58</td>\n",
              "      <td>34</td>\n",
              "      <td>male</td>\n",
              "      <td>United States</td>\n",
              "      <td>CA</td>\n",
              "      <td>No</td>\n",
              "      <td>Yes</td>\n",
              "      <td>Yes</td>\n",
              "      <td>Sometimes</td>\n",
              "      <td>More than 1000</td>\n",
              "      <td>No</td>\n",
              "      <td>Yes</td>\n",
              "      <td>Yes</td>\n",
              "      <td>Yes</td>\n",
              "      <td>No</td>\n",
              "      <td>No</td>\n",
              "      <td>Don't know</td>\n",
              "      <td>Somewhat difficult</td>\n",
              "      <td>Yes</td>\n",
              "      <td>Yes</td>\n",
              "      <td>No</td>\n",
              "      <td>No</td>\n",
              "      <td>No</td>\n",
              "      <td>No</td>\n",
              "      <td>No</td>\n",
              "      <td>No</td>\n",
              "      <td>NaN</td>\n",
              "    </tr>\n",
              "    <tr>\n",
              "      <th>1257</th>\n",
              "      <td>2015-11-30 21:25:06</td>\n",
              "      <td>46</td>\n",
              "      <td>f</td>\n",
              "      <td>United States</td>\n",
              "      <td>NC</td>\n",
              "      <td>No</td>\n",
              "      <td>No</td>\n",
              "      <td>No</td>\n",
              "      <td>NaN</td>\n",
              "      <td>100-500</td>\n",
              "      <td>Yes</td>\n",
              "      <td>Yes</td>\n",
              "      <td>No</td>\n",
              "      <td>Yes</td>\n",
              "      <td>No</td>\n",
              "      <td>No</td>\n",
              "      <td>Don't know</td>\n",
              "      <td>Don't know</td>\n",
              "      <td>Yes</td>\n",
              "      <td>No</td>\n",
              "      <td>No</td>\n",
              "      <td>No</td>\n",
              "      <td>No</td>\n",
              "      <td>No</td>\n",
              "      <td>No</td>\n",
              "      <td>No</td>\n",
              "      <td>NaN</td>\n",
              "    </tr>\n",
              "  </tbody>\n",
              "</table>\n",
              "<p>1258 rows × 27 columns</p>\n",
              "</div>"
            ],
            "text/plain": [
              "                Timestamp  Age  ... obs_consequence comments\n",
              "0     2014-08-27 11:29:31   37  ...              No      NaN\n",
              "1     2014-08-27 11:29:37   44  ...              No      NaN\n",
              "2     2014-08-27 11:29:44   32  ...              No      NaN\n",
              "3     2014-08-27 11:29:46   31  ...             Yes      NaN\n",
              "4     2014-08-27 11:30:22   31  ...              No      NaN\n",
              "...                   ...  ...  ...             ...      ...\n",
              "1253  2015-08-25 19:59:38   36  ...              No      NaN\n",
              "1254  2015-09-12 11:17:21   26  ...              No      NaN\n",
              "1255  2015-09-26 01:07:35   32  ...              No      NaN\n",
              "1256  2015-11-07 12:36:58   34  ...              No      NaN\n",
              "1257  2015-11-30 21:25:06   46  ...              No      NaN\n",
              "\n",
              "[1258 rows x 27 columns]"
            ]
          },
          "metadata": {
            "tags": []
          },
          "execution_count": 4
        }
      ]
    },
    {
      "cell_type": "code",
      "metadata": {
        "colab": {
          "base_uri": "https://localhost:8080/"
        },
        "id": "digital-ivory",
        "outputId": "e3509dbb-f2dd-4c63-f67b-0aa5a67489f8"
      },
      "source": [
        "df['Age'].describe()"
      ],
      "id": "digital-ivory",
      "execution_count": 5,
      "outputs": [
        {
          "output_type": "execute_result",
          "data": {
            "text/plain": [
              "count    1.259000e+03\n",
              "mean     7.942815e+07\n",
              "std      2.818299e+09\n",
              "min     -1.726000e+03\n",
              "25%      2.700000e+01\n",
              "50%      3.100000e+01\n",
              "75%      3.600000e+01\n",
              "max      1.000000e+11\n",
              "Name: Age, dtype: float64"
            ]
          },
          "metadata": {
            "tags": []
          },
          "execution_count": 5
        }
      ]
    },
    {
      "cell_type": "code",
      "metadata": {
        "colab": {
          "base_uri": "https://localhost:8080/"
        },
        "id": "super-colonial",
        "outputId": "01a7fc4c-a8f9-4ac2-d968-776f9cda84cb"
      },
      "source": [
        "df.isnull().sum()"
      ],
      "id": "super-colonial",
      "execution_count": 6,
      "outputs": [
        {
          "output_type": "execute_result",
          "data": {
            "text/plain": [
              "Timestamp                       0\n",
              "Age                             0\n",
              "Gender                          0\n",
              "Country                         0\n",
              "state                         515\n",
              "self_employed                  18\n",
              "family_history                  0\n",
              "treatment                       0\n",
              "work_interfere                264\n",
              "no_employees                    0\n",
              "remote_work                     0\n",
              "tech_company                    0\n",
              "benefits                        0\n",
              "care_options                    0\n",
              "wellness_program                0\n",
              "seek_help                       0\n",
              "anonymity                       0\n",
              "leave                           0\n",
              "mental_health_consequence       0\n",
              "phys_health_consequence         0\n",
              "coworkers                       0\n",
              "supervisor                      0\n",
              "mental_health_interview         0\n",
              "phys_health_interview           0\n",
              "mental_vs_physical              0\n",
              "obs_consequence                 0\n",
              "comments                     1095\n",
              "dtype: int64"
            ]
          },
          "metadata": {
            "tags": []
          },
          "execution_count": 6
        }
      ]
    },
    {
      "cell_type": "markdown",
      "metadata": {
        "id": "ZAv_8Nvy6CaH"
      },
      "source": [
        "### Дропаем переменные (страна, штат, дата и время прохождения опроса, дополнительные комментарии), которые не относятся напрямую к вопросам о депрессии. "
      ],
      "id": "ZAv_8Nvy6CaH"
    },
    {
      "cell_type": "code",
      "metadata": {
        "id": "loose-aurora"
      },
      "source": [
        "df = df.drop(['Country', 'state', 'Timestamp', 'comments'], axis = 1)"
      ],
      "id": "loose-aurora",
      "execution_count": 7,
      "outputs": []
    },
    {
      "cell_type": "markdown",
      "metadata": {
        "id": "IgLCLM206bfW"
      },
      "source": [
        "### Далее изучем наши переменные. \n",
        "Заменяем NaN средними или самыми популярными значениями. \n",
        "Переделываем качественные переменные в категориальные."
      ],
      "id": "IgLCLM206bfW"
    },
    {
      "cell_type": "code",
      "metadata": {
        "colab": {
          "base_uri": "https://localhost:8080/"
        },
        "id": "generous-registration",
        "outputId": "5c9877d6-a556-40bb-e273-9b311be985c3"
      },
      "source": [
        "df['work_interfere'].value_counts()"
      ],
      "id": "generous-registration",
      "execution_count": 8,
      "outputs": [
        {
          "output_type": "execute_result",
          "data": {
            "text/plain": [
              "Sometimes    465\n",
              "Never        213\n",
              "Rarely       173\n",
              "Often        144\n",
              "Name: work_interfere, dtype: int64"
            ]
          },
          "metadata": {
            "tags": []
          },
          "execution_count": 8
        }
      ]
    },
    {
      "cell_type": "code",
      "metadata": {
        "colab": {
          "base_uri": "https://localhost:8080/"
        },
        "id": "intelligent-hamilton",
        "outputId": "631a7620-f6ec-4118-dc80-519fc18a9f34"
      },
      "source": [
        "df = df.fillna({'work_interfere': 'Затрудняюсь ответить'})\n",
        "df.isnull().sum()"
      ],
      "id": "intelligent-hamilton",
      "execution_count": 9,
      "outputs": [
        {
          "output_type": "execute_result",
          "data": {
            "text/plain": [
              "Age                           0\n",
              "Gender                        0\n",
              "self_employed                18\n",
              "family_history                0\n",
              "treatment                     0\n",
              "work_interfere                0\n",
              "no_employees                  0\n",
              "remote_work                   0\n",
              "tech_company                  0\n",
              "benefits                      0\n",
              "care_options                  0\n",
              "wellness_program              0\n",
              "seek_help                     0\n",
              "anonymity                     0\n",
              "leave                         0\n",
              "mental_health_consequence     0\n",
              "phys_health_consequence       0\n",
              "coworkers                     0\n",
              "supervisor                    0\n",
              "mental_health_interview       0\n",
              "phys_health_interview         0\n",
              "mental_vs_physical            0\n",
              "obs_consequence               0\n",
              "dtype: int64"
            ]
          },
          "metadata": {
            "tags": []
          },
          "execution_count": 9
        }
      ]
    },
    {
      "cell_type": "code",
      "metadata": {
        "colab": {
          "base_uri": "https://localhost:8080/"
        },
        "id": "prompt-operation",
        "outputId": "52a98f3b-cc14-46a5-ea3a-537fc32d49ac"
      },
      "source": [
        "df['self_employed'].value_counts()"
      ],
      "id": "prompt-operation",
      "execution_count": 10,
      "outputs": [
        {
          "output_type": "execute_result",
          "data": {
            "text/plain": [
              "No     1095\n",
              "Yes     146\n",
              "Name: self_employed, dtype: int64"
            ]
          },
          "metadata": {
            "tags": []
          },
          "execution_count": 10
        }
      ]
    },
    {
      "cell_type": "code",
      "metadata": {
        "colab": {
          "base_uri": "https://localhost:8080/"
        },
        "id": "naked-thesaurus",
        "outputId": "cd8719d4-e71a-4ddf-d34d-a6d2256af58a"
      },
      "source": [
        "df = df.fillna({'self_employed': 'No'})\n",
        "df.isnull().sum()"
      ],
      "id": "naked-thesaurus",
      "execution_count": 11,
      "outputs": [
        {
          "output_type": "execute_result",
          "data": {
            "text/plain": [
              "Age                          0\n",
              "Gender                       0\n",
              "self_employed                0\n",
              "family_history               0\n",
              "treatment                    0\n",
              "work_interfere               0\n",
              "no_employees                 0\n",
              "remote_work                  0\n",
              "tech_company                 0\n",
              "benefits                     0\n",
              "care_options                 0\n",
              "wellness_program             0\n",
              "seek_help                    0\n",
              "anonymity                    0\n",
              "leave                        0\n",
              "mental_health_consequence    0\n",
              "phys_health_consequence      0\n",
              "coworkers                    0\n",
              "supervisor                   0\n",
              "mental_health_interview      0\n",
              "phys_health_interview        0\n",
              "mental_vs_physical           0\n",
              "obs_consequence              0\n",
              "dtype: int64"
            ]
          },
          "metadata": {
            "tags": []
          },
          "execution_count": 11
        }
      ]
    },
    {
      "cell_type": "code",
      "metadata": {
        "colab": {
          "base_uri": "https://localhost:8080/",
          "height": 309
        },
        "id": "special-remainder",
        "outputId": "60cfd188-9229-4930-ab1d-3f42e37bceee"
      },
      "source": [
        "df.head()"
      ],
      "id": "special-remainder",
      "execution_count": 12,
      "outputs": [
        {
          "output_type": "execute_result",
          "data": {
            "text/html": [
              "<div>\n",
              "<style scoped>\n",
              "    .dataframe tbody tr th:only-of-type {\n",
              "        vertical-align: middle;\n",
              "    }\n",
              "\n",
              "    .dataframe tbody tr th {\n",
              "        vertical-align: top;\n",
              "    }\n",
              "\n",
              "    .dataframe thead th {\n",
              "        text-align: right;\n",
              "    }\n",
              "</style>\n",
              "<table border=\"1\" class=\"dataframe\">\n",
              "  <thead>\n",
              "    <tr style=\"text-align: right;\">\n",
              "      <th></th>\n",
              "      <th>Age</th>\n",
              "      <th>Gender</th>\n",
              "      <th>self_employed</th>\n",
              "      <th>family_history</th>\n",
              "      <th>treatment</th>\n",
              "      <th>work_interfere</th>\n",
              "      <th>no_employees</th>\n",
              "      <th>remote_work</th>\n",
              "      <th>tech_company</th>\n",
              "      <th>benefits</th>\n",
              "      <th>care_options</th>\n",
              "      <th>wellness_program</th>\n",
              "      <th>seek_help</th>\n",
              "      <th>anonymity</th>\n",
              "      <th>leave</th>\n",
              "      <th>mental_health_consequence</th>\n",
              "      <th>phys_health_consequence</th>\n",
              "      <th>coworkers</th>\n",
              "      <th>supervisor</th>\n",
              "      <th>mental_health_interview</th>\n",
              "      <th>phys_health_interview</th>\n",
              "      <th>mental_vs_physical</th>\n",
              "      <th>obs_consequence</th>\n",
              "    </tr>\n",
              "  </thead>\n",
              "  <tbody>\n",
              "    <tr>\n",
              "      <th>0</th>\n",
              "      <td>37</td>\n",
              "      <td>Female</td>\n",
              "      <td>No</td>\n",
              "      <td>No</td>\n",
              "      <td>Yes</td>\n",
              "      <td>Often</td>\n",
              "      <td>6-25</td>\n",
              "      <td>No</td>\n",
              "      <td>Yes</td>\n",
              "      <td>Yes</td>\n",
              "      <td>Not sure</td>\n",
              "      <td>No</td>\n",
              "      <td>Yes</td>\n",
              "      <td>Yes</td>\n",
              "      <td>Somewhat easy</td>\n",
              "      <td>No</td>\n",
              "      <td>No</td>\n",
              "      <td>Some of them</td>\n",
              "      <td>Yes</td>\n",
              "      <td>No</td>\n",
              "      <td>Maybe</td>\n",
              "      <td>Yes</td>\n",
              "      <td>No</td>\n",
              "    </tr>\n",
              "    <tr>\n",
              "      <th>1</th>\n",
              "      <td>44</td>\n",
              "      <td>M</td>\n",
              "      <td>No</td>\n",
              "      <td>No</td>\n",
              "      <td>No</td>\n",
              "      <td>Rarely</td>\n",
              "      <td>More than 1000</td>\n",
              "      <td>No</td>\n",
              "      <td>No</td>\n",
              "      <td>Don't know</td>\n",
              "      <td>No</td>\n",
              "      <td>Don't know</td>\n",
              "      <td>Don't know</td>\n",
              "      <td>Don't know</td>\n",
              "      <td>Don't know</td>\n",
              "      <td>Maybe</td>\n",
              "      <td>No</td>\n",
              "      <td>No</td>\n",
              "      <td>No</td>\n",
              "      <td>No</td>\n",
              "      <td>No</td>\n",
              "      <td>Don't know</td>\n",
              "      <td>No</td>\n",
              "    </tr>\n",
              "    <tr>\n",
              "      <th>2</th>\n",
              "      <td>32</td>\n",
              "      <td>Male</td>\n",
              "      <td>No</td>\n",
              "      <td>No</td>\n",
              "      <td>No</td>\n",
              "      <td>Rarely</td>\n",
              "      <td>6-25</td>\n",
              "      <td>No</td>\n",
              "      <td>Yes</td>\n",
              "      <td>No</td>\n",
              "      <td>No</td>\n",
              "      <td>No</td>\n",
              "      <td>No</td>\n",
              "      <td>Don't know</td>\n",
              "      <td>Somewhat difficult</td>\n",
              "      <td>No</td>\n",
              "      <td>No</td>\n",
              "      <td>Yes</td>\n",
              "      <td>Yes</td>\n",
              "      <td>Yes</td>\n",
              "      <td>Yes</td>\n",
              "      <td>No</td>\n",
              "      <td>No</td>\n",
              "    </tr>\n",
              "    <tr>\n",
              "      <th>3</th>\n",
              "      <td>31</td>\n",
              "      <td>Male</td>\n",
              "      <td>No</td>\n",
              "      <td>Yes</td>\n",
              "      <td>Yes</td>\n",
              "      <td>Often</td>\n",
              "      <td>26-100</td>\n",
              "      <td>No</td>\n",
              "      <td>Yes</td>\n",
              "      <td>No</td>\n",
              "      <td>Yes</td>\n",
              "      <td>No</td>\n",
              "      <td>No</td>\n",
              "      <td>No</td>\n",
              "      <td>Somewhat difficult</td>\n",
              "      <td>Yes</td>\n",
              "      <td>Yes</td>\n",
              "      <td>Some of them</td>\n",
              "      <td>No</td>\n",
              "      <td>Maybe</td>\n",
              "      <td>Maybe</td>\n",
              "      <td>No</td>\n",
              "      <td>Yes</td>\n",
              "    </tr>\n",
              "    <tr>\n",
              "      <th>4</th>\n",
              "      <td>31</td>\n",
              "      <td>Male</td>\n",
              "      <td>No</td>\n",
              "      <td>No</td>\n",
              "      <td>No</td>\n",
              "      <td>Never</td>\n",
              "      <td>100-500</td>\n",
              "      <td>Yes</td>\n",
              "      <td>Yes</td>\n",
              "      <td>Yes</td>\n",
              "      <td>No</td>\n",
              "      <td>Don't know</td>\n",
              "      <td>Don't know</td>\n",
              "      <td>Don't know</td>\n",
              "      <td>Don't know</td>\n",
              "      <td>No</td>\n",
              "      <td>No</td>\n",
              "      <td>Some of them</td>\n",
              "      <td>Yes</td>\n",
              "      <td>Yes</td>\n",
              "      <td>Yes</td>\n",
              "      <td>Don't know</td>\n",
              "      <td>No</td>\n",
              "    </tr>\n",
              "  </tbody>\n",
              "</table>\n",
              "</div>"
            ],
            "text/plain": [
              "   Age  Gender  ... mental_vs_physical obs_consequence\n",
              "0   37  Female  ...                Yes              No\n",
              "1   44       M  ...         Don't know              No\n",
              "2   32    Male  ...                 No              No\n",
              "3   31    Male  ...                 No             Yes\n",
              "4   31    Male  ...         Don't know              No\n",
              "\n",
              "[5 rows x 23 columns]"
            ]
          },
          "metadata": {
            "tags": []
          },
          "execution_count": 12
        }
      ]
    },
    {
      "cell_type": "code",
      "metadata": {
        "scrolled": true,
        "colab": {
          "base_uri": "https://localhost:8080/"
        },
        "id": "moral-correspondence",
        "outputId": "45f05090-b5c4-429e-d793-34f2cf10e0e9"
      },
      "source": [
        "df['Gender'].value_counts()"
      ],
      "id": "moral-correspondence",
      "execution_count": 13,
      "outputs": [
        {
          "output_type": "execute_result",
          "data": {
            "text/plain": [
              "Male                                              615\n",
              "male                                              206\n",
              "Female                                            121\n",
              "M                                                 116\n",
              "female                                             62\n",
              "F                                                  38\n",
              "m                                                  34\n",
              "f                                                  15\n",
              "Make                                                4\n",
              "Woman                                               3\n",
              "Male                                                3\n",
              "Female (trans)                                      2\n",
              "Man                                                 2\n",
              "Female                                              2\n",
              "Cis Male                                            2\n",
              "cis-female/femme                                    1\n",
              "Male (CIS)                                          1\n",
              "maile                                               1\n",
              "Genderqueer                                         1\n",
              "Cis Female                                          1\n",
              "male leaning androgynous                            1\n",
              "Androgyne                                           1\n",
              "Mail                                                1\n",
              "Male-ish                                            1\n",
              "fluid                                               1\n",
              "Malr                                                1\n",
              "Neuter                                              1\n",
              "Female (cis)                                        1\n",
              "Mal                                                 1\n",
              "Femake                                              1\n",
              "msle                                                1\n",
              "Cis Man                                             1\n",
              "ostensibly male, unsure what that really means      1\n",
              "woman                                               1\n",
              "Guy (-ish) ^_^                                      1\n",
              "Trans-female                                        1\n",
              "cis male                                            1\n",
              "queer/she/they                                      1\n",
              "Agender                                             1\n",
              "All                                                 1\n",
              "queer                                               1\n",
              "Enby                                                1\n",
              "Nah                                                 1\n",
              "A little about you                                  1\n",
              "p                                                   1\n",
              "femail                                              1\n",
              "non-binary                                          1\n",
              "Trans woman                                         1\n",
              "something kinda male?                               1\n",
              "Name: Gender, dtype: int64"
            ]
          },
          "metadata": {
            "tags": []
          },
          "execution_count": 13
        }
      ]
    },
    {
      "cell_type": "code",
      "metadata": {
        "id": "champion-morris"
      },
      "source": [
        "df['Gender'].replace(['Male', 'male', 'M', 'm', 'Make', 'Male ', 'Cis Male', 'Man', 'ostensibly male, unsure what that really means', 'maile', 'Malr', 'Cis Man', 'Male-ish', 'msle', 'Male (CIS)', 'Mal', 'Guy (-ish) ^_^', 'Mail', 'cis male'], 'Male', inplace = True)\n",
        "df['Gender'].replace(['Female', 'female', 'F', 'f', 'Woman', 'Female ', 'Female (trans)', 'Trans-female', 'cis-female/femme', 'Trans woman', 'Female (cis)', 'femail', 'Femake', 'Cis Female', 'woman'], 'Female', inplace=True)\n",
        "df['Gender'].replace(['fluid', 'Enby', 'male leaning androgynous', 'Neuter', 'queer', 'p', 'something kinda male?', 'non-binary', 'Genderqueer', 'Androgyne', 'A little about you', 'All', 'Agender', 'Nah', 'queer/she/they'], 'Non-binary', inplace=True)"
      ],
      "id": "champion-morris",
      "execution_count": 14,
      "outputs": []
    },
    {
      "cell_type": "code",
      "metadata": {
        "colab": {
          "base_uri": "https://localhost:8080/"
        },
        "id": "roman-dream",
        "outputId": "99f2f4ab-cb27-468f-dd2c-0281aa4b25ad"
      },
      "source": [
        "df['Gender'].value_counts()"
      ],
      "id": "roman-dream",
      "execution_count": 15,
      "outputs": [
        {
          "output_type": "execute_result",
          "data": {
            "text/plain": [
              "Male          993\n",
              "Female        251\n",
              "Non-binary     15\n",
              "Name: Gender, dtype: int64"
            ]
          },
          "metadata": {
            "tags": []
          },
          "execution_count": 15
        }
      ]
    },
    {
      "cell_type": "code",
      "metadata": {
        "colab": {
          "base_uri": "https://localhost:8080/",
          "height": 309
        },
        "id": "identical-wisconsin",
        "outputId": "2d45bada-fe6c-4857-f658-06763df882d7"
      },
      "source": [
        "df.head()"
      ],
      "id": "identical-wisconsin",
      "execution_count": 16,
      "outputs": [
        {
          "output_type": "execute_result",
          "data": {
            "text/html": [
              "<div>\n",
              "<style scoped>\n",
              "    .dataframe tbody tr th:only-of-type {\n",
              "        vertical-align: middle;\n",
              "    }\n",
              "\n",
              "    .dataframe tbody tr th {\n",
              "        vertical-align: top;\n",
              "    }\n",
              "\n",
              "    .dataframe thead th {\n",
              "        text-align: right;\n",
              "    }\n",
              "</style>\n",
              "<table border=\"1\" class=\"dataframe\">\n",
              "  <thead>\n",
              "    <tr style=\"text-align: right;\">\n",
              "      <th></th>\n",
              "      <th>Age</th>\n",
              "      <th>Gender</th>\n",
              "      <th>self_employed</th>\n",
              "      <th>family_history</th>\n",
              "      <th>treatment</th>\n",
              "      <th>work_interfere</th>\n",
              "      <th>no_employees</th>\n",
              "      <th>remote_work</th>\n",
              "      <th>tech_company</th>\n",
              "      <th>benefits</th>\n",
              "      <th>care_options</th>\n",
              "      <th>wellness_program</th>\n",
              "      <th>seek_help</th>\n",
              "      <th>anonymity</th>\n",
              "      <th>leave</th>\n",
              "      <th>mental_health_consequence</th>\n",
              "      <th>phys_health_consequence</th>\n",
              "      <th>coworkers</th>\n",
              "      <th>supervisor</th>\n",
              "      <th>mental_health_interview</th>\n",
              "      <th>phys_health_interview</th>\n",
              "      <th>mental_vs_physical</th>\n",
              "      <th>obs_consequence</th>\n",
              "    </tr>\n",
              "  </thead>\n",
              "  <tbody>\n",
              "    <tr>\n",
              "      <th>0</th>\n",
              "      <td>37</td>\n",
              "      <td>Female</td>\n",
              "      <td>No</td>\n",
              "      <td>No</td>\n",
              "      <td>Yes</td>\n",
              "      <td>Often</td>\n",
              "      <td>6-25</td>\n",
              "      <td>No</td>\n",
              "      <td>Yes</td>\n",
              "      <td>Yes</td>\n",
              "      <td>Not sure</td>\n",
              "      <td>No</td>\n",
              "      <td>Yes</td>\n",
              "      <td>Yes</td>\n",
              "      <td>Somewhat easy</td>\n",
              "      <td>No</td>\n",
              "      <td>No</td>\n",
              "      <td>Some of them</td>\n",
              "      <td>Yes</td>\n",
              "      <td>No</td>\n",
              "      <td>Maybe</td>\n",
              "      <td>Yes</td>\n",
              "      <td>No</td>\n",
              "    </tr>\n",
              "    <tr>\n",
              "      <th>1</th>\n",
              "      <td>44</td>\n",
              "      <td>Male</td>\n",
              "      <td>No</td>\n",
              "      <td>No</td>\n",
              "      <td>No</td>\n",
              "      <td>Rarely</td>\n",
              "      <td>More than 1000</td>\n",
              "      <td>No</td>\n",
              "      <td>No</td>\n",
              "      <td>Don't know</td>\n",
              "      <td>No</td>\n",
              "      <td>Don't know</td>\n",
              "      <td>Don't know</td>\n",
              "      <td>Don't know</td>\n",
              "      <td>Don't know</td>\n",
              "      <td>Maybe</td>\n",
              "      <td>No</td>\n",
              "      <td>No</td>\n",
              "      <td>No</td>\n",
              "      <td>No</td>\n",
              "      <td>No</td>\n",
              "      <td>Don't know</td>\n",
              "      <td>No</td>\n",
              "    </tr>\n",
              "    <tr>\n",
              "      <th>2</th>\n",
              "      <td>32</td>\n",
              "      <td>Male</td>\n",
              "      <td>No</td>\n",
              "      <td>No</td>\n",
              "      <td>No</td>\n",
              "      <td>Rarely</td>\n",
              "      <td>6-25</td>\n",
              "      <td>No</td>\n",
              "      <td>Yes</td>\n",
              "      <td>No</td>\n",
              "      <td>No</td>\n",
              "      <td>No</td>\n",
              "      <td>No</td>\n",
              "      <td>Don't know</td>\n",
              "      <td>Somewhat difficult</td>\n",
              "      <td>No</td>\n",
              "      <td>No</td>\n",
              "      <td>Yes</td>\n",
              "      <td>Yes</td>\n",
              "      <td>Yes</td>\n",
              "      <td>Yes</td>\n",
              "      <td>No</td>\n",
              "      <td>No</td>\n",
              "    </tr>\n",
              "    <tr>\n",
              "      <th>3</th>\n",
              "      <td>31</td>\n",
              "      <td>Male</td>\n",
              "      <td>No</td>\n",
              "      <td>Yes</td>\n",
              "      <td>Yes</td>\n",
              "      <td>Often</td>\n",
              "      <td>26-100</td>\n",
              "      <td>No</td>\n",
              "      <td>Yes</td>\n",
              "      <td>No</td>\n",
              "      <td>Yes</td>\n",
              "      <td>No</td>\n",
              "      <td>No</td>\n",
              "      <td>No</td>\n",
              "      <td>Somewhat difficult</td>\n",
              "      <td>Yes</td>\n",
              "      <td>Yes</td>\n",
              "      <td>Some of them</td>\n",
              "      <td>No</td>\n",
              "      <td>Maybe</td>\n",
              "      <td>Maybe</td>\n",
              "      <td>No</td>\n",
              "      <td>Yes</td>\n",
              "    </tr>\n",
              "    <tr>\n",
              "      <th>4</th>\n",
              "      <td>31</td>\n",
              "      <td>Male</td>\n",
              "      <td>No</td>\n",
              "      <td>No</td>\n",
              "      <td>No</td>\n",
              "      <td>Never</td>\n",
              "      <td>100-500</td>\n",
              "      <td>Yes</td>\n",
              "      <td>Yes</td>\n",
              "      <td>Yes</td>\n",
              "      <td>No</td>\n",
              "      <td>Don't know</td>\n",
              "      <td>Don't know</td>\n",
              "      <td>Don't know</td>\n",
              "      <td>Don't know</td>\n",
              "      <td>No</td>\n",
              "      <td>No</td>\n",
              "      <td>Some of them</td>\n",
              "      <td>Yes</td>\n",
              "      <td>Yes</td>\n",
              "      <td>Yes</td>\n",
              "      <td>Don't know</td>\n",
              "      <td>No</td>\n",
              "    </tr>\n",
              "  </tbody>\n",
              "</table>\n",
              "</div>"
            ],
            "text/plain": [
              "   Age  Gender  ... mental_vs_physical obs_consequence\n",
              "0   37  Female  ...                Yes              No\n",
              "1   44    Male  ...         Don't know              No\n",
              "2   32    Male  ...                 No              No\n",
              "3   31    Male  ...                 No             Yes\n",
              "4   31    Male  ...         Don't know              No\n",
              "\n",
              "[5 rows x 23 columns]"
            ]
          },
          "metadata": {
            "tags": []
          },
          "execution_count": 16
        }
      ]
    },
    {
      "cell_type": "code",
      "metadata": {
        "colab": {
          "base_uri": "https://localhost:8080/",
          "height": 334
        },
        "id": "vanilla-sample",
        "outputId": "aa659a42-ecc5-4bb6-88f8-7b9a0ca68472"
      },
      "source": [
        "plt.figure(figsize=(10, 5))\n",
        "sns.set_style('whitegrid') \n",
        "sns.countplot(x='treatment', palette = \"BrBG\", data=df);"
      ],
      "id": "vanilla-sample",
      "execution_count": 91,
      "outputs": [
        {
          "output_type": "display_data",
          "data": {
            "image/png": "[encoded data removed]",
            "text/plain": [
              "<Figure size 720x360 with 1 Axes>"
            ]
          },
          "metadata": {
            "tags": []
          }
        }
      ]
    },
    {
      "cell_type": "code",
      "metadata": {
        "colab": {
          "base_uri": "https://localhost:8080/"
        },
        "id": "heated-alcohol",
        "outputId": "371d5872-0754-408c-fae0-f7202222cdf4"
      },
      "source": [
        "df['Age'].value_counts()"
      ],
      "id": "heated-alcohol",
      "execution_count": 18,
      "outputs": [
        {
          "output_type": "execute_result",
          "data": {
            "text/plain": [
              " 29             85\n",
              " 32             82\n",
              " 26             75\n",
              " 27             71\n",
              " 33             70\n",
              " 28             68\n",
              " 31             67\n",
              " 34             65\n",
              " 30             63\n",
              " 25             61\n",
              " 35             55\n",
              " 23             51\n",
              " 24             46\n",
              " 37             43\n",
              " 38             39\n",
              " 36             37\n",
              " 39             33\n",
              " 40             33\n",
              " 43             28\n",
              " 41             21\n",
              " 22             21\n",
              " 42             20\n",
              " 21             16\n",
              " 45             12\n",
              " 46             12\n",
              " 44             11\n",
              " 19              9\n",
              " 18              7\n",
              " 20              6\n",
              " 48              6\n",
              " 50              6\n",
              " 51              5\n",
              " 56              4\n",
              " 49              4\n",
              " 57              3\n",
              " 54              3\n",
              " 55              3\n",
              " 47              2\n",
              " 60              2\n",
              " 11              1\n",
              " 8               1\n",
              " 5               1\n",
              " 99999999999     1\n",
              "-1726            1\n",
              " 53              1\n",
              " 58              1\n",
              " 61              1\n",
              " 62              1\n",
              " 65              1\n",
              " 72              1\n",
              " 329             1\n",
              "-29              1\n",
              "-1               1\n",
              "Name: Age, dtype: int64"
            ]
          },
          "metadata": {
            "tags": []
          },
          "execution_count": 18
        }
      ]
    },
    {
      "cell_type": "code",
      "metadata": {
        "id": "extensive-tender"
      },
      "source": [
        "df['Age'].replace([df['Age'][df['Age'] < 18]], np.nan, inplace = True)\n",
        "df['Age'].replace([df['Age'][df['Age'] >100]], np.nan, inplace = True)"
      ],
      "id": "extensive-tender",
      "execution_count": 19,
      "outputs": []
    },
    {
      "cell_type": "code",
      "metadata": {
        "colab": {
          "base_uri": "https://localhost:8080/"
        },
        "id": "worse-sugar",
        "outputId": "89218a9e-b887-4c51-b1d9-7ed47a0e36ed"
      },
      "source": [
        "df['Age'].mean()"
      ],
      "id": "worse-sugar",
      "execution_count": 20,
      "outputs": [
        {
          "output_type": "execute_result",
          "data": {
            "text/plain": [
              "32.07673860911271"
            ]
          },
          "metadata": {
            "tags": []
          },
          "execution_count": 20
        }
      ]
    },
    {
      "cell_type": "code",
      "metadata": {
        "id": "fancy-shape"
      },
      "source": [
        "df = df.fillna({'Age': 32})"
      ],
      "id": "fancy-shape",
      "execution_count": 21,
      "outputs": []
    },
    {
      "cell_type": "code",
      "metadata": {
        "colab": {
          "base_uri": "https://localhost:8080/"
        },
        "id": "obvious-accessory",
        "outputId": "9a382a62-4ab6-4069-dd72-0553f6b09535"
      },
      "source": [
        "Self_employed_mapping = {\"No\": 0, \"Yes\": 1}\n",
        "df['self_employed'] = df['self_employed'].map(Self_employed_mapping)\n",
        "df['self_employed'].value_counts()"
      ],
      "id": "obvious-accessory",
      "execution_count": 23,
      "outputs": [
        {
          "output_type": "execute_result",
          "data": {
            "text/plain": [
              "0    1113\n",
              "1     146\n",
              "Name: self_employed, dtype: int64"
            ]
          },
          "metadata": {
            "tags": []
          },
          "execution_count": 23
        }
      ]
    },
    {
      "cell_type": "code",
      "metadata": {
        "colab": {
          "base_uri": "https://localhost:8080/"
        },
        "id": "interested-storage",
        "outputId": "1625772b-622b-476e-8ab7-dcd9d197809c"
      },
      "source": [
        "Family_history_mapping = {\"No\": 0, \"Yes\": 1}\n",
        "df['family_history'] = df['family_history'].map(Family_history_mapping)\n",
        "df['family_history'].value_counts()"
      ],
      "id": "interested-storage",
      "execution_count": 24,
      "outputs": [
        {
          "output_type": "execute_result",
          "data": {
            "text/plain": [
              "0    767\n",
              "1    492\n",
              "Name: family_history, dtype: int64"
            ]
          },
          "metadata": {
            "tags": []
          },
          "execution_count": 24
        }
      ]
    },
    {
      "cell_type": "code",
      "metadata": {
        "colab": {
          "base_uri": "https://localhost:8080/"
        },
        "id": "legislative-dividend",
        "outputId": "bc13af16-7ef3-490c-ed60-c6c1f31914a7"
      },
      "source": [
        "Treatment_mapping = {\"No\": 0, \"Yes\": 1}\n",
        "df['treatment'] = df['treatment'].map(Treatment_mapping)\n",
        "df['treatment'].value_counts()"
      ],
      "id": "legislative-dividend",
      "execution_count": 25,
      "outputs": [
        {
          "output_type": "execute_result",
          "data": {
            "text/plain": [
              "1    637\n",
              "0    622\n",
              "Name: treatment, dtype: int64"
            ]
          },
          "metadata": {
            "tags": []
          },
          "execution_count": 25
        }
      ]
    },
    {
      "cell_type": "code",
      "metadata": {
        "colab": {
          "base_uri": "https://localhost:8080/"
        },
        "id": "talented-medline",
        "outputId": "33f8cc45-a340-44dc-97b5-11b177c2a1e4"
      },
      "source": [
        "df['work_interfere'].value_counts()"
      ],
      "id": "talented-medline",
      "execution_count": 26,
      "outputs": [
        {
          "output_type": "execute_result",
          "data": {
            "text/plain": [
              "Sometimes               465\n",
              "Затрудняюсь ответить    264\n",
              "Never                   213\n",
              "Rarely                  173\n",
              "Often                   144\n",
              "Name: work_interfere, dtype: int64"
            ]
          },
          "metadata": {
            "tags": []
          },
          "execution_count": 26
        }
      ]
    },
    {
      "cell_type": "code",
      "metadata": {
        "colab": {
          "base_uri": "https://localhost:8080/"
        },
        "id": "published-realtor",
        "outputId": "3654726b-6ccc-4a3b-ff91-789a94f53a10"
      },
      "source": [
        "Work_inference_mapping = {\"Затрудняюсь ответить\": 0, \"Never\": 1, \"Rarely\": 2, \"Sometimes\": 3, \"Often\": 4}\n",
        "df['work_interfere'] = df['work_interfere'].map(Work_inference_mapping)\n",
        "df['work_interfere'].value_counts()"
      ],
      "id": "published-realtor",
      "execution_count": 27,
      "outputs": [
        {
          "output_type": "execute_result",
          "data": {
            "text/plain": [
              "3    465\n",
              "0    264\n",
              "1    213\n",
              "2    173\n",
              "4    144\n",
              "Name: work_interfere, dtype: int64"
            ]
          },
          "metadata": {
            "tags": []
          },
          "execution_count": 27
        }
      ]
    },
    {
      "cell_type": "code",
      "metadata": {
        "colab": {
          "base_uri": "https://localhost:8080/",
          "height": 309
        },
        "id": "smooth-singer",
        "outputId": "92e59586-f3c7-437d-8f91-d426e1c4b710"
      },
      "source": [
        "df.head()"
      ],
      "id": "smooth-singer",
      "execution_count": 28,
      "outputs": [
        {
          "output_type": "execute_result",
          "data": {
            "text/html": [
              "<div>\n",
              "<style scoped>\n",
              "    .dataframe tbody tr th:only-of-type {\n",
              "        vertical-align: middle;\n",
              "    }\n",
              "\n",
              "    .dataframe tbody tr th {\n",
              "        vertical-align: top;\n",
              "    }\n",
              "\n",
              "    .dataframe thead th {\n",
              "        text-align: right;\n",
              "    }\n",
              "</style>\n",
              "<table border=\"1\" class=\"dataframe\">\n",
              "  <thead>\n",
              "    <tr style=\"text-align: right;\">\n",
              "      <th></th>\n",
              "      <th>Age</th>\n",
              "      <th>Gender</th>\n",
              "      <th>self_employed</th>\n",
              "      <th>family_history</th>\n",
              "      <th>treatment</th>\n",
              "      <th>work_interfere</th>\n",
              "      <th>no_employees</th>\n",
              "      <th>remote_work</th>\n",
              "      <th>tech_company</th>\n",
              "      <th>benefits</th>\n",
              "      <th>care_options</th>\n",
              "      <th>wellness_program</th>\n",
              "      <th>seek_help</th>\n",
              "      <th>anonymity</th>\n",
              "      <th>leave</th>\n",
              "      <th>mental_health_consequence</th>\n",
              "      <th>phys_health_consequence</th>\n",
              "      <th>coworkers</th>\n",
              "      <th>supervisor</th>\n",
              "      <th>mental_health_interview</th>\n",
              "      <th>phys_health_interview</th>\n",
              "      <th>mental_vs_physical</th>\n",
              "      <th>obs_consequence</th>\n",
              "    </tr>\n",
              "  </thead>\n",
              "  <tbody>\n",
              "    <tr>\n",
              "      <th>0</th>\n",
              "      <td>37.0</td>\n",
              "      <td>Female</td>\n",
              "      <td>0</td>\n",
              "      <td>0</td>\n",
              "      <td>1</td>\n",
              "      <td>4</td>\n",
              "      <td>6-25</td>\n",
              "      <td>No</td>\n",
              "      <td>Yes</td>\n",
              "      <td>Yes</td>\n",
              "      <td>Not sure</td>\n",
              "      <td>No</td>\n",
              "      <td>Yes</td>\n",
              "      <td>Yes</td>\n",
              "      <td>Somewhat easy</td>\n",
              "      <td>No</td>\n",
              "      <td>No</td>\n",
              "      <td>Some of them</td>\n",
              "      <td>Yes</td>\n",
              "      <td>No</td>\n",
              "      <td>Maybe</td>\n",
              "      <td>Yes</td>\n",
              "      <td>No</td>\n",
              "    </tr>\n",
              "    <tr>\n",
              "      <th>1</th>\n",
              "      <td>44.0</td>\n",
              "      <td>Male</td>\n",
              "      <td>0</td>\n",
              "      <td>0</td>\n",
              "      <td>0</td>\n",
              "      <td>2</td>\n",
              "      <td>More than 1000</td>\n",
              "      <td>No</td>\n",
              "      <td>No</td>\n",
              "      <td>Don't know</td>\n",
              "      <td>No</td>\n",
              "      <td>Don't know</td>\n",
              "      <td>Don't know</td>\n",
              "      <td>Don't know</td>\n",
              "      <td>Don't know</td>\n",
              "      <td>Maybe</td>\n",
              "      <td>No</td>\n",
              "      <td>No</td>\n",
              "      <td>No</td>\n",
              "      <td>No</td>\n",
              "      <td>No</td>\n",
              "      <td>Don't know</td>\n",
              "      <td>No</td>\n",
              "    </tr>\n",
              "    <tr>\n",
              "      <th>2</th>\n",
              "      <td>32.0</td>\n",
              "      <td>Male</td>\n",
              "      <td>0</td>\n",
              "      <td>0</td>\n",
              "      <td>0</td>\n",
              "      <td>2</td>\n",
              "      <td>6-25</td>\n",
              "      <td>No</td>\n",
              "      <td>Yes</td>\n",
              "      <td>No</td>\n",
              "      <td>No</td>\n",
              "      <td>No</td>\n",
              "      <td>No</td>\n",
              "      <td>Don't know</td>\n",
              "      <td>Somewhat difficult</td>\n",
              "      <td>No</td>\n",
              "      <td>No</td>\n",
              "      <td>Yes</td>\n",
              "      <td>Yes</td>\n",
              "      <td>Yes</td>\n",
              "      <td>Yes</td>\n",
              "      <td>No</td>\n",
              "      <td>No</td>\n",
              "    </tr>\n",
              "    <tr>\n",
              "      <th>3</th>\n",
              "      <td>31.0</td>\n",
              "      <td>Male</td>\n",
              "      <td>0</td>\n",
              "      <td>1</td>\n",
              "      <td>1</td>\n",
              "      <td>4</td>\n",
              "      <td>26-100</td>\n",
              "      <td>No</td>\n",
              "      <td>Yes</td>\n",
              "      <td>No</td>\n",
              "      <td>Yes</td>\n",
              "      <td>No</td>\n",
              "      <td>No</td>\n",
              "      <td>No</td>\n",
              "      <td>Somewhat difficult</td>\n",
              "      <td>Yes</td>\n",
              "      <td>Yes</td>\n",
              "      <td>Some of them</td>\n",
              "      <td>No</td>\n",
              "      <td>Maybe</td>\n",
              "      <td>Maybe</td>\n",
              "      <td>No</td>\n",
              "      <td>Yes</td>\n",
              "    </tr>\n",
              "    <tr>\n",
              "      <th>4</th>\n",
              "      <td>31.0</td>\n",
              "      <td>Male</td>\n",
              "      <td>0</td>\n",
              "      <td>0</td>\n",
              "      <td>0</td>\n",
              "      <td>1</td>\n",
              "      <td>100-500</td>\n",
              "      <td>Yes</td>\n",
              "      <td>Yes</td>\n",
              "      <td>Yes</td>\n",
              "      <td>No</td>\n",
              "      <td>Don't know</td>\n",
              "      <td>Don't know</td>\n",
              "      <td>Don't know</td>\n",
              "      <td>Don't know</td>\n",
              "      <td>No</td>\n",
              "      <td>No</td>\n",
              "      <td>Some of them</td>\n",
              "      <td>Yes</td>\n",
              "      <td>Yes</td>\n",
              "      <td>Yes</td>\n",
              "      <td>Don't know</td>\n",
              "      <td>No</td>\n",
              "    </tr>\n",
              "  </tbody>\n",
              "</table>\n",
              "</div>"
            ],
            "text/plain": [
              "    Age  Gender  ...  mental_vs_physical  obs_consequence\n",
              "0  37.0  Female  ...                 Yes               No\n",
              "1  44.0    Male  ...          Don't know               No\n",
              "2  32.0    Male  ...                  No               No\n",
              "3  31.0    Male  ...                  No              Yes\n",
              "4  31.0    Male  ...          Don't know               No\n",
              "\n",
              "[5 rows x 23 columns]"
            ]
          },
          "metadata": {
            "tags": []
          },
          "execution_count": 28
        }
      ]
    },
    {
      "cell_type": "code",
      "metadata": {
        "colab": {
          "base_uri": "https://localhost:8080/"
        },
        "id": "designing-guide",
        "outputId": "72ff3468-f607-4cbf-9ca9-0c8e997467bd"
      },
      "source": [
        "df['no_employees'].value_counts()"
      ],
      "id": "designing-guide",
      "execution_count": 29,
      "outputs": [
        {
          "output_type": "execute_result",
          "data": {
            "text/plain": [
              "6-25              290\n",
              "26-100            289\n",
              "More than 1000    282\n",
              "100-500           176\n",
              "1-5               162\n",
              "500-1000           60\n",
              "Name: no_employees, dtype: int64"
            ]
          },
          "metadata": {
            "tags": []
          },
          "execution_count": 29
        }
      ]
    },
    {
      "cell_type": "code",
      "metadata": {
        "colab": {
          "base_uri": "https://localhost:8080/"
        },
        "id": "electrical-plant",
        "outputId": "e6545e4b-da5d-44c1-c0a9-9d772447ebde"
      },
      "source": [
        "No_employees_mapping = {\"1-5\": 0, \"6-25\": 1, \"26-100\": 2, \"100-500\": 3, \"500-1000\": 4, \"More than 1000\": 5}\n",
        "df['no_employees'] = df['no_employees'].map(No_employees_mapping)\n",
        "df['no_employees'].value_counts()"
      ],
      "id": "electrical-plant",
      "execution_count": 30,
      "outputs": [
        {
          "output_type": "execute_result",
          "data": {
            "text/plain": [
              "1    290\n",
              "2    289\n",
              "5    282\n",
              "3    176\n",
              "0    162\n",
              "4     60\n",
              "Name: no_employees, dtype: int64"
            ]
          },
          "metadata": {
            "tags": []
          },
          "execution_count": 30
        }
      ]
    },
    {
      "cell_type": "code",
      "metadata": {
        "colab": {
          "base_uri": "https://localhost:8080/"
        },
        "id": "great-afternoon",
        "outputId": "4631d3da-9d12-417a-8604-5b2f81ca07fe"
      },
      "source": [
        "df['benefits'].value_counts()"
      ],
      "id": "great-afternoon",
      "execution_count": 31,
      "outputs": [
        {
          "output_type": "execute_result",
          "data": {
            "text/plain": [
              "Yes           477\n",
              "Don't know    408\n",
              "No            374\n",
              "Name: benefits, dtype: int64"
            ]
          },
          "metadata": {
            "tags": []
          },
          "execution_count": 31
        }
      ]
    },
    {
      "cell_type": "code",
      "metadata": {
        "colab": {
          "base_uri": "https://localhost:8080/"
        },
        "id": "hundred-stomach",
        "outputId": "ef8c19f3-4679-40e3-ae62-315cf3c32ee0"
      },
      "source": [
        "Remote_work_mapping = {\"No\": 0, \"Yes\": 1}\n",
        "df['remote_work'] = df['remote_work'].map(Remote_work_mapping)\n",
        "df['remote_work'].value_counts()"
      ],
      "id": "hundred-stomach",
      "execution_count": 32,
      "outputs": [
        {
          "output_type": "execute_result",
          "data": {
            "text/plain": [
              "0    883\n",
              "1    376\n",
              "Name: remote_work, dtype: int64"
            ]
          },
          "metadata": {
            "tags": []
          },
          "execution_count": 32
        }
      ]
    },
    {
      "cell_type": "code",
      "metadata": {
        "colab": {
          "base_uri": "https://localhost:8080/"
        },
        "id": "focused-domain",
        "outputId": "06b52554-0309-484c-e716-86de4679004d"
      },
      "source": [
        "Tech_company_mapping = {\"No\": 0, \"Yes\": 1}\n",
        "df['tech_company'] = df['tech_company'].map(Tech_company_mapping)\n",
        "df['tech_company'].value_counts()"
      ],
      "id": "focused-domain",
      "execution_count": 33,
      "outputs": [
        {
          "output_type": "execute_result",
          "data": {
            "text/plain": [
              "1    1031\n",
              "0     228\n",
              "Name: tech_company, dtype: int64"
            ]
          },
          "metadata": {
            "tags": []
          },
          "execution_count": 33
        }
      ]
    },
    {
      "cell_type": "code",
      "metadata": {
        "colab": {
          "base_uri": "https://localhost:8080/"
        },
        "id": "cordless-attempt",
        "outputId": "1115fecf-631e-4ed2-b77e-ab523951bafd"
      },
      "source": [
        "Benefits_mapping = {\"No\": 0, \"Don't know\": 1, \"Yes\": 2}\n",
        "df['benefits'] = df['benefits'].map(Benefits_mapping)\n",
        "df['benefits'].value_counts()"
      ],
      "id": "cordless-attempt",
      "execution_count": 34,
      "outputs": [
        {
          "output_type": "execute_result",
          "data": {
            "text/plain": [
              "2    477\n",
              "1    408\n",
              "0    374\n",
              "Name: benefits, dtype: int64"
            ]
          },
          "metadata": {
            "tags": []
          },
          "execution_count": 34
        }
      ]
    },
    {
      "cell_type": "code",
      "metadata": {
        "colab": {
          "base_uri": "https://localhost:8080/"
        },
        "id": "super-terrace",
        "outputId": "f3971050-6036-462b-f466-779c74b0c4f2"
      },
      "source": [
        "Benefits_mapping = {0: 0, 1: 0, 2: 1}\n",
        "df['benefits'] = df['benefits'].map(Benefits_mapping)\n",
        "df['benefits'].value_counts()"
      ],
      "id": "super-terrace",
      "execution_count": 35,
      "outputs": [
        {
          "output_type": "execute_result",
          "data": {
            "text/plain": [
              "0    782\n",
              "1    477\n",
              "Name: benefits, dtype: int64"
            ]
          },
          "metadata": {
            "tags": []
          },
          "execution_count": 35
        }
      ]
    },
    {
      "cell_type": "code",
      "metadata": {
        "colab": {
          "base_uri": "https://localhost:8080/"
        },
        "id": "advance-fishing",
        "outputId": "0978861b-f25c-437e-cbb7-6a35f64f6c94"
      },
      "source": [
        "Care_options_mapping = {\"No\": 0, \"Not sure\": 1, \"Yes\": 2}\n",
        "df['care_options'] = df['care_options'].map(Care_options_mapping)\n",
        "df['care_options'].value_counts()"
      ],
      "id": "advance-fishing",
      "execution_count": 36,
      "outputs": [
        {
          "output_type": "execute_result",
          "data": {
            "text/plain": [
              "0    501\n",
              "2    444\n",
              "1    314\n",
              "Name: care_options, dtype: int64"
            ]
          },
          "metadata": {
            "tags": []
          },
          "execution_count": 36
        }
      ]
    },
    {
      "cell_type": "code",
      "metadata": {
        "colab": {
          "base_uri": "https://localhost:8080/"
        },
        "id": "BiiiVPPyvZai",
        "outputId": "27af043e-3b42-4cbf-8f22-1f5277e7d099"
      },
      "source": [
        "Care_options_mapping = {0: 0, 1: 0, 2: 1}\n",
        "df['care_options'] = df['care_options'].map(Care_options_mapping)\n",
        "df['care_options'].value_counts()"
      ],
      "id": "BiiiVPPyvZai",
      "execution_count": 37,
      "outputs": [
        {
          "output_type": "execute_result",
          "data": {
            "text/plain": [
              "0    815\n",
              "1    444\n",
              "Name: care_options, dtype: int64"
            ]
          },
          "metadata": {
            "tags": []
          },
          "execution_count": 37
        }
      ]
    },
    {
      "cell_type": "code",
      "metadata": {
        "colab": {
          "base_uri": "https://localhost:8080/"
        },
        "id": "appreciated-patent",
        "outputId": "965639f3-baf9-4b5e-83eb-0296805535c5"
      },
      "source": [
        "Wellness_mapping = {\"Don't know\": 0, \"No\": 1, \"Yes\": 2}\n",
        "df['wellness_program'] = df['wellness_program'].map(Wellness_mapping)\n",
        "df['wellness_program'].value_counts()"
      ],
      "id": "appreciated-patent",
      "execution_count": 38,
      "outputs": [
        {
          "output_type": "execute_result",
          "data": {
            "text/plain": [
              "1    842\n",
              "2    229\n",
              "0    188\n",
              "Name: wellness_program, dtype: int64"
            ]
          },
          "metadata": {
            "tags": []
          },
          "execution_count": 38
        }
      ]
    },
    {
      "cell_type": "code",
      "metadata": {
        "colab": {
          "base_uri": "https://localhost:8080/"
        },
        "id": "A5TgYcXdvWY9",
        "outputId": "932e267e-7f6b-44f6-b956-a45fb4cbf4c7"
      },
      "source": [
        "Wellness_mapping = {0: 0, 1: 0, 2: 1}\n",
        "df['wellness_program'] = df['wellness_program'].map(Wellness_mapping)\n",
        "df['wellness_program'].value_counts()"
      ],
      "id": "A5TgYcXdvWY9",
      "execution_count": 39,
      "outputs": [
        {
          "output_type": "execute_result",
          "data": {
            "text/plain": [
              "0    1030\n",
              "1     229\n",
              "Name: wellness_program, dtype: int64"
            ]
          },
          "metadata": {
            "tags": []
          },
          "execution_count": 39
        }
      ]
    },
    {
      "cell_type": "code",
      "metadata": {
        "colab": {
          "base_uri": "https://localhost:8080/"
        },
        "id": "several-occupation",
        "outputId": "f32c2615-1923-4471-8a59-e6bd38180530"
      },
      "source": [
        "Seek_help_mapping = {\"Don't know\": 0, \"No\": 1, \"Yes\": 2}\n",
        "df['seek_help'] = df['seek_help'].map(Seek_help_mapping)\n",
        "df['seek_help'].value_counts()"
      ],
      "id": "several-occupation",
      "execution_count": 40,
      "outputs": [
        {
          "output_type": "execute_result",
          "data": {
            "text/plain": [
              "1    646\n",
              "0    363\n",
              "2    250\n",
              "Name: seek_help, dtype: int64"
            ]
          },
          "metadata": {
            "tags": []
          },
          "execution_count": 40
        }
      ]
    },
    {
      "cell_type": "code",
      "metadata": {
        "colab": {
          "base_uri": "https://localhost:8080/"
        },
        "id": "tBOXk3dfvN7r",
        "outputId": "2495f075-ab48-4909-fde8-212a7cdd71ce"
      },
      "source": [
        "Seek_help_mapping = {0: 0, 1: 0, 2: 1}\n",
        "df['seek_help'] = df['seek_help'].map(Seek_help_mapping)\n",
        "df['seek_help'].value_counts()"
      ],
      "id": "tBOXk3dfvN7r",
      "execution_count": 41,
      "outputs": [
        {
          "output_type": "execute_result",
          "data": {
            "text/plain": [
              "0    1009\n",
              "1     250\n",
              "Name: seek_help, dtype: int64"
            ]
          },
          "metadata": {
            "tags": []
          },
          "execution_count": 41
        }
      ]
    },
    {
      "cell_type": "code",
      "metadata": {
        "colab": {
          "base_uri": "https://localhost:8080/"
        },
        "id": "alpine-apartment",
        "outputId": "e54a9651-3d87-4bc5-e766-d0dcbe8d368b"
      },
      "source": [
        "Anonymity_mapping = {\"Don't know\": 0, \"No\": 1, \"Yes\": 2}\n",
        "df['anonymity'] = df['anonymity'].map(Anonymity_mapping)\n",
        "df['anonymity'].value_counts()"
      ],
      "id": "alpine-apartment",
      "execution_count": 42,
      "outputs": [
        {
          "output_type": "execute_result",
          "data": {
            "text/plain": [
              "0    819\n",
              "2    375\n",
              "1     65\n",
              "Name: anonymity, dtype: int64"
            ]
          },
          "metadata": {
            "tags": []
          },
          "execution_count": 42
        }
      ]
    },
    {
      "cell_type": "code",
      "metadata": {
        "scrolled": true,
        "colab": {
          "base_uri": "https://localhost:8080/"
        },
        "id": "human-solution",
        "outputId": "85a4008c-6f2a-4061-fd88-da4dfdea4104"
      },
      "source": [
        "Leave_mapping = {\"Don't know\": 0, \"Very easy\": 1, \"Somewhat easy\": 2, \"Somewhat difficult\": 3, \"Very difficult\": 4}\n",
        "df['leave'] = df['leave'].map(Leave_mapping)\n",
        "df['leave'].value_counts()"
      ],
      "id": "human-solution",
      "execution_count": 43,
      "outputs": [
        {
          "output_type": "execute_result",
          "data": {
            "text/plain": [
              "0    563\n",
              "2    266\n",
              "1    206\n",
              "3    126\n",
              "4     98\n",
              "Name: leave, dtype: int64"
            ]
          },
          "metadata": {
            "tags": []
          },
          "execution_count": 43
        }
      ]
    },
    {
      "cell_type": "code",
      "metadata": {
        "colab": {
          "base_uri": "https://localhost:8080/"
        },
        "id": "light-barcelona",
        "outputId": "fad9dcc9-a947-47e0-b722-2efb379f82f0"
      },
      "source": [
        "Mental_health_mapping = {\"No\": 0, \"Maybe\": 1, \"Yes\": 2}\n",
        "df['mental_health_consequence'] = df['mental_health_consequence'].map(Mental_health_mapping)\n",
        "df['mental_health_consequence'].value_counts()"
      ],
      "id": "light-barcelona",
      "execution_count": 44,
      "outputs": [
        {
          "output_type": "execute_result",
          "data": {
            "text/plain": [
              "0    490\n",
              "1    477\n",
              "2    292\n",
              "Name: mental_health_consequence, dtype: int64"
            ]
          },
          "metadata": {
            "tags": []
          },
          "execution_count": 44
        }
      ]
    },
    {
      "cell_type": "code",
      "metadata": {
        "colab": {
          "base_uri": "https://localhost:8080/"
        },
        "id": "parliamentary-friendship",
        "outputId": "406cba37-ef3f-4661-c583-9eb2d65bb985"
      },
      "source": [
        "Phys_health_mapping = {\"No\": 0, \"Maybe\": 1, \"Yes\": 2}\n",
        "df['phys_health_consequence'] = df['phys_health_consequence'].map(Phys_health_mapping)\n",
        "df['phys_health_consequence'].value_counts()"
      ],
      "id": "parliamentary-friendship",
      "execution_count": 45,
      "outputs": [
        {
          "output_type": "execute_result",
          "data": {
            "text/plain": [
              "0    925\n",
              "1    273\n",
              "2     61\n",
              "Name: phys_health_consequence, dtype: int64"
            ]
          },
          "metadata": {
            "tags": []
          },
          "execution_count": 45
        }
      ]
    },
    {
      "cell_type": "code",
      "metadata": {
        "colab": {
          "base_uri": "https://localhost:8080/"
        },
        "id": "growing-textbook",
        "outputId": "5f0ce632-bd48-4e61-adc7-14ed78af7724"
      },
      "source": [
        "Coworkers_mapping = {\"No\": 0, \"Some of them\": 1, \"Yes\": 2}\n",
        "df['coworkers'] = df['coworkers'].map(Coworkers_mapping)\n",
        "df['coworkers'].value_counts()"
      ],
      "id": "growing-textbook",
      "execution_count": 46,
      "outputs": [
        {
          "output_type": "execute_result",
          "data": {
            "text/plain": [
              "1    774\n",
              "0    260\n",
              "2    225\n",
              "Name: coworkers, dtype: int64"
            ]
          },
          "metadata": {
            "tags": []
          },
          "execution_count": 46
        }
      ]
    },
    {
      "cell_type": "code",
      "metadata": {
        "colab": {
          "base_uri": "https://localhost:8080/"
        },
        "id": "characteristic-least",
        "outputId": "6e574269-bd5e-41ce-ebbf-08c92932c637"
      },
      "source": [
        "Supervisor_mapping = {\"No\": 0, \"Some of them\": 1, \"Yes\": 2}\n",
        "df['supervisor'] = df['supervisor'].map(Supervisor_mapping)\n",
        "df['supervisor'].value_counts()"
      ],
      "id": "characteristic-least",
      "execution_count": 47,
      "outputs": [
        {
          "output_type": "execute_result",
          "data": {
            "text/plain": [
              "2    516\n",
              "0    393\n",
              "1    350\n",
              "Name: supervisor, dtype: int64"
            ]
          },
          "metadata": {
            "tags": []
          },
          "execution_count": 47
        }
      ]
    },
    {
      "cell_type": "code",
      "metadata": {
        "colab": {
          "base_uri": "https://localhost:8080/"
        },
        "id": "sublime-holmes",
        "outputId": "21be3ff5-d797-4b7f-9b4a-744f34916b14"
      },
      "source": [
        "Mental_health_interview_mapping = {\"No\": 0, \"Maybe\": 1, \"Yes\": 2}\n",
        "df['mental_health_interview'] = df['mental_health_interview'].map(Mental_health_interview_mapping)\n",
        "df['mental_health_interview'].value_counts()"
      ],
      "id": "sublime-holmes",
      "execution_count": 48,
      "outputs": [
        {
          "output_type": "execute_result",
          "data": {
            "text/plain": [
              "0    1008\n",
              "1     207\n",
              "2      44\n",
              "Name: mental_health_interview, dtype: int64"
            ]
          },
          "metadata": {
            "tags": []
          },
          "execution_count": 48
        }
      ]
    },
    {
      "cell_type": "code",
      "metadata": {
        "colab": {
          "base_uri": "https://localhost:8080/"
        },
        "id": "elect-northeast",
        "outputId": "2baf27ab-2d6f-4f6b-c79e-e88d7082119e"
      },
      "source": [
        "Phys_health_interview_mapping = {\"No\": 0, \"Maybe\": 1, \"Yes\": 2}\n",
        "df['phys_health_interview'] = df['phys_health_interview'].map(Phys_health_interview_mapping)\n",
        "df['phys_health_interview'].value_counts()"
      ],
      "id": "elect-northeast",
      "execution_count": 49,
      "outputs": [
        {
          "output_type": "execute_result",
          "data": {
            "text/plain": [
              "1    557\n",
              "0    500\n",
              "2    202\n",
              "Name: phys_health_interview, dtype: int64"
            ]
          },
          "metadata": {
            "tags": []
          },
          "execution_count": 49
        }
      ]
    },
    {
      "cell_type": "code",
      "metadata": {
        "colab": {
          "base_uri": "https://localhost:8080/"
        },
        "id": "heated-shepherd",
        "outputId": "78ef1835-e0f1-4413-e04e-509f3131f8f7"
      },
      "source": [
        "Mental_vs_physical_mapping = {\"Don't know\": 0, \"No\": 1, \"Yes\": 2}\n",
        "df['mental_vs_physical'] = df['mental_vs_physical'].map(Mental_vs_physical_mapping)\n",
        "df['mental_vs_physical'].value_counts()"
      ],
      "id": "heated-shepherd",
      "execution_count": 50,
      "outputs": [
        {
          "output_type": "execute_result",
          "data": {
            "text/plain": [
              "0    576\n",
              "2    343\n",
              "1    340\n",
              "Name: mental_vs_physical, dtype: int64"
            ]
          },
          "metadata": {
            "tags": []
          },
          "execution_count": 50
        }
      ]
    },
    {
      "cell_type": "code",
      "metadata": {
        "colab": {
          "base_uri": "https://localhost:8080/"
        },
        "id": "sharp-resource",
        "outputId": "c1487bdd-74ce-4628-80bc-5900e7f4abbd"
      },
      "source": [
        "Obs_consequence_mapping = {\"No\": 0, \"Yes\": 1}\n",
        "df['obs_consequence'] = df['obs_consequence'].map(Obs_consequence_mapping)\n",
        "df['obs_consequence'].value_counts()"
      ],
      "id": "sharp-resource",
      "execution_count": 51,
      "outputs": [
        {
          "output_type": "execute_result",
          "data": {
            "text/plain": [
              "0    1075\n",
              "1     184\n",
              "Name: obs_consequence, dtype: int64"
            ]
          },
          "metadata": {
            "tags": []
          },
          "execution_count": 51
        }
      ]
    },
    {
      "cell_type": "code",
      "metadata": {
        "id": "progressive-electricity"
      },
      "source": [
        "df = pd.concat([df, pd.get_dummies(df['Gender'])], axis=1)\n",
        "df.drop('Gender', axis=1, inplace=True)"
      ],
      "id": "progressive-electricity",
      "execution_count": 52,
      "outputs": []
    },
    {
      "cell_type": "code",
      "metadata": {
        "colab": {
          "base_uri": "https://localhost:8080/",
          "height": 334
        },
        "id": "wicked-sweden",
        "outputId": "32505e40-4840-43d4-ec0f-7da2cbfa455c"
      },
      "source": [
        "df.describe()"
      ],
      "id": "wicked-sweden",
      "execution_count": 53,
      "outputs": [
        {
          "output_type": "execute_result",
          "data": {
            "text/html": [
              "<div>\n",
              "<style scoped>\n",
              "    .dataframe tbody tr th:only-of-type {\n",
              "        vertical-align: middle;\n",
              "    }\n",
              "\n",
              "    .dataframe tbody tr th {\n",
              "        vertical-align: top;\n",
              "    }\n",
              "\n",
              "    .dataframe thead th {\n",
              "        text-align: right;\n",
              "    }\n",
              "</style>\n",
              "<table border=\"1\" class=\"dataframe\">\n",
              "  <thead>\n",
              "    <tr style=\"text-align: right;\">\n",
              "      <th></th>\n",
              "      <th>Age</th>\n",
              "      <th>self_employed</th>\n",
              "      <th>family_history</th>\n",
              "      <th>treatment</th>\n",
              "      <th>work_interfere</th>\n",
              "      <th>no_employees</th>\n",
              "      <th>remote_work</th>\n",
              "      <th>tech_company</th>\n",
              "      <th>benefits</th>\n",
              "      <th>care_options</th>\n",
              "      <th>wellness_program</th>\n",
              "      <th>seek_help</th>\n",
              "      <th>anonymity</th>\n",
              "      <th>leave</th>\n",
              "      <th>mental_health_consequence</th>\n",
              "      <th>phys_health_consequence</th>\n",
              "      <th>coworkers</th>\n",
              "      <th>supervisor</th>\n",
              "      <th>mental_health_interview</th>\n",
              "      <th>phys_health_interview</th>\n",
              "      <th>mental_vs_physical</th>\n",
              "      <th>obs_consequence</th>\n",
              "      <th>Female</th>\n",
              "      <th>Male</th>\n",
              "      <th>Non-binary</th>\n",
              "    </tr>\n",
              "  </thead>\n",
              "  <tbody>\n",
              "    <tr>\n",
              "      <th>count</th>\n",
              "      <td>1259.000000</td>\n",
              "      <td>1259.000000</td>\n",
              "      <td>1259.000000</td>\n",
              "      <td>1259.000000</td>\n",
              "      <td>1259.000000</td>\n",
              "      <td>1259.000000</td>\n",
              "      <td>1259.000000</td>\n",
              "      <td>1259.000000</td>\n",
              "      <td>1259.000000</td>\n",
              "      <td>1259.000000</td>\n",
              "      <td>1259.000000</td>\n",
              "      <td>1259.000000</td>\n",
              "      <td>1259.000000</td>\n",
              "      <td>1259.000000</td>\n",
              "      <td>1259.000000</td>\n",
              "      <td>1259.000000</td>\n",
              "      <td>1259.00000</td>\n",
              "      <td>1259.000000</td>\n",
              "      <td>1259.000000</td>\n",
              "      <td>1259.000000</td>\n",
              "      <td>1259.000000</td>\n",
              "      <td>1259.000000</td>\n",
              "      <td>1259.000000</td>\n",
              "      <td>1259.000000</td>\n",
              "      <td>1259.000000</td>\n",
              "    </tr>\n",
              "    <tr>\n",
              "      <th>mean</th>\n",
              "      <td>32.076251</td>\n",
              "      <td>0.115965</td>\n",
              "      <td>0.390786</td>\n",
              "      <td>0.505957</td>\n",
              "      <td>2.009531</td>\n",
              "      <td>2.419380</td>\n",
              "      <td>0.298650</td>\n",
              "      <td>0.818904</td>\n",
              "      <td>0.378872</td>\n",
              "      <td>0.352661</td>\n",
              "      <td>0.181890</td>\n",
              "      <td>0.198570</td>\n",
              "      <td>0.647339</td>\n",
              "      <td>1.197776</td>\n",
              "      <td>0.842732</td>\n",
              "      <td>0.313741</td>\n",
              "      <td>0.97220</td>\n",
              "      <td>1.097697</td>\n",
              "      <td>0.234313</td>\n",
              "      <td>0.763304</td>\n",
              "      <td>0.814932</td>\n",
              "      <td>0.146148</td>\n",
              "      <td>0.199365</td>\n",
              "      <td>0.788721</td>\n",
              "      <td>0.011914</td>\n",
              "    </tr>\n",
              "    <tr>\n",
              "      <th>std</th>\n",
              "      <td>7.265063</td>\n",
              "      <td>0.320310</td>\n",
              "      <td>0.488121</td>\n",
              "      <td>0.500163</td>\n",
              "      <td>1.355049</td>\n",
              "      <td>1.708151</td>\n",
              "      <td>0.457848</td>\n",
              "      <td>0.385251</td>\n",
              "      <td>0.485299</td>\n",
              "      <td>0.477988</td>\n",
              "      <td>0.385907</td>\n",
              "      <td>0.399082</td>\n",
              "      <td>0.908106</td>\n",
              "      <td>1.312092</td>\n",
              "      <td>0.772573</td>\n",
              "      <td>0.558980</td>\n",
              "      <td>0.62029</td>\n",
              "      <td>0.844407</td>\n",
              "      <td>0.499505</td>\n",
              "      <td>0.708491</td>\n",
              "      <td>0.834414</td>\n",
              "      <td>0.353395</td>\n",
              "      <td>0.399681</td>\n",
              "      <td>0.408378</td>\n",
              "      <td>0.108543</td>\n",
              "    </tr>\n",
              "    <tr>\n",
              "      <th>min</th>\n",
              "      <td>18.000000</td>\n",
              "      <td>0.000000</td>\n",
              "      <td>0.000000</td>\n",
              "      <td>0.000000</td>\n",
              "      <td>0.000000</td>\n",
              "      <td>0.000000</td>\n",
              "      <td>0.000000</td>\n",
              "      <td>0.000000</td>\n",
              "      <td>0.000000</td>\n",
              "      <td>0.000000</td>\n",
              "      <td>0.000000</td>\n",
              "      <td>0.000000</td>\n",
              "      <td>0.000000</td>\n",
              "      <td>0.000000</td>\n",
              "      <td>0.000000</td>\n",
              "      <td>0.000000</td>\n",
              "      <td>0.00000</td>\n",
              "      <td>0.000000</td>\n",
              "      <td>0.000000</td>\n",
              "      <td>0.000000</td>\n",
              "      <td>0.000000</td>\n",
              "      <td>0.000000</td>\n",
              "      <td>0.000000</td>\n",
              "      <td>0.000000</td>\n",
              "      <td>0.000000</td>\n",
              "    </tr>\n",
              "    <tr>\n",
              "      <th>25%</th>\n",
              "      <td>27.000000</td>\n",
              "      <td>0.000000</td>\n",
              "      <td>0.000000</td>\n",
              "      <td>0.000000</td>\n",
              "      <td>1.000000</td>\n",
              "      <td>1.000000</td>\n",
              "      <td>0.000000</td>\n",
              "      <td>1.000000</td>\n",
              "      <td>0.000000</td>\n",
              "      <td>0.000000</td>\n",
              "      <td>0.000000</td>\n",
              "      <td>0.000000</td>\n",
              "      <td>0.000000</td>\n",
              "      <td>0.000000</td>\n",
              "      <td>0.000000</td>\n",
              "      <td>0.000000</td>\n",
              "      <td>1.00000</td>\n",
              "      <td>0.000000</td>\n",
              "      <td>0.000000</td>\n",
              "      <td>0.000000</td>\n",
              "      <td>0.000000</td>\n",
              "      <td>0.000000</td>\n",
              "      <td>0.000000</td>\n",
              "      <td>1.000000</td>\n",
              "      <td>0.000000</td>\n",
              "    </tr>\n",
              "    <tr>\n",
              "      <th>50%</th>\n",
              "      <td>31.000000</td>\n",
              "      <td>0.000000</td>\n",
              "      <td>0.000000</td>\n",
              "      <td>1.000000</td>\n",
              "      <td>2.000000</td>\n",
              "      <td>2.000000</td>\n",
              "      <td>0.000000</td>\n",
              "      <td>1.000000</td>\n",
              "      <td>0.000000</td>\n",
              "      <td>0.000000</td>\n",
              "      <td>0.000000</td>\n",
              "      <td>0.000000</td>\n",
              "      <td>0.000000</td>\n",
              "      <td>1.000000</td>\n",
              "      <td>1.000000</td>\n",
              "      <td>0.000000</td>\n",
              "      <td>1.00000</td>\n",
              "      <td>1.000000</td>\n",
              "      <td>0.000000</td>\n",
              "      <td>1.000000</td>\n",
              "      <td>1.000000</td>\n",
              "      <td>0.000000</td>\n",
              "      <td>0.000000</td>\n",
              "      <td>1.000000</td>\n",
              "      <td>0.000000</td>\n",
              "    </tr>\n",
              "    <tr>\n",
              "      <th>75%</th>\n",
              "      <td>36.000000</td>\n",
              "      <td>0.000000</td>\n",
              "      <td>1.000000</td>\n",
              "      <td>1.000000</td>\n",
              "      <td>3.000000</td>\n",
              "      <td>4.000000</td>\n",
              "      <td>1.000000</td>\n",
              "      <td>1.000000</td>\n",
              "      <td>1.000000</td>\n",
              "      <td>1.000000</td>\n",
              "      <td>0.000000</td>\n",
              "      <td>0.000000</td>\n",
              "      <td>2.000000</td>\n",
              "      <td>2.000000</td>\n",
              "      <td>1.000000</td>\n",
              "      <td>1.000000</td>\n",
              "      <td>1.00000</td>\n",
              "      <td>2.000000</td>\n",
              "      <td>0.000000</td>\n",
              "      <td>1.000000</td>\n",
              "      <td>2.000000</td>\n",
              "      <td>0.000000</td>\n",
              "      <td>0.000000</td>\n",
              "      <td>1.000000</td>\n",
              "      <td>0.000000</td>\n",
              "    </tr>\n",
              "    <tr>\n",
              "      <th>max</th>\n",
              "      <td>72.000000</td>\n",
              "      <td>1.000000</td>\n",
              "      <td>1.000000</td>\n",
              "      <td>1.000000</td>\n",
              "      <td>4.000000</td>\n",
              "      <td>5.000000</td>\n",
              "      <td>1.000000</td>\n",
              "      <td>1.000000</td>\n",
              "      <td>1.000000</td>\n",
              "      <td>1.000000</td>\n",
              "      <td>1.000000</td>\n",
              "      <td>1.000000</td>\n",
              "      <td>2.000000</td>\n",
              "      <td>4.000000</td>\n",
              "      <td>2.000000</td>\n",
              "      <td>2.000000</td>\n",
              "      <td>2.00000</td>\n",
              "      <td>2.000000</td>\n",
              "      <td>2.000000</td>\n",
              "      <td>2.000000</td>\n",
              "      <td>2.000000</td>\n",
              "      <td>1.000000</td>\n",
              "      <td>1.000000</td>\n",
              "      <td>1.000000</td>\n",
              "      <td>1.000000</td>\n",
              "    </tr>\n",
              "  </tbody>\n",
              "</table>\n",
              "</div>"
            ],
            "text/plain": [
              "               Age  self_employed  ...         Male   Non-binary\n",
              "count  1259.000000    1259.000000  ...  1259.000000  1259.000000\n",
              "mean     32.076251       0.115965  ...     0.788721     0.011914\n",
              "std       7.265063       0.320310  ...     0.408378     0.108543\n",
              "min      18.000000       0.000000  ...     0.000000     0.000000\n",
              "25%      27.000000       0.000000  ...     1.000000     0.000000\n",
              "50%      31.000000       0.000000  ...     1.000000     0.000000\n",
              "75%      36.000000       0.000000  ...     1.000000     0.000000\n",
              "max      72.000000       1.000000  ...     1.000000     1.000000\n",
              "\n",
              "[8 rows x 25 columns]"
            ]
          },
          "metadata": {
            "tags": []
          },
          "execution_count": 53
        }
      ]
    },
    {
      "cell_type": "code",
      "metadata": {
        "colab": {
          "base_uri": "https://localhost:8080/",
          "height": 861
        },
        "id": "comparable-vermont",
        "outputId": "30229c4a-0591-4f93-ab28-d6f4e0f61720"
      },
      "source": [
        "df.corr()"
      ],
      "id": "comparable-vermont",
      "execution_count": 54,
      "outputs": [
        {
          "output_type": "execute_result",
          "data": {
            "text/html": [
              "<div>\n",
              "<style scoped>\n",
              "    .dataframe tbody tr th:only-of-type {\n",
              "        vertical-align: middle;\n",
              "    }\n",
              "\n",
              "    .dataframe tbody tr th {\n",
              "        vertical-align: top;\n",
              "    }\n",
              "\n",
              "    .dataframe thead th {\n",
              "        text-align: right;\n",
              "    }\n",
              "</style>\n",
              "<table border=\"1\" class=\"dataframe\">\n",
              "  <thead>\n",
              "    <tr style=\"text-align: right;\">\n",
              "      <th></th>\n",
              "      <th>Age</th>\n",
              "      <th>self_employed</th>\n",
              "      <th>family_history</th>\n",
              "      <th>treatment</th>\n",
              "      <th>work_interfere</th>\n",
              "      <th>no_employees</th>\n",
              "      <th>remote_work</th>\n",
              "      <th>tech_company</th>\n",
              "      <th>benefits</th>\n",
              "      <th>care_options</th>\n",
              "      <th>wellness_program</th>\n",
              "      <th>seek_help</th>\n",
              "      <th>anonymity</th>\n",
              "      <th>leave</th>\n",
              "      <th>mental_health_consequence</th>\n",
              "      <th>phys_health_consequence</th>\n",
              "      <th>coworkers</th>\n",
              "      <th>supervisor</th>\n",
              "      <th>mental_health_interview</th>\n",
              "      <th>phys_health_interview</th>\n",
              "      <th>mental_vs_physical</th>\n",
              "      <th>obs_consequence</th>\n",
              "      <th>Female</th>\n",
              "      <th>Male</th>\n",
              "      <th>Non-binary</th>\n",
              "    </tr>\n",
              "  </thead>\n",
              "  <tbody>\n",
              "    <tr>\n",
              "      <th>Age</th>\n",
              "      <td>1.000000</td>\n",
              "      <td>0.072372</td>\n",
              "      <td>0.009075</td>\n",
              "      <td>0.073378</td>\n",
              "      <td>0.023989</td>\n",
              "      <td>0.116756</td>\n",
              "      <td>0.146095</td>\n",
              "      <td>-0.057829</td>\n",
              "      <td>0.152778</td>\n",
              "      <td>0.123644</td>\n",
              "      <td>0.121503</td>\n",
              "      <td>0.179289</td>\n",
              "      <td>0.024321</td>\n",
              "      <td>0.021266</td>\n",
              "      <td>0.067569</td>\n",
              "      <td>0.093737</td>\n",
              "      <td>-0.007291</td>\n",
              "      <td>0.009280</td>\n",
              "      <td>-0.035594</td>\n",
              "      <td>-0.060736</td>\n",
              "      <td>-0.011701</td>\n",
              "      <td>0.070583</td>\n",
              "      <td>-0.080797</td>\n",
              "      <td>0.090635</td>\n",
              "      <td>-0.043491</td>\n",
              "    </tr>\n",
              "    <tr>\n",
              "      <th>self_employed</th>\n",
              "      <td>0.072372</td>\n",
              "      <td>1.000000</td>\n",
              "      <td>0.009890</td>\n",
              "      <td>0.020493</td>\n",
              "      <td>0.085361</td>\n",
              "      <td>-0.394057</td>\n",
              "      <td>0.316533</td>\n",
              "      <td>0.080136</td>\n",
              "      <td>-0.175480</td>\n",
              "      <td>0.059767</td>\n",
              "      <td>-0.003576</td>\n",
              "      <td>-0.037257</td>\n",
              "      <td>0.107915</td>\n",
              "      <td>0.185593</td>\n",
              "      <td>-0.057945</td>\n",
              "      <td>0.040818</td>\n",
              "      <td>0.076252</td>\n",
              "      <td>0.037432</td>\n",
              "      <td>0.093356</td>\n",
              "      <td>0.036981</td>\n",
              "      <td>0.139845</td>\n",
              "      <td>0.081899</td>\n",
              "      <td>-0.044130</td>\n",
              "      <td>0.023376</td>\n",
              "      <td>0.074548</td>\n",
              "    </tr>\n",
              "    <tr>\n",
              "      <th>family_history</th>\n",
              "      <td>0.009075</td>\n",
              "      <td>0.009890</td>\n",
              "      <td>1.000000</td>\n",
              "      <td>0.377918</td>\n",
              "      <td>0.338083</td>\n",
              "      <td>0.025422</td>\n",
              "      <td>0.014456</td>\n",
              "      <td>-0.046079</td>\n",
              "      <td>0.149647</td>\n",
              "      <td>0.124325</td>\n",
              "      <td>0.052791</td>\n",
              "      <td>0.058367</td>\n",
              "      <td>0.063679</td>\n",
              "      <td>0.067884</td>\n",
              "      <td>0.097756</td>\n",
              "      <td>0.060130</td>\n",
              "      <td>-0.000847</td>\n",
              "      <td>0.003729</td>\n",
              "      <td>-0.059604</td>\n",
              "      <td>-0.040330</td>\n",
              "      <td>0.041089</td>\n",
              "      <td>0.124861</td>\n",
              "      <td>0.142253</td>\n",
              "      <td>-0.155726</td>\n",
              "      <td>0.062087</td>\n",
              "    </tr>\n",
              "    <tr>\n",
              "      <th>treatment</th>\n",
              "      <td>0.073378</td>\n",
              "      <td>0.020493</td>\n",
              "      <td>0.377918</td>\n",
              "      <td>1.000000</td>\n",
              "      <td>0.656728</td>\n",
              "      <td>0.009169</td>\n",
              "      <td>0.026937</td>\n",
              "      <td>-0.031525</td>\n",
              "      <td>0.208475</td>\n",
              "      <td>0.273830</td>\n",
              "      <td>0.082927</td>\n",
              "      <td>0.085664</td>\n",
              "      <td>0.142889</td>\n",
              "      <td>0.140528</td>\n",
              "      <td>0.132028</td>\n",
              "      <td>0.051596</td>\n",
              "      <td>0.068433</td>\n",
              "      <td>-0.036199</td>\n",
              "      <td>-0.048545</td>\n",
              "      <td>0.006225</td>\n",
              "      <td>0.062642</td>\n",
              "      <td>0.156972</td>\n",
              "      <td>0.182935</td>\n",
              "      <td>-0.196204</td>\n",
              "      <td>0.064581</td>\n",
              "    </tr>\n",
              "    <tr>\n",
              "      <th>work_interfere</th>\n",
              "      <td>0.023989</td>\n",
              "      <td>0.085361</td>\n",
              "      <td>0.338083</td>\n",
              "      <td>0.656728</td>\n",
              "      <td>1.000000</td>\n",
              "      <td>-0.071445</td>\n",
              "      <td>0.053066</td>\n",
              "      <td>-0.010395</td>\n",
              "      <td>0.098461</td>\n",
              "      <td>0.199764</td>\n",
              "      <td>0.048367</td>\n",
              "      <td>0.042066</td>\n",
              "      <td>0.072501</td>\n",
              "      <td>0.210862</td>\n",
              "      <td>0.210246</td>\n",
              "      <td>0.094699</td>\n",
              "      <td>0.015447</td>\n",
              "      <td>-0.077929</td>\n",
              "      <td>-0.066721</td>\n",
              "      <td>0.034644</td>\n",
              "      <td>0.052884</td>\n",
              "      <td>0.183007</td>\n",
              "      <td>0.119779</td>\n",
              "      <td>-0.132824</td>\n",
              "      <td>0.058678</td>\n",
              "    </tr>\n",
              "    <tr>\n",
              "      <th>no_employees</th>\n",
              "      <td>0.116756</td>\n",
              "      <td>-0.394057</td>\n",
              "      <td>0.025422</td>\n",
              "      <td>0.009169</td>\n",
              "      <td>-0.071445</td>\n",
              "      <td>1.000000</td>\n",
              "      <td>-0.239556</td>\n",
              "      <td>-0.254130</td>\n",
              "      <td>0.383527</td>\n",
              "      <td>0.061137</td>\n",
              "      <td>0.282134</td>\n",
              "      <td>0.305695</td>\n",
              "      <td>0.013429</td>\n",
              "      <td>-0.137764</td>\n",
              "      <td>0.102423</td>\n",
              "      <td>0.009445</td>\n",
              "      <td>-0.130783</td>\n",
              "      <td>-0.095113</td>\n",
              "      <td>-0.127373</td>\n",
              "      <td>-0.074896</td>\n",
              "      <td>-0.051468</td>\n",
              "      <td>0.041920</td>\n",
              "      <td>0.081196</td>\n",
              "      <td>-0.077996</td>\n",
              "      <td>-0.005534</td>\n",
              "    </tr>\n",
              "    <tr>\n",
              "      <th>remote_work</th>\n",
              "      <td>0.146095</td>\n",
              "      <td>0.316533</td>\n",
              "      <td>0.014456</td>\n",
              "      <td>0.026937</td>\n",
              "      <td>0.053066</td>\n",
              "      <td>-0.239556</td>\n",
              "      <td>1.000000</td>\n",
              "      <td>0.131108</td>\n",
              "      <td>-0.091070</td>\n",
              "      <td>0.023245</td>\n",
              "      <td>-0.064744</td>\n",
              "      <td>-0.046387</td>\n",
              "      <td>-0.002676</td>\n",
              "      <td>0.055094</td>\n",
              "      <td>-0.008691</td>\n",
              "      <td>0.024952</td>\n",
              "      <td>0.082438</td>\n",
              "      <td>0.025220</td>\n",
              "      <td>0.086542</td>\n",
              "      <td>0.034302</td>\n",
              "      <td>0.036591</td>\n",
              "      <td>-0.039065</td>\n",
              "      <td>-0.012863</td>\n",
              "      <td>0.006126</td>\n",
              "      <td>0.024317</td>\n",
              "    </tr>\n",
              "    <tr>\n",
              "      <th>tech_company</th>\n",
              "      <td>-0.057829</td>\n",
              "      <td>0.080136</td>\n",
              "      <td>-0.046079</td>\n",
              "      <td>-0.031525</td>\n",
              "      <td>-0.010395</td>\n",
              "      <td>-0.254130</td>\n",
              "      <td>0.131108</td>\n",
              "      <td>1.000000</td>\n",
              "      <td>-0.074904</td>\n",
              "      <td>-0.032779</td>\n",
              "      <td>-0.136498</td>\n",
              "      <td>-0.122670</td>\n",
              "      <td>-0.050912</td>\n",
              "      <td>-0.012434</td>\n",
              "      <td>-0.114461</td>\n",
              "      <td>-0.046020</td>\n",
              "      <td>0.075383</td>\n",
              "      <td>0.049543</td>\n",
              "      <td>0.084365</td>\n",
              "      <td>0.003009</td>\n",
              "      <td>0.029191</td>\n",
              "      <td>-0.062347</td>\n",
              "      <td>-0.080251</td>\n",
              "      <td>0.069869</td>\n",
              "      <td>0.032629</td>\n",
              "    </tr>\n",
              "    <tr>\n",
              "      <th>benefits</th>\n",
              "      <td>0.152778</td>\n",
              "      <td>-0.175480</td>\n",
              "      <td>0.149647</td>\n",
              "      <td>0.208475</td>\n",
              "      <td>0.098461</td>\n",
              "      <td>0.383527</td>\n",
              "      <td>-0.091070</td>\n",
              "      <td>-0.074904</td>\n",
              "      <td>1.000000</td>\n",
              "      <td>0.427603</td>\n",
              "      <td>0.412728</td>\n",
              "      <td>0.452639</td>\n",
              "      <td>0.278171</td>\n",
              "      <td>-0.085313</td>\n",
              "      <td>0.006396</td>\n",
              "      <td>-0.025360</td>\n",
              "      <td>0.005969</td>\n",
              "      <td>0.039570</td>\n",
              "      <td>-0.048425</td>\n",
              "      <td>-0.101947</td>\n",
              "      <td>0.088881</td>\n",
              "      <td>0.019873</td>\n",
              "      <td>0.143041</td>\n",
              "      <td>-0.145277</td>\n",
              "      <td>0.019873</td>\n",
              "    </tr>\n",
              "    <tr>\n",
              "      <th>care_options</th>\n",
              "      <td>0.123644</td>\n",
              "      <td>0.059767</td>\n",
              "      <td>0.124325</td>\n",
              "      <td>0.273830</td>\n",
              "      <td>0.199764</td>\n",
              "      <td>0.061137</td>\n",
              "      <td>0.023245</td>\n",
              "      <td>-0.032779</td>\n",
              "      <td>0.427603</td>\n",
              "      <td>1.000000</td>\n",
              "      <td>0.307006</td>\n",
              "      <td>0.332684</td>\n",
              "      <td>0.400294</td>\n",
              "      <td>0.140927</td>\n",
              "      <td>0.010390</td>\n",
              "      <td>-0.000896</td>\n",
              "      <td>0.035774</td>\n",
              "      <td>0.070158</td>\n",
              "      <td>0.003213</td>\n",
              "      <td>-0.023255</td>\n",
              "      <td>0.193666</td>\n",
              "      <td>0.099343</td>\n",
              "      <td>0.097707</td>\n",
              "      <td>-0.110735</td>\n",
              "      <td>0.056844</td>\n",
              "    </tr>\n",
              "    <tr>\n",
              "      <th>wellness_program</th>\n",
              "      <td>0.121503</td>\n",
              "      <td>-0.003576</td>\n",
              "      <td>0.052791</td>\n",
              "      <td>0.082927</td>\n",
              "      <td>0.048367</td>\n",
              "      <td>0.282134</td>\n",
              "      <td>-0.064744</td>\n",
              "      <td>-0.136498</td>\n",
              "      <td>0.412728</td>\n",
              "      <td>0.307006</td>\n",
              "      <td>1.000000</td>\n",
              "      <td>0.596292</td>\n",
              "      <td>0.273918</td>\n",
              "      <td>0.001114</td>\n",
              "      <td>-0.053286</td>\n",
              "      <td>-0.003120</td>\n",
              "      <td>0.047707</td>\n",
              "      <td>0.103986</td>\n",
              "      <td>-0.023331</td>\n",
              "      <td>-0.043020</td>\n",
              "      <td>0.193492</td>\n",
              "      <td>0.078876</td>\n",
              "      <td>0.048164</td>\n",
              "      <td>-0.063641</td>\n",
              "      <td>0.062087</td>\n",
              "    </tr>\n",
              "    <tr>\n",
              "      <th>seek_help</th>\n",
              "      <td>0.179289</td>\n",
              "      <td>-0.037257</td>\n",
              "      <td>0.058367</td>\n",
              "      <td>0.085664</td>\n",
              "      <td>0.042066</td>\n",
              "      <td>0.305695</td>\n",
              "      <td>-0.046387</td>\n",
              "      <td>-0.122670</td>\n",
              "      <td>0.452639</td>\n",
              "      <td>0.332684</td>\n",
              "      <td>0.596292</td>\n",
              "      <td>1.000000</td>\n",
              "      <td>0.303053</td>\n",
              "      <td>0.012989</td>\n",
              "      <td>-0.086842</td>\n",
              "      <td>-0.022931</td>\n",
              "      <td>0.054429</td>\n",
              "      <td>0.119302</td>\n",
              "      <td>0.017632</td>\n",
              "      <td>-0.022002</td>\n",
              "      <td>0.191607</td>\n",
              "      <td>0.087155</td>\n",
              "      <td>0.040660</td>\n",
              "      <td>-0.044777</td>\n",
              "      <td>0.018744</td>\n",
              "    </tr>\n",
              "    <tr>\n",
              "      <th>anonymity</th>\n",
              "      <td>0.024321</td>\n",
              "      <td>0.107915</td>\n",
              "      <td>0.063679</td>\n",
              "      <td>0.142889</td>\n",
              "      <td>0.072501</td>\n",
              "      <td>0.013429</td>\n",
              "      <td>-0.002676</td>\n",
              "      <td>-0.050912</td>\n",
              "      <td>0.278171</td>\n",
              "      <td>0.400294</td>\n",
              "      <td>0.273918</td>\n",
              "      <td>0.303053</td>\n",
              "      <td>1.000000</td>\n",
              "      <td>0.165993</td>\n",
              "      <td>-0.128970</td>\n",
              "      <td>-0.077828</td>\n",
              "      <td>0.068665</td>\n",
              "      <td>0.149668</td>\n",
              "      <td>0.073664</td>\n",
              "      <td>0.054248</td>\n",
              "      <td>0.293559</td>\n",
              "      <td>0.054220</td>\n",
              "      <td>0.025226</td>\n",
              "      <td>-0.040314</td>\n",
              "      <td>0.058790</td>\n",
              "    </tr>\n",
              "    <tr>\n",
              "      <th>leave</th>\n",
              "      <td>0.021266</td>\n",
              "      <td>0.185593</td>\n",
              "      <td>0.067884</td>\n",
              "      <td>0.140528</td>\n",
              "      <td>0.210862</td>\n",
              "      <td>-0.137764</td>\n",
              "      <td>0.055094</td>\n",
              "      <td>-0.012434</td>\n",
              "      <td>-0.085313</td>\n",
              "      <td>0.140927</td>\n",
              "      <td>0.001114</td>\n",
              "      <td>0.012989</td>\n",
              "      <td>0.165993</td>\n",
              "      <td>1.000000</td>\n",
              "      <td>0.145198</td>\n",
              "      <td>0.138598</td>\n",
              "      <td>-0.004960</td>\n",
              "      <td>-0.027498</td>\n",
              "      <td>0.021415</td>\n",
              "      <td>0.065790</td>\n",
              "      <td>0.155437</td>\n",
              "      <td>0.203336</td>\n",
              "      <td>0.011154</td>\n",
              "      <td>-0.024317</td>\n",
              "      <td>0.050420</td>\n",
              "    </tr>\n",
              "    <tr>\n",
              "      <th>mental_health_consequence</th>\n",
              "      <td>0.067569</td>\n",
              "      <td>-0.057945</td>\n",
              "      <td>0.097756</td>\n",
              "      <td>0.132028</td>\n",
              "      <td>0.210246</td>\n",
              "      <td>0.102423</td>\n",
              "      <td>-0.008691</td>\n",
              "      <td>-0.114461</td>\n",
              "      <td>0.006396</td>\n",
              "      <td>0.010390</td>\n",
              "      <td>-0.053286</td>\n",
              "      <td>-0.086842</td>\n",
              "      <td>-0.128970</td>\n",
              "      <td>0.145198</td>\n",
              "      <td>1.000000</td>\n",
              "      <td>0.515619</td>\n",
              "      <td>-0.443727</td>\n",
              "      <td>-0.577153</td>\n",
              "      <td>-0.301990</td>\n",
              "      <td>-0.075323</td>\n",
              "      <td>-0.206721</td>\n",
              "      <td>0.229827</td>\n",
              "      <td>0.088748</td>\n",
              "      <td>-0.102880</td>\n",
              "      <td>0.060279</td>\n",
              "    </tr>\n",
              "    <tr>\n",
              "      <th>phys_health_consequence</th>\n",
              "      <td>0.093737</td>\n",
              "      <td>0.040818</td>\n",
              "      <td>0.060130</td>\n",
              "      <td>0.051596</td>\n",
              "      <td>0.094699</td>\n",
              "      <td>0.009445</td>\n",
              "      <td>0.024952</td>\n",
              "      <td>-0.046020</td>\n",
              "      <td>-0.025360</td>\n",
              "      <td>-0.000896</td>\n",
              "      <td>-0.003120</td>\n",
              "      <td>-0.022931</td>\n",
              "      <td>-0.077828</td>\n",
              "      <td>0.138598</td>\n",
              "      <td>0.515619</td>\n",
              "      <td>1.000000</td>\n",
              "      <td>-0.227011</td>\n",
              "      <td>-0.327712</td>\n",
              "      <td>-0.089832</td>\n",
              "      <td>-0.177647</td>\n",
              "      <td>-0.076519</td>\n",
              "      <td>0.182175</td>\n",
              "      <td>0.079170</td>\n",
              "      <td>-0.099401</td>\n",
              "      <td>0.082459</td>\n",
              "    </tr>\n",
              "    <tr>\n",
              "      <th>coworkers</th>\n",
              "      <td>-0.007291</td>\n",
              "      <td>0.076252</td>\n",
              "      <td>-0.000847</td>\n",
              "      <td>0.068433</td>\n",
              "      <td>0.015447</td>\n",
              "      <td>-0.130783</td>\n",
              "      <td>0.082438</td>\n",
              "      <td>0.075383</td>\n",
              "      <td>0.005969</td>\n",
              "      <td>0.035774</td>\n",
              "      <td>0.047707</td>\n",
              "      <td>0.054429</td>\n",
              "      <td>0.068665</td>\n",
              "      <td>-0.004960</td>\n",
              "      <td>-0.443727</td>\n",
              "      <td>-0.227011</td>\n",
              "      <td>1.000000</td>\n",
              "      <td>0.574310</td>\n",
              "      <td>0.326344</td>\n",
              "      <td>0.144190</td>\n",
              "      <td>0.188174</td>\n",
              "      <td>-0.039472</td>\n",
              "      <td>-0.054579</td>\n",
              "      <td>0.045832</td>\n",
              "      <td>0.028536</td>\n",
              "    </tr>\n",
              "    <tr>\n",
              "      <th>supervisor</th>\n",
              "      <td>0.009280</td>\n",
              "      <td>0.037432</td>\n",
              "      <td>0.003729</td>\n",
              "      <td>-0.036199</td>\n",
              "      <td>-0.077929</td>\n",
              "      <td>-0.095113</td>\n",
              "      <td>0.025220</td>\n",
              "      <td>0.049543</td>\n",
              "      <td>0.039570</td>\n",
              "      <td>0.070158</td>\n",
              "      <td>0.103986</td>\n",
              "      <td>0.119302</td>\n",
              "      <td>0.149668</td>\n",
              "      <td>-0.027498</td>\n",
              "      <td>-0.577153</td>\n",
              "      <td>-0.327712</td>\n",
              "      <td>0.574310</td>\n",
              "      <td>1.000000</td>\n",
              "      <td>0.324496</td>\n",
              "      <td>0.159597</td>\n",
              "      <td>0.225373</td>\n",
              "      <td>-0.090507</td>\n",
              "      <td>-0.081311</td>\n",
              "      <td>0.080652</td>\n",
              "      <td>-0.004037</td>\n",
              "    </tr>\n",
              "    <tr>\n",
              "      <th>mental_health_interview</th>\n",
              "      <td>-0.035594</td>\n",
              "      <td>0.093356</td>\n",
              "      <td>-0.059604</td>\n",
              "      <td>-0.048545</td>\n",
              "      <td>-0.066721</td>\n",
              "      <td>-0.127373</td>\n",
              "      <td>0.086542</td>\n",
              "      <td>0.084365</td>\n",
              "      <td>-0.048425</td>\n",
              "      <td>0.003213</td>\n",
              "      <td>-0.023331</td>\n",
              "      <td>0.017632</td>\n",
              "      <td>0.073664</td>\n",
              "      <td>0.021415</td>\n",
              "      <td>-0.301990</td>\n",
              "      <td>-0.089832</td>\n",
              "      <td>0.326344</td>\n",
              "      <td>0.324496</td>\n",
              "      <td>1.000000</td>\n",
              "      <td>0.448844</td>\n",
              "      <td>0.144175</td>\n",
              "      <td>-0.054550</td>\n",
              "      <td>-0.134630</td>\n",
              "      <td>0.090904</td>\n",
              "      <td>0.153730</td>\n",
              "    </tr>\n",
              "    <tr>\n",
              "      <th>phys_health_interview</th>\n",
              "      <td>-0.060736</td>\n",
              "      <td>0.036981</td>\n",
              "      <td>-0.040330</td>\n",
              "      <td>0.006225</td>\n",
              "      <td>0.034644</td>\n",
              "      <td>-0.074896</td>\n",
              "      <td>0.034302</td>\n",
              "      <td>0.003009</td>\n",
              "      <td>-0.101947</td>\n",
              "      <td>-0.023255</td>\n",
              "      <td>-0.043020</td>\n",
              "      <td>-0.022002</td>\n",
              "      <td>0.054248</td>\n",
              "      <td>0.065790</td>\n",
              "      <td>-0.075323</td>\n",
              "      <td>-0.177647</td>\n",
              "      <td>0.144190</td>\n",
              "      <td>0.159597</td>\n",
              "      <td>0.448844</td>\n",
              "      <td>1.000000</td>\n",
              "      <td>0.088544</td>\n",
              "      <td>0.039851</td>\n",
              "      <td>-0.136399</td>\n",
              "      <td>0.123740</td>\n",
              "      <td>0.036700</td>\n",
              "    </tr>\n",
              "    <tr>\n",
              "      <th>mental_vs_physical</th>\n",
              "      <td>-0.011701</td>\n",
              "      <td>0.139845</td>\n",
              "      <td>0.041089</td>\n",
              "      <td>0.062642</td>\n",
              "      <td>0.052884</td>\n",
              "      <td>-0.051468</td>\n",
              "      <td>0.036591</td>\n",
              "      <td>0.029191</td>\n",
              "      <td>0.088881</td>\n",
              "      <td>0.193666</td>\n",
              "      <td>0.193492</td>\n",
              "      <td>0.191607</td>\n",
              "      <td>0.293559</td>\n",
              "      <td>0.155437</td>\n",
              "      <td>-0.206721</td>\n",
              "      <td>-0.076519</td>\n",
              "      <td>0.188174</td>\n",
              "      <td>0.225373</td>\n",
              "      <td>0.144175</td>\n",
              "      <td>0.088544</td>\n",
              "      <td>1.000000</td>\n",
              "      <td>0.024403</td>\n",
              "      <td>0.024913</td>\n",
              "      <td>-0.044855</td>\n",
              "      <td>0.077025</td>\n",
              "    </tr>\n",
              "    <tr>\n",
              "      <th>obs_consequence</th>\n",
              "      <td>0.070583</td>\n",
              "      <td>0.081899</td>\n",
              "      <td>0.124861</td>\n",
              "      <td>0.156972</td>\n",
              "      <td>0.183007</td>\n",
              "      <td>0.041920</td>\n",
              "      <td>-0.039065</td>\n",
              "      <td>-0.062347</td>\n",
              "      <td>0.019873</td>\n",
              "      <td>0.099343</td>\n",
              "      <td>0.078876</td>\n",
              "      <td>0.087155</td>\n",
              "      <td>0.054220</td>\n",
              "      <td>0.203336</td>\n",
              "      <td>0.229827</td>\n",
              "      <td>0.182175</td>\n",
              "      <td>-0.039472</td>\n",
              "      <td>-0.090507</td>\n",
              "      <td>-0.054550</td>\n",
              "      <td>0.039851</td>\n",
              "      <td>0.024403</td>\n",
              "      <td>1.000000</td>\n",
              "      <td>0.069318</td>\n",
              "      <td>-0.088816</td>\n",
              "      <td>0.078909</td>\n",
              "    </tr>\n",
              "    <tr>\n",
              "      <th>Female</th>\n",
              "      <td>-0.080797</td>\n",
              "      <td>-0.044130</td>\n",
              "      <td>0.142253</td>\n",
              "      <td>0.182935</td>\n",
              "      <td>0.119779</td>\n",
              "      <td>0.081196</td>\n",
              "      <td>-0.012863</td>\n",
              "      <td>-0.080251</td>\n",
              "      <td>0.143041</td>\n",
              "      <td>0.097707</td>\n",
              "      <td>0.048164</td>\n",
              "      <td>0.040660</td>\n",
              "      <td>0.025226</td>\n",
              "      <td>0.011154</td>\n",
              "      <td>0.088748</td>\n",
              "      <td>0.079170</td>\n",
              "      <td>-0.054579</td>\n",
              "      <td>-0.081311</td>\n",
              "      <td>-0.134630</td>\n",
              "      <td>-0.136399</td>\n",
              "      <td>0.024913</td>\n",
              "      <td>0.069318</td>\n",
              "      <td>1.000000</td>\n",
              "      <td>-0.964141</td>\n",
              "      <td>-0.054795</td>\n",
              "    </tr>\n",
              "    <tr>\n",
              "      <th>Male</th>\n",
              "      <td>0.090635</td>\n",
              "      <td>0.023376</td>\n",
              "      <td>-0.155726</td>\n",
              "      <td>-0.196204</td>\n",
              "      <td>-0.132824</td>\n",
              "      <td>-0.077996</td>\n",
              "      <td>0.006126</td>\n",
              "      <td>0.069869</td>\n",
              "      <td>-0.145277</td>\n",
              "      <td>-0.110735</td>\n",
              "      <td>-0.063641</td>\n",
              "      <td>-0.044777</td>\n",
              "      <td>-0.040314</td>\n",
              "      <td>-0.024317</td>\n",
              "      <td>-0.102880</td>\n",
              "      <td>-0.099401</td>\n",
              "      <td>0.045832</td>\n",
              "      <td>0.080652</td>\n",
              "      <td>0.090904</td>\n",
              "      <td>0.123740</td>\n",
              "      <td>-0.044855</td>\n",
              "      <td>-0.088816</td>\n",
              "      <td>-0.964141</td>\n",
              "      <td>1.000000</td>\n",
              "      <td>-0.212163</td>\n",
              "    </tr>\n",
              "    <tr>\n",
              "      <th>Non-binary</th>\n",
              "      <td>-0.043491</td>\n",
              "      <td>0.074548</td>\n",
              "      <td>0.062087</td>\n",
              "      <td>0.064581</td>\n",
              "      <td>0.058678</td>\n",
              "      <td>-0.005534</td>\n",
              "      <td>0.024317</td>\n",
              "      <td>0.032629</td>\n",
              "      <td>0.019873</td>\n",
              "      <td>0.056844</td>\n",
              "      <td>0.062087</td>\n",
              "      <td>0.018744</td>\n",
              "      <td>0.058790</td>\n",
              "      <td>0.050420</td>\n",
              "      <td>0.060279</td>\n",
              "      <td>0.082459</td>\n",
              "      <td>0.028536</td>\n",
              "      <td>-0.004037</td>\n",
              "      <td>0.153730</td>\n",
              "      <td>0.036700</td>\n",
              "      <td>0.077025</td>\n",
              "      <td>0.078909</td>\n",
              "      <td>-0.054795</td>\n",
              "      <td>-0.212163</td>\n",
              "      <td>1.000000</td>\n",
              "    </tr>\n",
              "  </tbody>\n",
              "</table>\n",
              "</div>"
            ],
            "text/plain": [
              "                                Age  self_employed  ...      Male  Non-binary\n",
              "Age                        1.000000       0.072372  ...  0.090635   -0.043491\n",
              "self_employed              0.072372       1.000000  ...  0.023376    0.074548\n",
              "family_history             0.009075       0.009890  ... -0.155726    0.062087\n",
              "treatment                  0.073378       0.020493  ... -0.196204    0.064581\n",
              "work_interfere             0.023989       0.085361  ... -0.132824    0.058678\n",
              "no_employees               0.116756      -0.394057  ... -0.077996   -0.005534\n",
              "remote_work                0.146095       0.316533  ...  0.006126    0.024317\n",
              "tech_company              -0.057829       0.080136  ...  0.069869    0.032629\n",
              "benefits                   0.152778      -0.175480  ... -0.145277    0.019873\n",
              "care_options               0.123644       0.059767  ... -0.110735    0.056844\n",
              "wellness_program           0.121503      -0.003576  ... -0.063641    0.062087\n",
              "seek_help                  0.179289      -0.037257  ... -0.044777    0.018744\n",
              "anonymity                  0.024321       0.107915  ... -0.040314    0.058790\n",
              "leave                      0.021266       0.185593  ... -0.024317    0.050420\n",
              "mental_health_consequence  0.067569      -0.057945  ... -0.102880    0.060279\n",
              "phys_health_consequence    0.093737       0.040818  ... -0.099401    0.082459\n",
              "coworkers                 -0.007291       0.076252  ...  0.045832    0.028536\n",
              "supervisor                 0.009280       0.037432  ...  0.080652   -0.004037\n",
              "mental_health_interview   -0.035594       0.093356  ...  0.090904    0.153730\n",
              "phys_health_interview     -0.060736       0.036981  ...  0.123740    0.036700\n",
              "mental_vs_physical        -0.011701       0.139845  ... -0.044855    0.077025\n",
              "obs_consequence            0.070583       0.081899  ... -0.088816    0.078909\n",
              "Female                    -0.080797      -0.044130  ... -0.964141   -0.054795\n",
              "Male                       0.090635       0.023376  ...  1.000000   -0.212163\n",
              "Non-binary                -0.043491       0.074548  ... -0.212163    1.000000\n",
              "\n",
              "[25 rows x 25 columns]"
            ]
          },
          "metadata": {
            "tags": []
          },
          "execution_count": 54
        }
      ]
    },
    {
      "cell_type": "code",
      "metadata": {
        "colab": {
          "base_uri": "https://localhost:8080/",
          "height": 1000
        },
        "id": "comprehensive-spelling",
        "outputId": "12dd9852-33dc-4d88-89a5-d5193a6a2dc7"
      },
      "source": [
        "plt.figure(figsize=(20, 15))\n",
        "sns.heatmap(df.corr(), annot=True, cmap=\"BrBG\", vmax=1, vmin=-1)"
      ],
      "id": "comprehensive-spelling",
      "execution_count": 88,
      "outputs": [
        {
          "output_type": "execute_result",
          "data": {
            "text/plain": [
              "<matplotlib.axes._subplots.AxesSubplot at 0x7fc073153d50>"
            ]
          },
          "metadata": {
            "tags": []
          },
          "execution_count": 88
        },
        {
          "output_type": "display_data",
          "data": {
            "image/png": "[encoded data removed]",
            "text/plain": [
              "<Figure size 1440x1080 with 2 Axes>"
            ]
          },
          "metadata": {
            "tags": []
          }
        }
      ]
    },
    {
      "cell_type": "markdown",
      "metadata": {
        "id": "bXes277960tp"
      },
      "source": [
        "### Задаем таргет и фичи для дальнейшего обучения"
      ],
      "id": "bXes277960tp"
    },
    {
      "cell_type": "code",
      "metadata": {
        "id": "statistical-august"
      },
      "source": [
        "target = 'treatment'\n",
        "features = ['Age',\n",
        "            'self_employed',\n",
        "            'family_history',\n",
        "            'work_interfere',\n",
        "            'no_employees',\n",
        "            'remote_work',\n",
        "            'tech_company',\n",
        "            'benefits',\n",
        "            'care_options',\n",
        "            'wellness_program',\n",
        "            'seek_help',\n",
        "            'anonymity',\n",
        "            'leave',\n",
        "            'mental_health_consequence',\n",
        "            'phys_health_consequence',\n",
        "            'coworkers',\n",
        "            'supervisor',\n",
        "            'mental_health_interview',\n",
        "            'phys_health_interview',\n",
        "            'mental_vs_physical',\n",
        "            'obs_consequence',\n",
        "           'Female',\n",
        "           'Male',\n",
        "           'Non-binary']"
      ],
      "id": "statistical-august",
      "execution_count": 56,
      "outputs": []
    },
    {
      "cell_type": "code",
      "metadata": {
        "id": "emotional-tutorial"
      },
      "source": [
        "x = df[features].to_numpy()\n",
        "y = df[target].to_numpy()"
      ],
      "id": "emotional-tutorial",
      "execution_count": 57,
      "outputs": []
    },
    {
      "cell_type": "markdown",
      "metadata": {
        "id": "Rl9PK3X066Su"
      },
      "source": [
        "### Применяем standard scaler для нормализации наших данных и делим данные на train и test в соотношении 80/20."
      ],
      "id": "Rl9PK3X066Su"
    },
    {
      "cell_type": "code",
      "metadata": {
        "colab": {
          "base_uri": "https://localhost:8080/"
        },
        "id": "senior-small",
        "outputId": "70521ab7-f22c-46bd-b4aa-51cf72a9791b"
      },
      "source": [
        "scaler = StandardScaler()\n",
        "x_norm = scaler.fit_transform(x)\n",
        "x_norm.shape"
      ],
      "id": "senior-small",
      "execution_count": 58,
      "outputs": [
        {
          "output_type": "execute_result",
          "data": {
            "text/plain": [
              "(1259, 24)"
            ]
          },
          "metadata": {
            "tags": []
          },
          "execution_count": 58
        }
      ]
    },
    {
      "cell_type": "code",
      "metadata": {
        "colab": {
          "base_uri": "https://localhost:8080/"
        },
        "id": "copyrighted-brake",
        "outputId": "b84d29b0-43fe-499d-def5-fc18eaaf0b44"
      },
      "source": [
        "x_train, x_test, y_train, y_test = train_test_split(x_norm, y, test_size=0.2, random_state=10)\n",
        "x_train.shape, x_test.shape"
      ],
      "id": "copyrighted-brake",
      "execution_count": 59,
      "outputs": [
        {
          "output_type": "execute_result",
          "data": {
            "text/plain": [
              "((1007, 24), (252, 24))"
            ]
          },
          "metadata": {
            "tags": []
          },
          "execution_count": 59
        }
      ]
    },
    {
      "cell_type": "markdown",
      "metadata": {
        "id": "7-bT9PL67JMP"
      },
      "source": [
        "## Обучение. Для оценки модели была применена метрика recall.\n"
      ],
      "id": "7-bT9PL67JMP"
    },
    {
      "cell_type": "markdown",
      "metadata": {
        "id": "universal-relay"
      },
      "source": [
        "### Логистическая регрессия\n"
      ],
      "id": "universal-relay"
    },
    {
      "cell_type": "code",
      "metadata": {
        "colab": {
          "base_uri": "https://localhost:8080/"
        },
        "id": "surgical-exhibit",
        "outputId": "8cd87bab-6183-4e79-c2bc-9a7fd8ab5bc7"
      },
      "source": [
        "#Model\n",
        "logreg = LogisticRegression(C=0.01)\n",
        "logreg.fit(x_train, y_train)\n",
        "\n",
        "#prediction\n",
        "y_pred_train = logreg.predict(x_train)\n",
        "y_pred_test = logreg.predict(x_test)\n",
        "\n",
        "\n",
        "logreg_score_train = round(recall_score(y_pred_train, y_train) * 100, 2)\n",
        "logreg_score_test = round(recall_score(y_pred_test, y_test) * 100, 2)\n",
        "\n",
        "print(f\" Recall on train is {logreg_score_train}\")\n",
        "print(f\" Recall on test is {logreg_score_test}\")"
      ],
      "id": "surgical-exhibit",
      "execution_count": 60,
      "outputs": [
        {
          "output_type": "stream",
          "text": [
            " Recall on train is 82.14\n",
            " Recall on test is 77.78\n"
          ],
          "name": "stdout"
        }
      ]
    },
    {
      "cell_type": "markdown",
      "metadata": {
        "id": "union-doubt"
      },
      "source": [
        "### Метод ближайших соседей\n"
      ],
      "id": "union-doubt"
    },
    {
      "cell_type": "code",
      "metadata": {
        "colab": {
          "base_uri": "https://localhost:8080/"
        },
        "id": "dirty-prescription",
        "outputId": "7a7f8671-3258-4a92-e61a-1e95393e65a0"
      },
      "source": [
        "neighbors = KNeighborsClassifier(n_neighbors = 5)\n",
        "\n",
        "neighbors.fit(x_train, y_train)\n",
        "\n",
        "y_pred_test = neighbors.predict(x_test)\n",
        "y_pred_train = neighbors.predict(x_train)\n",
        "\n",
        "neighbors_score_train = round(recall_score(y_pred_train, y_train) * 100, 2)\n",
        "neighbors_score_test = round(recall_score(y_pred_test, y_test) * 100, 2)\n",
        "\n",
        "print(f\" Recall on train is {neighbors_score_train}\")\n",
        "print(f\" Recall on test is {neighbors_score_test}\")"
      ],
      "id": "dirty-prescription",
      "execution_count": 61,
      "outputs": [
        {
          "output_type": "stream",
          "text": [
            " Recall on train is 87.86\n",
            " Recall on test is 80.0\n"
          ],
          "name": "stdout"
        }
      ]
    },
    {
      "cell_type": "markdown",
      "metadata": {
        "id": "bacterial-tourism"
      },
      "source": [
        "### Метод опорных векторов"
      ],
      "id": "bacterial-tourism"
    },
    {
      "cell_type": "code",
      "metadata": {
        "colab": {
          "base_uri": "https://localhost:8080/"
        },
        "id": "secondary-syntax",
        "outputId": "5e3dc929-bc55-46d0-a300-3b430981f70e"
      },
      "source": [
        "clf = SVC(C=0.01, kernel='sigmoid')\n",
        "clf.fit(x_train, y_train)\n",
        "\n",
        "y_pred_train = clf.predict(x_train)\n",
        "y_pred_test = clf.predict(x_test)\n",
        "\n",
        "svm_score_train = round(recall_score(y_pred_train, y_train) * 100, 4)\n",
        "svm_score_test = round(recall_score(y_pred_test, y_test) * 100, 4)\n",
        "\n",
        "print(f\" Recall on train is {svm_score_train}\")\n",
        "print(f\" Recall on test is {svm_score_test}\")"
      ],
      "id": "secondary-syntax",
      "execution_count": 62,
      "outputs": [
        {
          "output_type": "stream",
          "text": [
            " Recall on train is 80.8081\n",
            " Recall on test is 78.2258\n"
          ],
          "name": "stdout"
        }
      ]
    },
    {
      "cell_type": "markdown",
      "metadata": {
        "id": "amended-breeding"
      },
      "source": [
        "### Дерево Решений"
      ],
      "id": "amended-breeding"
    },
    {
      "cell_type": "code",
      "metadata": {
        "colab": {
          "base_uri": "https://localhost:8080/"
        },
        "id": "dying-consortium",
        "outputId": "e0bff528-2535-48d0-dce4-3e3e82011db3"
      },
      "source": [
        "tree = DecisionTreeClassifier(criterion = 'gini',\n",
        "                             max_depth = 2,\n",
        "                             min_samples_leaf = 2,\n",
        "                              max_features=None\n",
        "                             )\n",
        "\n",
        "tree.fit(x_train, y_train)\n",
        "\n",
        "y_pred_test = tree.predict(x_test)\n",
        "\n",
        "tree_score_test = round(recall_score(y_pred_test, y_test) * 100, 4)\n",
        "\n",
        "print(tree_score_test)"
      ],
      "id": "dying-consortium",
      "execution_count": 63,
      "outputs": [
        {
          "output_type": "stream",
          "text": [
            "75.4717\n"
          ],
          "name": "stdout"
        }
      ]
    },
    {
      "cell_type": "markdown",
      "metadata": {
        "id": "indoor-invite"
      },
      "source": [
        "### Grid search + Decision Tree"
      ],
      "id": "indoor-invite"
    },
    {
      "cell_type": "code",
      "metadata": {
        "id": "arctic-apparatus"
      },
      "source": [
        "# Grid search + cross validation\n",
        "\n",
        "clf = DecisionTreeClassifier()\n",
        "\n",
        "# будут рассмотрены все возможные комбинаци этих значений\n",
        "param_grid = {'criterion': ['gini', 'entropy'],\n",
        "    'max_depth': [2, 3, 5, 10, 20, None],\n",
        "    'min_samples_split': [2, 5, 10],\n",
        "    'max_features': [0.5, 'sqrt', None]\n",
        "}\n",
        "\n",
        "dt = GridSearchCV(\n",
        "    estimator=clf,\n",
        "    param_grid=param_grid,\n",
        "    scoring='recall',\n",
        "    cv=5, \n",
        "    verbose=4 \n",
        ")"
      ],
      "id": "arctic-apparatus",
      "execution_count": 64,
      "outputs": []
    },
    {
      "cell_type": "code",
      "metadata": {
        "colab": {
          "base_uri": "https://localhost:8080/"
        },
        "id": "breathing-tribute",
        "outputId": "ade95bfa-c1c3-434b-8426-9701856b913f"
      },
      "source": [
        "dt.fit(x_train, y_train)"
      ],
      "id": "breathing-tribute",
      "execution_count": 65,
      "outputs": [
        {
          "output_type": "stream",
          "text": [
            "Fitting 5 folds for each of 108 candidates, totalling 540 fits\n",
            "[CV] criterion=gini, max_depth=2, max_features=0.5, min_samples_split=2 \n",
            "[CV]  criterion=gini, max_depth=2, max_features=0.5, min_samples_split=2, score=0.971, total=   0.0s\n",
            "[CV] criterion=gini, max_depth=2, max_features=0.5, min_samples_split=2 \n",
            "[CV]  criterion=gini, max_depth=2, max_features=0.5, min_samples_split=2, score=0.941, total=   0.0s\n",
            "[CV] criterion=gini, max_depth=2, max_features=0.5, min_samples_split=2 \n",
            "[CV]  criterion=gini, max_depth=2, max_features=0.5, min_samples_split=2, score=0.960, total=   0.0s\n",
            "[CV] criterion=gini, max_depth=2, max_features=0.5, min_samples_split=2 \n",
            "[CV]  criterion=gini, max_depth=2, max_features=0.5, min_samples_split=2, score=0.762, total=   0.0s\n",
            "[CV] criterion=gini, max_depth=2, max_features=0.5, min_samples_split=2 \n",
            "[CV]  criterion=gini, max_depth=2, max_features=0.5, min_samples_split=2, score=0.733, total=   0.0s\n",
            "[CV] criterion=gini, max_depth=2, max_features=0.5, min_samples_split=5 \n",
            "[CV]  criterion=gini, max_depth=2, max_features=0.5, min_samples_split=5, score=0.853, total=   0.0s\n",
            "[CV] criterion=gini, max_depth=2, max_features=0.5, min_samples_split=5 \n",
            "[CV]  criterion=gini, max_depth=2, max_features=0.5, min_samples_split=5, score=0.941, total=   0.0s\n",
            "[CV] criterion=gini, max_depth=2, max_features=0.5, min_samples_split=5 \n",
            "[CV]  criterion=gini, max_depth=2, max_features=0.5, min_samples_split=5, score=0.614, total=   0.0s\n",
            "[CV] criterion=gini, max_depth=2, max_features=0.5, min_samples_split=5 \n",
            "[CV]  criterion=gini, max_depth=2, max_features=0.5, min_samples_split=5, score=0.960, total=   0.0s\n",
            "[CV] criterion=gini, max_depth=2, max_features=0.5, min_samples_split=5 \n",
            "[CV]  criterion=gini, max_depth=2, max_features=0.5, min_samples_split=5, score=0.960, total=   0.0s\n",
            "[CV] criterion=gini, max_depth=2, max_features=0.5, min_samples_split=10 \n",
            "[CV]  criterion=gini, max_depth=2, max_features=0.5, min_samples_split=10, score=0.971, total=   0.0s\n",
            "[CV] criterion=gini, max_depth=2, max_features=0.5, min_samples_split=10 \n",
            "[CV]  criterion=gini, max_depth=2, max_features=0.5, min_samples_split=10, score=0.961, total=   0.0s\n",
            "[CV] criterion=gini, max_depth=2, max_features=0.5, min_samples_split=10 \n",
            "[CV]  criterion=gini, max_depth=2, max_features=0.5, min_samples_split=10, score=0.624, total=   0.0s\n",
            "[CV] criterion=gini, max_depth=2, max_features=0.5, min_samples_split=10 \n",
            "[CV]  criterion=gini, max_depth=2, max_features=0.5, min_samples_split=10, score=0.960, total=   0.0s\n",
            "[CV] criterion=gini, max_depth=2, max_features=0.5, min_samples_split=10 \n",
            "[CV]  criterion=gini, max_depth=2, max_features=0.5, min_samples_split=10, score=0.931, total=   0.0s\n",
            "[CV] criterion=gini, max_depth=2, max_features=sqrt, min_samples_split=2 \n",
            "[CV]  criterion=gini, max_depth=2, max_features=sqrt, min_samples_split=2, score=0.706, total=   0.0s\n",
            "[CV] criterion=gini, max_depth=2, max_features=sqrt, min_samples_split=2 \n",
            "[CV]  criterion=gini, max_depth=2, max_features=sqrt, min_samples_split=2, score=0.804, total=   0.0s\n",
            "[CV] criterion=gini, max_depth=2, max_features=sqrt, min_samples_split=2 \n",
            "[CV]  criterion=gini, max_depth=2, max_features=sqrt, min_samples_split=2, score=0.960, total=   0.0s\n",
            "[CV] criterion=gini, max_depth=2, max_features=sqrt, min_samples_split=2 \n",
            "[CV]  criterion=gini, max_depth=2, max_features=sqrt, min_samples_split=2, score=0.554, total=   0.0s\n",
            "[CV] criterion=gini, max_depth=2, max_features=sqrt, min_samples_split=2 \n",
            "[CV]  criterion=gini, max_depth=2, max_features=sqrt, min_samples_split=2, score=0.950, total=   0.0s\n",
            "[CV] criterion=gini, max_depth=2, max_features=sqrt, min_samples_split=5 \n",
            "[CV]  criterion=gini, max_depth=2, max_features=sqrt, min_samples_split=5, score=0.569, total=   0.0s\n",
            "[CV] criterion=gini, max_depth=2, max_features=sqrt, min_samples_split=5 \n",
            "[CV]  criterion=gini, max_depth=2, max_features=sqrt, min_samples_split=5, score=0.961, total=   0.0s\n",
            "[CV] criterion=gini, max_depth=2, max_features=sqrt, min_samples_split=5 \n",
            "[CV]  criterion=gini, max_depth=2, max_features=sqrt, min_samples_split=5, score=0.663, total=   0.0s\n",
            "[CV] criterion=gini, max_depth=2, max_features=sqrt, min_samples_split=5 \n",
            "[CV]  criterion=gini, max_depth=2, max_features=sqrt, min_samples_split=5, score=0.970, total=   0.0s\n",
            "[CV] criterion=gini, max_depth=2, max_features=sqrt, min_samples_split=5 \n",
            "[CV]  criterion=gini, max_depth=2, max_features=sqrt, min_samples_split=5, score=0.475, total=   0.0s\n",
            "[CV] criterion=gini, max_depth=2, max_features=sqrt, min_samples_split=10 \n",
            "[CV]  criterion=gini, max_depth=2, max_features=sqrt, min_samples_split=10, score=0.971, total=   0.0s\n",
            "[CV] criterion=gini, max_depth=2, max_features=sqrt, min_samples_split=10 \n",
            "[CV]  criterion=gini, max_depth=2, max_features=sqrt, min_samples_split=10, score=0.422, total=   0.0s\n",
            "[CV] criterion=gini, max_depth=2, max_features=sqrt, min_samples_split=10 \n",
            "[CV]  criterion=gini, max_depth=2, max_features=sqrt, min_samples_split=10, score=0.970, total=   0.0s\n",
            "[CV] criterion=gini, max_depth=2, max_features=sqrt, min_samples_split=10 \n",
            "[CV]  criterion=gini, max_depth=2, max_features=sqrt, min_samples_split=10, score=0.960, total=   0.0s\n",
            "[CV] criterion=gini, max_depth=2, max_features=sqrt, min_samples_split=10 \n",
            "[CV]  criterion=gini, max_depth=2, max_features=sqrt, min_samples_split=10, score=0.426, total=   0.0s\n",
            "[CV] criterion=gini, max_depth=2, max_features=None, min_samples_split=2 \n",
            "[CV]  criterion=gini, max_depth=2, max_features=None, min_samples_split=2, score=0.971, total=   0.0s\n",
            "[CV] criterion=gini, max_depth=2, max_features=None, min_samples_split=2 \n",
            "[CV]  criterion=gini, max_depth=2, max_features=None, min_samples_split=2, score=0.941, total=   0.0s\n",
            "[CV] criterion=gini, max_depth=2, max_features=None, min_samples_split=2 \n",
            "[CV]  criterion=gini, max_depth=2, max_features=None, min_samples_split=2, score=0.960, total=   0.0s\n",
            "[CV] criterion=gini, max_depth=2, max_features=None, min_samples_split=2 \n",
            "[CV]  criterion=gini, max_depth=2, max_features=None, min_samples_split=2, score=0.960, total=   0.0s\n",
            "[CV] criterion=gini, max_depth=2, max_features=None, min_samples_split=2 \n",
            "[CV]  criterion=gini, max_depth=2, max_features=None, min_samples_split=2, score=0.931, total=   0.0s\n",
            "[CV] criterion=gini, max_depth=2, max_features=None, min_samples_split=5 \n",
            "[CV]  criterion=gini, max_depth=2, max_features=None, min_samples_split=5, score=0.971, total=   0.0s\n",
            "[CV] criterion=gini, max_depth=2, max_features=None, min_samples_split=5 \n",
            "[CV]  criterion=gini, max_depth=2, max_features=None, min_samples_split=5, score=0.941, total=   0.0s\n",
            "[CV] criterion=gini, max_depth=2, max_features=None, min_samples_split=5 \n",
            "[CV]  criterion=gini, max_depth=2, max_features=None, min_samples_split=5, score=0.960, total=   0.0s\n",
            "[CV] criterion=gini, max_depth=2, max_features=None, min_samples_split=5 \n",
            "[CV]  criterion=gini, max_depth=2, max_features=None, min_samples_split=5, score=0.960, total=   0.0s\n",
            "[CV] criterion=gini, max_depth=2, max_features=None, min_samples_split=5 \n",
            "[CV]  criterion=gini, max_depth=2, max_features=None, min_samples_split=5, score=0.931, total=   0.0s\n",
            "[CV] criterion=gini, max_depth=2, max_features=None, min_samples_split=10 \n",
            "[CV]  criterion=gini, max_depth=2, max_features=None, min_samples_split=10, score=0.971, total=   0.0s\n",
            "[CV] criterion=gini, max_depth=2, max_features=None, min_samples_split=10 \n",
            "[CV]  criterion=gini, max_depth=2, max_features=None, min_samples_split=10, score=0.941, total=   0.0s\n",
            "[CV] criterion=gini, max_depth=2, max_features=None, min_samples_split=10 \n",
            "[CV]  criterion=gini, max_depth=2, max_features=None, min_samples_split=10, score=0.960, total=   0.0s\n",
            "[CV] criterion=gini, max_depth=2, max_features=None, min_samples_split=10 \n",
            "[CV]  criterion=gini, max_depth=2, max_features=None, min_samples_split=10, score=0.960, total=   0.0s\n",
            "[CV] criterion=gini, max_depth=2, max_features=None, min_samples_split=10 \n",
            "[CV]  criterion=gini, max_depth=2, max_features=None, min_samples_split=10, score=0.931, total=   0.0s\n",
            "[CV] criterion=gini, max_depth=3, max_features=0.5, min_samples_split=2 \n",
            "[CV]  criterion=gini, max_depth=3, max_features=0.5, min_samples_split=2, score=0.971, total=   0.0s\n",
            "[CV] criterion=gini, max_depth=3, max_features=0.5, min_samples_split=2 \n",
            "[CV]  criterion=gini, max_depth=3, max_features=0.5, min_samples_split=2, score=0.922, total=   0.0s\n",
            "[CV] criterion=gini, max_depth=3, max_features=0.5, min_samples_split=2 \n"
          ],
          "name": "stdout"
        },
        {
          "output_type": "stream",
          "text": [
            "[Parallel(n_jobs=1)]: Using backend SequentialBackend with 1 concurrent workers.\n",
            "[Parallel(n_jobs=1)]: Done   1 out of   1 | elapsed:    0.0s remaining:    0.0s\n",
            "[Parallel(n_jobs=1)]: Done   2 out of   2 | elapsed:    0.0s remaining:    0.0s\n",
            "[Parallel(n_jobs=1)]: Done   3 out of   3 | elapsed:    0.0s remaining:    0.0s\n"
          ],
          "name": "stderr"
        },
        {
          "output_type": "stream",
          "text": [
            "[CV]  criterion=gini, max_depth=3, max_features=0.5, min_samples_split=2, score=0.960, total=   0.0s\n",
            "[CV] criterion=gini, max_depth=3, max_features=0.5, min_samples_split=2 \n",
            "[CV]  criterion=gini, max_depth=3, max_features=0.5, min_samples_split=2, score=0.960, total=   0.0s\n",
            "[CV] criterion=gini, max_depth=3, max_features=0.5, min_samples_split=2 \n",
            "[CV]  criterion=gini, max_depth=3, max_features=0.5, min_samples_split=2, score=0.931, total=   0.0s\n",
            "[CV] criterion=gini, max_depth=3, max_features=0.5, min_samples_split=5 \n",
            "[CV]  criterion=gini, max_depth=3, max_features=0.5, min_samples_split=5, score=0.971, total=   0.0s\n",
            "[CV] criterion=gini, max_depth=3, max_features=0.5, min_samples_split=5 \n",
            "[CV]  criterion=gini, max_depth=3, max_features=0.5, min_samples_split=5, score=0.951, total=   0.0s\n",
            "[CV] criterion=gini, max_depth=3, max_features=0.5, min_samples_split=5 \n",
            "[CV]  criterion=gini, max_depth=3, max_features=0.5, min_samples_split=5, score=0.960, total=   0.0s\n",
            "[CV] criterion=gini, max_depth=3, max_features=0.5, min_samples_split=5 \n",
            "[CV]  criterion=gini, max_depth=3, max_features=0.5, min_samples_split=5, score=0.960, total=   0.0s\n",
            "[CV] criterion=gini, max_depth=3, max_features=0.5, min_samples_split=5 \n",
            "[CV]  criterion=gini, max_depth=3, max_features=0.5, min_samples_split=5, score=0.703, total=   0.0s\n",
            "[CV] criterion=gini, max_depth=3, max_features=0.5, min_samples_split=10 \n",
            "[CV]  criterion=gini, max_depth=3, max_features=0.5, min_samples_split=10, score=0.971, total=   0.0s\n",
            "[CV] criterion=gini, max_depth=3, max_features=0.5, min_samples_split=10 \n",
            "[CV]  criterion=gini, max_depth=3, max_features=0.5, min_samples_split=10, score=0.941, total=   0.0s\n",
            "[CV] criterion=gini, max_depth=3, max_features=0.5, min_samples_split=10 \n",
            "[CV]  criterion=gini, max_depth=3, max_features=0.5, min_samples_split=10, score=0.980, total=   0.0s\n",
            "[CV] criterion=gini, max_depth=3, max_features=0.5, min_samples_split=10 \n",
            "[CV]  criterion=gini, max_depth=3, max_features=0.5, min_samples_split=10, score=0.960, total=   0.0s\n",
            "[CV] criterion=gini, max_depth=3, max_features=0.5, min_samples_split=10 \n",
            "[CV]  criterion=gini, max_depth=3, max_features=0.5, min_samples_split=10, score=0.941, total=   0.0s\n",
            "[CV] criterion=gini, max_depth=3, max_features=sqrt, min_samples_split=2 \n",
            "[CV]  criterion=gini, max_depth=3, max_features=sqrt, min_samples_split=2, score=0.863, total=   0.0s\n",
            "[CV] criterion=gini, max_depth=3, max_features=sqrt, min_samples_split=2 \n",
            "[CV]  criterion=gini, max_depth=3, max_features=sqrt, min_samples_split=2, score=0.941, total=   0.0s\n",
            "[CV] criterion=gini, max_depth=3, max_features=sqrt, min_samples_split=2 \n",
            "[CV]  criterion=gini, max_depth=3, max_features=sqrt, min_samples_split=2, score=0.693, total=   0.0s\n",
            "[CV] criterion=gini, max_depth=3, max_features=sqrt, min_samples_split=2 \n",
            "[CV]  criterion=gini, max_depth=3, max_features=sqrt, min_samples_split=2, score=0.663, total=   0.0s\n",
            "[CV] criterion=gini, max_depth=3, max_features=sqrt, min_samples_split=2 \n",
            "[CV]  criterion=gini, max_depth=3, max_features=sqrt, min_samples_split=2, score=0.871, total=   0.0s\n",
            "[CV] criterion=gini, max_depth=3, max_features=sqrt, min_samples_split=5 \n",
            "[CV]  criterion=gini, max_depth=3, max_features=sqrt, min_samples_split=5, score=0.980, total=   0.0s\n",
            "[CV] criterion=gini, max_depth=3, max_features=sqrt, min_samples_split=5 \n",
            "[CV]  criterion=gini, max_depth=3, max_features=sqrt, min_samples_split=5, score=0.853, total=   0.0s\n",
            "[CV] criterion=gini, max_depth=3, max_features=sqrt, min_samples_split=5 \n",
            "[CV]  criterion=gini, max_depth=3, max_features=sqrt, min_samples_split=5, score=0.960, total=   0.0s\n",
            "[CV] criterion=gini, max_depth=3, max_features=sqrt, min_samples_split=5 \n",
            "[CV]  criterion=gini, max_depth=3, max_features=sqrt, min_samples_split=5, score=0.574, total=   0.0s\n",
            "[CV] criterion=gini, max_depth=3, max_features=sqrt, min_samples_split=5 \n",
            "[CV]  criterion=gini, max_depth=3, max_features=sqrt, min_samples_split=5, score=0.762, total=   0.0s\n",
            "[CV] criterion=gini, max_depth=3, max_features=sqrt, min_samples_split=10 \n",
            "[CV]  criterion=gini, max_depth=3, max_features=sqrt, min_samples_split=10, score=0.647, total=   0.0s\n",
            "[CV] criterion=gini, max_depth=3, max_features=sqrt, min_samples_split=10 \n",
            "[CV]  criterion=gini, max_depth=3, max_features=sqrt, min_samples_split=10, score=0.853, total=   0.0s\n",
            "[CV] criterion=gini, max_depth=3, max_features=sqrt, min_samples_split=10 \n",
            "[CV]  criterion=gini, max_depth=3, max_features=sqrt, min_samples_split=10, score=0.822, total=   0.0s\n",
            "[CV] criterion=gini, max_depth=3, max_features=sqrt, min_samples_split=10 \n",
            "[CV]  criterion=gini, max_depth=3, max_features=sqrt, min_samples_split=10, score=0.881, total=   0.0s\n",
            "[CV] criterion=gini, max_depth=3, max_features=sqrt, min_samples_split=10 \n",
            "[CV]  criterion=gini, max_depth=3, max_features=sqrt, min_samples_split=10, score=0.396, total=   0.0s\n",
            "[CV] criterion=gini, max_depth=3, max_features=None, min_samples_split=2 \n",
            "[CV]  criterion=gini, max_depth=3, max_features=None, min_samples_split=2, score=0.971, total=   0.0s\n",
            "[CV] criterion=gini, max_depth=3, max_features=None, min_samples_split=2 \n",
            "[CV]  criterion=gini, max_depth=3, max_features=None, min_samples_split=2, score=0.941, total=   0.0s\n",
            "[CV] criterion=gini, max_depth=3, max_features=None, min_samples_split=2 \n",
            "[CV]  criterion=gini, max_depth=3, max_features=None, min_samples_split=2, score=0.960, total=   0.0s\n",
            "[CV] criterion=gini, max_depth=3, max_features=None, min_samples_split=2 \n",
            "[CV]  criterion=gini, max_depth=3, max_features=None, min_samples_split=2, score=0.960, total=   0.0s\n",
            "[CV] criterion=gini, max_depth=3, max_features=None, min_samples_split=2 \n",
            "[CV]  criterion=gini, max_depth=3, max_features=None, min_samples_split=2, score=0.931, total=   0.0s\n",
            "[CV] criterion=gini, max_depth=3, max_features=None, min_samples_split=5 \n",
            "[CV]  criterion=gini, max_depth=3, max_features=None, min_samples_split=5, score=0.971, total=   0.0s\n",
            "[CV] criterion=gini, max_depth=3, max_features=None, min_samples_split=5 \n",
            "[CV]  criterion=gini, max_depth=3, max_features=None, min_samples_split=5, score=0.941, total=   0.0s\n",
            "[CV] criterion=gini, max_depth=3, max_features=None, min_samples_split=5 \n",
            "[CV]  criterion=gini, max_depth=3, max_features=None, min_samples_split=5, score=0.960, total=   0.0s\n",
            "[CV] criterion=gini, max_depth=3, max_features=None, min_samples_split=5 \n",
            "[CV]  criterion=gini, max_depth=3, max_features=None, min_samples_split=5, score=0.960, total=   0.0s\n",
            "[CV] criterion=gini, max_depth=3, max_features=None, min_samples_split=5 \n",
            "[CV]  criterion=gini, max_depth=3, max_features=None, min_samples_split=5, score=0.931, total=   0.0s\n",
            "[CV] criterion=gini, max_depth=3, max_features=None, min_samples_split=10 \n",
            "[CV]  criterion=gini, max_depth=3, max_features=None, min_samples_split=10, score=0.971, total=   0.0s\n",
            "[CV] criterion=gini, max_depth=3, max_features=None, min_samples_split=10 \n",
            "[CV]  criterion=gini, max_depth=3, max_features=None, min_samples_split=10, score=0.941, total=   0.0s\n",
            "[CV] criterion=gini, max_depth=3, max_features=None, min_samples_split=10 \n",
            "[CV]  criterion=gini, max_depth=3, max_features=None, min_samples_split=10, score=0.960, total=   0.0s\n",
            "[CV] criterion=gini, max_depth=3, max_features=None, min_samples_split=10 \n",
            "[CV]  criterion=gini, max_depth=3, max_features=None, min_samples_split=10, score=0.960, total=   0.0s\n",
            "[CV] criterion=gini, max_depth=3, max_features=None, min_samples_split=10 \n",
            "[CV]  criterion=gini, max_depth=3, max_features=None, min_samples_split=10, score=0.931, total=   0.0s\n",
            "[CV] criterion=gini, max_depth=5, max_features=0.5, min_samples_split=2 \n",
            "[CV]  criterion=gini, max_depth=5, max_features=0.5, min_samples_split=2, score=0.961, total=   0.0s\n",
            "[CV] criterion=gini, max_depth=5, max_features=0.5, min_samples_split=2 \n",
            "[CV]  criterion=gini, max_depth=5, max_features=0.5, min_samples_split=2, score=0.892, total=   0.0s\n",
            "[CV] criterion=gini, max_depth=5, max_features=0.5, min_samples_split=2 \n",
            "[CV]  criterion=gini, max_depth=5, max_features=0.5, min_samples_split=2, score=0.881, total=   0.0s\n",
            "[CV] criterion=gini, max_depth=5, max_features=0.5, min_samples_split=2 \n",
            "[CV]  criterion=gini, max_depth=5, max_features=0.5, min_samples_split=2, score=0.861, total=   0.0s\n",
            "[CV] criterion=gini, max_depth=5, max_features=0.5, min_samples_split=2 \n",
            "[CV]  criterion=gini, max_depth=5, max_features=0.5, min_samples_split=2, score=0.683, total=   0.0s\n",
            "[CV] criterion=gini, max_depth=5, max_features=0.5, min_samples_split=5 \n",
            "[CV]  criterion=gini, max_depth=5, max_features=0.5, min_samples_split=5, score=0.902, total=   0.0s\n",
            "[CV] criterion=gini, max_depth=5, max_features=0.5, min_samples_split=5 \n",
            "[CV]  criterion=gini, max_depth=5, max_features=0.5, min_samples_split=5, score=0.902, total=   0.0s\n",
            "[CV] criterion=gini, max_depth=5, max_features=0.5, min_samples_split=5 \n",
            "[CV]  criterion=gini, max_depth=5, max_features=0.5, min_samples_split=5, score=0.723, total=   0.0s\n",
            "[CV] criterion=gini, max_depth=5, max_features=0.5, min_samples_split=5 \n",
            "[CV]  criterion=gini, max_depth=5, max_features=0.5, min_samples_split=5, score=0.911, total=   0.0s\n",
            "[CV] criterion=gini, max_depth=5, max_features=0.5, min_samples_split=5 \n",
            "[CV]  criterion=gini, max_depth=5, max_features=0.5, min_samples_split=5, score=0.703, total=   0.0s\n",
            "[CV] criterion=gini, max_depth=5, max_features=0.5, min_samples_split=10 \n",
            "[CV]  criterion=gini, max_depth=5, max_features=0.5, min_samples_split=10, score=0.931, total=   0.0s\n",
            "[CV] criterion=gini, max_depth=5, max_features=0.5, min_samples_split=10 \n",
            "[CV]  criterion=gini, max_depth=5, max_features=0.5, min_samples_split=10, score=0.912, total=   0.0s\n",
            "[CV] criterion=gini, max_depth=5, max_features=0.5, min_samples_split=10 \n",
            "[CV]  criterion=gini, max_depth=5, max_features=0.5, min_samples_split=10, score=0.871, total=   0.0s\n",
            "[CV] criterion=gini, max_depth=5, max_features=0.5, min_samples_split=10 \n",
            "[CV]  criterion=gini, max_depth=5, max_features=0.5, min_samples_split=10, score=0.941, total=   0.0s\n",
            "[CV] criterion=gini, max_depth=5, max_features=0.5, min_samples_split=10 \n",
            "[CV]  criterion=gini, max_depth=5, max_features=0.5, min_samples_split=10, score=0.861, total=   0.0s\n",
            "[CV] criterion=gini, max_depth=5, max_features=sqrt, min_samples_split=2 \n",
            "[CV]  criterion=gini, max_depth=5, max_features=sqrt, min_samples_split=2, score=0.755, total=   0.0s\n",
            "[CV] criterion=gini, max_depth=5, max_features=sqrt, min_samples_split=2 \n",
            "[CV]  criterion=gini, max_depth=5, max_features=sqrt, min_samples_split=2, score=0.961, total=   0.0s\n",
            "[CV] criterion=gini, max_depth=5, max_features=sqrt, min_samples_split=2 \n",
            "[CV]  criterion=gini, max_depth=5, max_features=sqrt, min_samples_split=2, score=0.792, total=   0.0s\n",
            "[CV] criterion=gini, max_depth=5, max_features=sqrt, min_samples_split=2 \n",
            "[CV]  criterion=gini, max_depth=5, max_features=sqrt, min_samples_split=2, score=0.950, total=   0.0s\n",
            "[CV] criterion=gini, max_depth=5, max_features=sqrt, min_samples_split=2 \n",
            "[CV]  criterion=gini, max_depth=5, max_features=sqrt, min_samples_split=2, score=0.644, total=   0.0s\n",
            "[CV] criterion=gini, max_depth=5, max_features=sqrt, min_samples_split=5 \n",
            "[CV]  criterion=gini, max_depth=5, max_features=sqrt, min_samples_split=5, score=0.912, total=   0.0s\n",
            "[CV] criterion=gini, max_depth=5, max_features=sqrt, min_samples_split=5 \n",
            "[CV]  criterion=gini, max_depth=5, max_features=sqrt, min_samples_split=5, score=0.882, total=   0.0s\n",
            "[CV] criterion=gini, max_depth=5, max_features=sqrt, min_samples_split=5 \n",
            "[CV]  criterion=gini, max_depth=5, max_features=sqrt, min_samples_split=5, score=0.663, total=   0.0s\n",
            "[CV] criterion=gini, max_depth=5, max_features=sqrt, min_samples_split=5 \n",
            "[CV]  criterion=gini, max_depth=5, max_features=sqrt, min_samples_split=5, score=0.792, total=   0.0s\n",
            "[CV] criterion=gini, max_depth=5, max_features=sqrt, min_samples_split=5 \n",
            "[CV]  criterion=gini, max_depth=5, max_features=sqrt, min_samples_split=5, score=0.703, total=   0.0s\n",
            "[CV] criterion=gini, max_depth=5, max_features=sqrt, min_samples_split=10 \n",
            "[CV]  criterion=gini, max_depth=5, max_features=sqrt, min_samples_split=10, score=0.873, total=   0.0s\n",
            "[CV] criterion=gini, max_depth=5, max_features=sqrt, min_samples_split=10 \n",
            "[CV]  criterion=gini, max_depth=5, max_features=sqrt, min_samples_split=10, score=0.578, total=   0.0s\n",
            "[CV] criterion=gini, max_depth=5, max_features=sqrt, min_samples_split=10 \n",
            "[CV]  criterion=gini, max_depth=5, max_features=sqrt, min_samples_split=10, score=0.891, total=   0.0s\n",
            "[CV] criterion=gini, max_depth=5, max_features=sqrt, min_samples_split=10 \n",
            "[CV]  criterion=gini, max_depth=5, max_features=sqrt, min_samples_split=10, score=0.663, total=   0.0s\n",
            "[CV] criterion=gini, max_depth=5, max_features=sqrt, min_samples_split=10 \n",
            "[CV]  criterion=gini, max_depth=5, max_features=sqrt, min_samples_split=10, score=0.950, total=   0.0s\n",
            "[CV] criterion=gini, max_depth=5, max_features=None, min_samples_split=2 \n",
            "[CV]  criterion=gini, max_depth=5, max_features=None, min_samples_split=2, score=0.922, total=   0.0s\n",
            "[CV] criterion=gini, max_depth=5, max_features=None, min_samples_split=2 \n",
            "[CV]  criterion=gini, max_depth=5, max_features=None, min_samples_split=2, score=0.912, total=   0.0s\n",
            "[CV] criterion=gini, max_depth=5, max_features=None, min_samples_split=2 \n",
            "[CV]  criterion=gini, max_depth=5, max_features=None, min_samples_split=2, score=0.871, total=   0.0s\n",
            "[CV] criterion=gini, max_depth=5, max_features=None, min_samples_split=2 \n",
            "[CV]  criterion=gini, max_depth=5, max_features=None, min_samples_split=2, score=0.881, total=   0.0s\n",
            "[CV] criterion=gini, max_depth=5, max_features=None, min_samples_split=2 \n",
            "[CV]  criterion=gini, max_depth=5, max_features=None, min_samples_split=2, score=0.851, total=   0.0s\n",
            "[CV] criterion=gini, max_depth=5, max_features=None, min_samples_split=5 \n",
            "[CV]  criterion=gini, max_depth=5, max_features=None, min_samples_split=5, score=0.931, total=   0.0s\n",
            "[CV] criterion=gini, max_depth=5, max_features=None, min_samples_split=5 \n",
            "[CV]  criterion=gini, max_depth=5, max_features=None, min_samples_split=5, score=0.912, total=   0.0s\n",
            "[CV] criterion=gini, max_depth=5, max_features=None, min_samples_split=5 \n",
            "[CV]  criterion=gini, max_depth=5, max_features=None, min_samples_split=5, score=0.861, total=   0.0s\n",
            "[CV] criterion=gini, max_depth=5, max_features=None, min_samples_split=5 \n",
            "[CV]  criterion=gini, max_depth=5, max_features=None, min_samples_split=5, score=0.881, total=   0.0s\n",
            "[CV] criterion=gini, max_depth=5, max_features=None, min_samples_split=5 \n",
            "[CV]  criterion=gini, max_depth=5, max_features=None, min_samples_split=5, score=0.851, total=   0.0s\n",
            "[CV] criterion=gini, max_depth=5, max_features=None, min_samples_split=10 \n",
            "[CV]  criterion=gini, max_depth=5, max_features=None, min_samples_split=10, score=0.922, total=   0.0s\n",
            "[CV] criterion=gini, max_depth=5, max_features=None, min_samples_split=10 \n",
            "[CV]  criterion=gini, max_depth=5, max_features=None, min_samples_split=10, score=0.912, total=   0.0s\n",
            "[CV] criterion=gini, max_depth=5, max_features=None, min_samples_split=10 \n",
            "[CV]  criterion=gini, max_depth=5, max_features=None, min_samples_split=10, score=0.861, total=   0.0s\n",
            "[CV] criterion=gini, max_depth=5, max_features=None, min_samples_split=10 \n",
            "[CV]  criterion=gini, max_depth=5, max_features=None, min_samples_split=10, score=0.881, total=   0.0s\n",
            "[CV] criterion=gini, max_depth=5, max_features=None, min_samples_split=10 \n",
            "[CV]  criterion=gini, max_depth=5, max_features=None, min_samples_split=10, score=0.851, total=   0.0s\n",
            "[CV] criterion=gini, max_depth=10, max_features=0.5, min_samples_split=2 \n",
            "[CV]  criterion=gini, max_depth=10, max_features=0.5, min_samples_split=2, score=0.765, total=   0.0s\n",
            "[CV] criterion=gini, max_depth=10, max_features=0.5, min_samples_split=2 \n",
            "[CV]  criterion=gini, max_depth=10, max_features=0.5, min_samples_split=2, score=0.784, total=   0.0s\n",
            "[CV] criterion=gini, max_depth=10, max_features=0.5, min_samples_split=2 \n",
            "[CV]  criterion=gini, max_depth=10, max_features=0.5, min_samples_split=2, score=0.703, total=   0.0s\n",
            "[CV] criterion=gini, max_depth=10, max_features=0.5, min_samples_split=2 \n",
            "[CV]  criterion=gini, max_depth=10, max_features=0.5, min_samples_split=2, score=0.713, total=   0.0s\n",
            "[CV] criterion=gini, max_depth=10, max_features=0.5, min_samples_split=2 \n",
            "[CV]  criterion=gini, max_depth=10, max_features=0.5, min_samples_split=2, score=0.693, total=   0.0s\n",
            "[CV] criterion=gini, max_depth=10, max_features=0.5, min_samples_split=5 \n",
            "[CV]  criterion=gini, max_depth=10, max_features=0.5, min_samples_split=5, score=0.824, total=   0.0s\n",
            "[CV] criterion=gini, max_depth=10, max_features=0.5, min_samples_split=5 \n",
            "[CV]  criterion=gini, max_depth=10, max_features=0.5, min_samples_split=5, score=0.794, total=   0.0s\n",
            "[CV] criterion=gini, max_depth=10, max_features=0.5, min_samples_split=5 \n",
            "[CV]  criterion=gini, max_depth=10, max_features=0.5, min_samples_split=5, score=0.762, total=   0.0s\n",
            "[CV] criterion=gini, max_depth=10, max_features=0.5, min_samples_split=5 \n",
            "[CV]  criterion=gini, max_depth=10, max_features=0.5, min_samples_split=5, score=0.752, total=   0.0s\n",
            "[CV] criterion=gini, max_depth=10, max_features=0.5, min_samples_split=5 \n",
            "[CV]  criterion=gini, max_depth=10, max_features=0.5, min_samples_split=5, score=0.762, total=   0.0s\n",
            "[CV] criterion=gini, max_depth=10, max_features=0.5, min_samples_split=10 \n",
            "[CV]  criterion=gini, max_depth=10, max_features=0.5, min_samples_split=10, score=0.902, total=   0.0s\n",
            "[CV] criterion=gini, max_depth=10, max_features=0.5, min_samples_split=10 \n",
            "[CV]  criterion=gini, max_depth=10, max_features=0.5, min_samples_split=10, score=0.794, total=   0.0s\n",
            "[CV] criterion=gini, max_depth=10, max_features=0.5, min_samples_split=10 \n",
            "[CV]  criterion=gini, max_depth=10, max_features=0.5, min_samples_split=10, score=0.762, total=   0.0s\n",
            "[CV] criterion=gini, max_depth=10, max_features=0.5, min_samples_split=10 \n",
            "[CV]  criterion=gini, max_depth=10, max_features=0.5, min_samples_split=10, score=0.802, total=   0.0s\n",
            "[CV] criterion=gini, max_depth=10, max_features=0.5, min_samples_split=10 \n",
            "[CV]  criterion=gini, max_depth=10, max_features=0.5, min_samples_split=10, score=0.802, total=   0.0s\n",
            "[CV] criterion=gini, max_depth=10, max_features=sqrt, min_samples_split=2 \n",
            "[CV]  criterion=gini, max_depth=10, max_features=sqrt, min_samples_split=2, score=0.853, total=   0.0s\n",
            "[CV] criterion=gini, max_depth=10, max_features=sqrt, min_samples_split=2 \n",
            "[CV]  criterion=gini, max_depth=10, max_features=sqrt, min_samples_split=2, score=0.784, total=   0.0s\n",
            "[CV] criterion=gini, max_depth=10, max_features=sqrt, min_samples_split=2 \n",
            "[CV]  criterion=gini, max_depth=10, max_features=sqrt, min_samples_split=2, score=0.842, total=   0.0s\n",
            "[CV] criterion=gini, max_depth=10, max_features=sqrt, min_samples_split=2 \n",
            "[CV]  criterion=gini, max_depth=10, max_features=sqrt, min_samples_split=2, score=0.644, total=   0.0s\n",
            "[CV] criterion=gini, max_depth=10, max_features=sqrt, min_samples_split=2 \n",
            "[CV]  criterion=gini, max_depth=10, max_features=sqrt, min_samples_split=2, score=0.772, total=   0.0s\n",
            "[CV] criterion=gini, max_depth=10, max_features=sqrt, min_samples_split=5 \n",
            "[CV]  criterion=gini, max_depth=10, max_features=sqrt, min_samples_split=5, score=0.853, total=   0.0s\n",
            "[CV] criterion=gini, max_depth=10, max_features=sqrt, min_samples_split=5 \n",
            "[CV]  criterion=gini, max_depth=10, max_features=sqrt, min_samples_split=5, score=0.657, total=   0.0s\n",
            "[CV] criterion=gini, max_depth=10, max_features=sqrt, min_samples_split=5 \n",
            "[CV]  criterion=gini, max_depth=10, max_features=sqrt, min_samples_split=5, score=0.772, total=   0.0s\n",
            "[CV] criterion=gini, max_depth=10, max_features=sqrt, min_samples_split=5 \n",
            "[CV]  criterion=gini, max_depth=10, max_features=sqrt, min_samples_split=5, score=0.713, total=   0.0s\n",
            "[CV] criterion=gini, max_depth=10, max_features=sqrt, min_samples_split=5 \n",
            "[CV]  criterion=gini, max_depth=10, max_features=sqrt, min_samples_split=5, score=0.693, total=   0.0s\n",
            "[CV] criterion=gini, max_depth=10, max_features=sqrt, min_samples_split=10 \n",
            "[CV]  criterion=gini, max_depth=10, max_features=sqrt, min_samples_split=10, score=0.784, total=   0.0s\n",
            "[CV] criterion=gini, max_depth=10, max_features=sqrt, min_samples_split=10 \n",
            "[CV]  criterion=gini, max_depth=10, max_features=sqrt, min_samples_split=10, score=0.814, total=   0.0s\n",
            "[CV] criterion=gini, max_depth=10, max_features=sqrt, min_samples_split=10 \n",
            "[CV]  criterion=gini, max_depth=10, max_features=sqrt, min_samples_split=10, score=0.792, total=   0.0s\n",
            "[CV] criterion=gini, max_depth=10, max_features=sqrt, min_samples_split=10 \n",
            "[CV]  criterion=gini, max_depth=10, max_features=sqrt, min_samples_split=10, score=0.604, total=   0.0s\n",
            "[CV] criterion=gini, max_depth=10, max_features=sqrt, min_samples_split=10 \n",
            "[CV]  criterion=gini, max_depth=10, max_features=sqrt, min_samples_split=10, score=0.673, total=   0.0s\n",
            "[CV] criterion=gini, max_depth=10, max_features=None, min_samples_split=2 \n",
            "[CV]  criterion=gini, max_depth=10, max_features=None, min_samples_split=2, score=0.853, total=   0.0s\n",
            "[CV] criterion=gini, max_depth=10, max_features=None, min_samples_split=2 \n",
            "[CV]  criterion=gini, max_depth=10, max_features=None, min_samples_split=2, score=0.696, total=   0.0s\n",
            "[CV] criterion=gini, max_depth=10, max_features=None, min_samples_split=2 \n",
            "[CV]  criterion=gini, max_depth=10, max_features=None, min_samples_split=2, score=0.723, total=   0.0s\n",
            "[CV] criterion=gini, max_depth=10, max_features=None, min_samples_split=2 \n",
            "[CV]  criterion=gini, max_depth=10, max_features=None, min_samples_split=2, score=0.733, total=   0.0s\n",
            "[CV] criterion=gini, max_depth=10, max_features=None, min_samples_split=2 \n",
            "[CV]  criterion=gini, max_depth=10, max_features=None, min_samples_split=2, score=0.752, total=   0.0s\n",
            "[CV] criterion=gini, max_depth=10, max_features=None, min_samples_split=5 \n",
            "[CV]  criterion=gini, max_depth=10, max_features=None, min_samples_split=5, score=0.833, total=   0.0s\n",
            "[CV] criterion=gini, max_depth=10, max_features=None, min_samples_split=5 \n",
            "[CV]  criterion=gini, max_depth=10, max_features=None, min_samples_split=5, score=0.716, total=   0.0s\n",
            "[CV] criterion=gini, max_depth=10, max_features=None, min_samples_split=5 \n",
            "[CV]  criterion=gini, max_depth=10, max_features=None, min_samples_split=5, score=0.693, total=   0.0s\n",
            "[CV] criterion=gini, max_depth=10, max_features=None, min_samples_split=5 \n",
            "[CV]  criterion=gini, max_depth=10, max_features=None, min_samples_split=5, score=0.713, total=   0.0s\n",
            "[CV] criterion=gini, max_depth=10, max_features=None, min_samples_split=5 \n",
            "[CV]  criterion=gini, max_depth=10, max_features=None, min_samples_split=5, score=0.693, total=   0.0s\n",
            "[CV] criterion=gini, max_depth=10, max_features=None, min_samples_split=10 \n",
            "[CV]  criterion=gini, max_depth=10, max_features=None, min_samples_split=10, score=0.804, total=   0.0s\n",
            "[CV] criterion=gini, max_depth=10, max_features=None, min_samples_split=10 \n",
            "[CV]  criterion=gini, max_depth=10, max_features=None, min_samples_split=10, score=0.745, total=   0.0s\n",
            "[CV] criterion=gini, max_depth=10, max_features=None, min_samples_split=10 \n",
            "[CV]  criterion=gini, max_depth=10, max_features=None, min_samples_split=10, score=0.713, total=   0.0s\n",
            "[CV] criterion=gini, max_depth=10, max_features=None, min_samples_split=10 \n",
            "[CV]  criterion=gini, max_depth=10, max_features=None, min_samples_split=10, score=0.733, total=   0.0s\n",
            "[CV] criterion=gini, max_depth=10, max_features=None, min_samples_split=10 \n",
            "[CV]  criterion=gini, max_depth=10, max_features=None, min_samples_split=10, score=0.703, total=   0.0s\n",
            "[CV] criterion=gini, max_depth=20, max_features=0.5, min_samples_split=2 \n",
            "[CV]  criterion=gini, max_depth=20, max_features=0.5, min_samples_split=2, score=0.824, total=   0.0s\n",
            "[CV] criterion=gini, max_depth=20, max_features=0.5, min_samples_split=2 \n",
            "[CV]  criterion=gini, max_depth=20, max_features=0.5, min_samples_split=2, score=0.755, total=   0.0s\n",
            "[CV] criterion=gini, max_depth=20, max_features=0.5, min_samples_split=2 \n",
            "[CV]  criterion=gini, max_depth=20, max_features=0.5, min_samples_split=2, score=0.733, total=   0.0s\n",
            "[CV] criterion=gini, max_depth=20, max_features=0.5, min_samples_split=2 \n",
            "[CV]  criterion=gini, max_depth=20, max_features=0.5, min_samples_split=2, score=0.723, total=   0.0s\n",
            "[CV] criterion=gini, max_depth=20, max_features=0.5, min_samples_split=2 \n",
            "[CV]  criterion=gini, max_depth=20, max_features=0.5, min_samples_split=2, score=0.713, total=   0.0s\n",
            "[CV] criterion=gini, max_depth=20, max_features=0.5, min_samples_split=5 \n",
            "[CV]  criterion=gini, max_depth=20, max_features=0.5, min_samples_split=5, score=0.824, total=   0.0s\n",
            "[CV] criterion=gini, max_depth=20, max_features=0.5, min_samples_split=5 \n",
            "[CV]  criterion=gini, max_depth=20, max_features=0.5, min_samples_split=5, score=0.667, total=   0.0s\n",
            "[CV] criterion=gini, max_depth=20, max_features=0.5, min_samples_split=5 \n",
            "[CV]  criterion=gini, max_depth=20, max_features=0.5, min_samples_split=5, score=0.663, total=   0.0s\n",
            "[CV] criterion=gini, max_depth=20, max_features=0.5, min_samples_split=5 \n",
            "[CV]  criterion=gini, max_depth=20, max_features=0.5, min_samples_split=5, score=0.723, total=   0.0s\n",
            "[CV] criterion=gini, max_depth=20, max_features=0.5, min_samples_split=5 \n",
            "[CV]  criterion=gini, max_depth=20, max_features=0.5, min_samples_split=5, score=0.723, total=   0.0s\n",
            "[CV] criterion=gini, max_depth=20, max_features=0.5, min_samples_split=10 \n",
            "[CV]  criterion=gini, max_depth=20, max_features=0.5, min_samples_split=10, score=0.716, total=   0.0s\n",
            "[CV] criterion=gini, max_depth=20, max_features=0.5, min_samples_split=10 \n",
            "[CV]  criterion=gini, max_depth=20, max_features=0.5, min_samples_split=10, score=0.755, total=   0.0s\n",
            "[CV] criterion=gini, max_depth=20, max_features=0.5, min_samples_split=10 \n",
            "[CV]  criterion=gini, max_depth=20, max_features=0.5, min_samples_split=10, score=0.733, total=   0.0s\n",
            "[CV] criterion=gini, max_depth=20, max_features=0.5, min_samples_split=10 \n",
            "[CV]  criterion=gini, max_depth=20, max_features=0.5, min_samples_split=10, score=0.752, total=   0.0s\n",
            "[CV] criterion=gini, max_depth=20, max_features=0.5, min_samples_split=10 \n",
            "[CV]  criterion=gini, max_depth=20, max_features=0.5, min_samples_split=10, score=0.713, total=   0.0s\n",
            "[CV] criterion=gini, max_depth=20, max_features=sqrt, min_samples_split=2 \n",
            "[CV]  criterion=gini, max_depth=20, max_features=sqrt, min_samples_split=2, score=0.794, total=   0.0s\n",
            "[CV] criterion=gini, max_depth=20, max_features=sqrt, min_samples_split=2 \n",
            "[CV]  criterion=gini, max_depth=20, max_features=sqrt, min_samples_split=2, score=0.696, total=   0.0s\n",
            "[CV] criterion=gini, max_depth=20, max_features=sqrt, min_samples_split=2 \n",
            "[CV]  criterion=gini, max_depth=20, max_features=sqrt, min_samples_split=2, score=0.762, total=   0.0s\n",
            "[CV] criterion=gini, max_depth=20, max_features=sqrt, min_samples_split=2 \n",
            "[CV]  criterion=gini, max_depth=20, max_features=sqrt, min_samples_split=2, score=0.723, total=   0.0s\n",
            "[CV] criterion=gini, max_depth=20, max_features=sqrt, min_samples_split=2 \n",
            "[CV]  criterion=gini, max_depth=20, max_features=sqrt, min_samples_split=2, score=0.673, total=   0.0s\n",
            "[CV] criterion=gini, max_depth=20, max_features=sqrt, min_samples_split=5 \n",
            "[CV]  criterion=gini, max_depth=20, max_features=sqrt, min_samples_split=5, score=0.775, total=   0.0s\n",
            "[CV] criterion=gini, max_depth=20, max_features=sqrt, min_samples_split=5 \n",
            "[CV]  criterion=gini, max_depth=20, max_features=sqrt, min_samples_split=5, score=0.735, total=   0.0s\n",
            "[CV] criterion=gini, max_depth=20, max_features=sqrt, min_samples_split=5 \n",
            "[CV]  criterion=gini, max_depth=20, max_features=sqrt, min_samples_split=5, score=0.723, total=   0.0s\n",
            "[CV] criterion=gini, max_depth=20, max_features=sqrt, min_samples_split=5 \n",
            "[CV]  criterion=gini, max_depth=20, max_features=sqrt, min_samples_split=5, score=0.703, total=   0.0s\n",
            "[CV] criterion=gini, max_depth=20, max_features=sqrt, min_samples_split=5 \n",
            "[CV]  criterion=gini, max_depth=20, max_features=sqrt, min_samples_split=5, score=0.634, total=   0.0s\n",
            "[CV] criterion=gini, max_depth=20, max_features=sqrt, min_samples_split=10 \n",
            "[CV]  criterion=gini, max_depth=20, max_features=sqrt, min_samples_split=10, score=0.735, total=   0.0s\n",
            "[CV] criterion=gini, max_depth=20, max_features=sqrt, min_samples_split=10 \n",
            "[CV]  criterion=gini, max_depth=20, max_features=sqrt, min_samples_split=10, score=0.696, total=   0.0s\n",
            "[CV] criterion=gini, max_depth=20, max_features=sqrt, min_samples_split=10 \n",
            "[CV]  criterion=gini, max_depth=20, max_features=sqrt, min_samples_split=10, score=0.733, total=   0.0s\n",
            "[CV] criterion=gini, max_depth=20, max_features=sqrt, min_samples_split=10 \n",
            "[CV]  criterion=gini, max_depth=20, max_features=sqrt, min_samples_split=10, score=0.733, total=   0.0s\n",
            "[CV] criterion=gini, max_depth=20, max_features=sqrt, min_samples_split=10 \n",
            "[CV]  criterion=gini, max_depth=20, max_features=sqrt, min_samples_split=10, score=0.713, total=   0.0s\n",
            "[CV] criterion=gini, max_depth=20, max_features=None, min_samples_split=2 \n",
            "[CV]  criterion=gini, max_depth=20, max_features=None, min_samples_split=2, score=0.833, total=   0.0s\n",
            "[CV] criterion=gini, max_depth=20, max_features=None, min_samples_split=2 \n",
            "[CV]  criterion=gini, max_depth=20, max_features=None, min_samples_split=2, score=0.696, total=   0.0s\n",
            "[CV] criterion=gini, max_depth=20, max_features=None, min_samples_split=2 \n",
            "[CV]  criterion=gini, max_depth=20, max_features=None, min_samples_split=2, score=0.713, total=   0.0s\n",
            "[CV] criterion=gini, max_depth=20, max_features=None, min_samples_split=2 \n",
            "[CV]  criterion=gini, max_depth=20, max_features=None, min_samples_split=2, score=0.752, total=   0.0s\n",
            "[CV] criterion=gini, max_depth=20, max_features=None, min_samples_split=2 \n",
            "[CV]  criterion=gini, max_depth=20, max_features=None, min_samples_split=2, score=0.772, total=   0.0s\n",
            "[CV] criterion=gini, max_depth=20, max_features=None, min_samples_split=5 \n",
            "[CV]  criterion=gini, max_depth=20, max_features=None, min_samples_split=5, score=0.833, total=   0.0s\n",
            "[CV] criterion=gini, max_depth=20, max_features=None, min_samples_split=5 \n",
            "[CV]  criterion=gini, max_depth=20, max_features=None, min_samples_split=5, score=0.676, total=   0.0s\n",
            "[CV] criterion=gini, max_depth=20, max_features=None, min_samples_split=5 \n",
            "[CV]  criterion=gini, max_depth=20, max_features=None, min_samples_split=5, score=0.693, total=   0.0s\n",
            "[CV] criterion=gini, max_depth=20, max_features=None, min_samples_split=5 \n",
            "[CV]  criterion=gini, max_depth=20, max_features=None, min_samples_split=5, score=0.743, total=   0.0s\n",
            "[CV] criterion=gini, max_depth=20, max_features=None, min_samples_split=5 \n",
            "[CV]  criterion=gini, max_depth=20, max_features=None, min_samples_split=5, score=0.743, total=   0.0s\n",
            "[CV] criterion=gini, max_depth=20, max_features=None, min_samples_split=10 \n",
            "[CV]  criterion=gini, max_depth=20, max_features=None, min_samples_split=10, score=0.784, total=   0.0s\n",
            "[CV] criterion=gini, max_depth=20, max_features=None, min_samples_split=10 \n",
            "[CV]  criterion=gini, max_depth=20, max_features=None, min_samples_split=10, score=0.735, total=   0.0s\n",
            "[CV] criterion=gini, max_depth=20, max_features=None, min_samples_split=10 \n",
            "[CV]  criterion=gini, max_depth=20, max_features=None, min_samples_split=10, score=0.693, total=   0.0s\n",
            "[CV] criterion=gini, max_depth=20, max_features=None, min_samples_split=10 \n",
            "[CV]  criterion=gini, max_depth=20, max_features=None, min_samples_split=10, score=0.733, total=   0.0s\n",
            "[CV] criterion=gini, max_depth=20, max_features=None, min_samples_split=10 \n",
            "[CV]  criterion=gini, max_depth=20, max_features=None, min_samples_split=10, score=0.743, total=   0.0s\n",
            "[CV] criterion=gini, max_depth=None, max_features=0.5, min_samples_split=2 \n",
            "[CV]  criterion=gini, max_depth=None, max_features=0.5, min_samples_split=2, score=0.824, total=   0.0s\n",
            "[CV] criterion=gini, max_depth=None, max_features=0.5, min_samples_split=2 \n",
            "[CV]  criterion=gini, max_depth=None, max_features=0.5, min_samples_split=2, score=0.735, total=   0.0s\n",
            "[CV] criterion=gini, max_depth=None, max_features=0.5, min_samples_split=2 \n",
            "[CV]  criterion=gini, max_depth=None, max_features=0.5, min_samples_split=2, score=0.762, total=   0.0s\n",
            "[CV] criterion=gini, max_depth=None, max_features=0.5, min_samples_split=2 \n",
            "[CV]  criterion=gini, max_depth=None, max_features=0.5, min_samples_split=2, score=0.733, total=   0.0s\n",
            "[CV] criterion=gini, max_depth=None, max_features=0.5, min_samples_split=2 \n",
            "[CV]  criterion=gini, max_depth=None, max_features=0.5, min_samples_split=2, score=0.693, total=   0.0s\n",
            "[CV] criterion=gini, max_depth=None, max_features=0.5, min_samples_split=5 \n",
            "[CV]  criterion=gini, max_depth=None, max_features=0.5, min_samples_split=5, score=0.775, total=   0.0s\n",
            "[CV] criterion=gini, max_depth=None, max_features=0.5, min_samples_split=5 \n",
            "[CV]  criterion=gini, max_depth=None, max_features=0.5, min_samples_split=5, score=0.745, total=   0.0s\n",
            "[CV] criterion=gini, max_depth=None, max_features=0.5, min_samples_split=5 \n",
            "[CV]  criterion=gini, max_depth=None, max_features=0.5, min_samples_split=5, score=0.713, total=   0.0s\n",
            "[CV] criterion=gini, max_depth=None, max_features=0.5, min_samples_split=5 \n",
            "[CV]  criterion=gini, max_depth=None, max_features=0.5, min_samples_split=5, score=0.762, total=   0.0s\n",
            "[CV] criterion=gini, max_depth=None, max_features=0.5, min_samples_split=5 \n",
            "[CV]  criterion=gini, max_depth=None, max_features=0.5, min_samples_split=5, score=0.713, total=   0.0s\n",
            "[CV] criterion=gini, max_depth=None, max_features=0.5, min_samples_split=10 \n",
            "[CV]  criterion=gini, max_depth=None, max_features=0.5, min_samples_split=10, score=0.853, total=   0.0s\n",
            "[CV] criterion=gini, max_depth=None, max_features=0.5, min_samples_split=10 \n",
            "[CV]  criterion=gini, max_depth=None, max_features=0.5, min_samples_split=10, score=0.745, total=   0.0s\n",
            "[CV] criterion=gini, max_depth=None, max_features=0.5, min_samples_split=10 \n",
            "[CV]  criterion=gini, max_depth=None, max_features=0.5, min_samples_split=10, score=0.822, total=   0.0s\n",
            "[CV] criterion=gini, max_depth=None, max_features=0.5, min_samples_split=10 \n",
            "[CV]  criterion=gini, max_depth=None, max_features=0.5, min_samples_split=10, score=0.743, total=   0.0s\n",
            "[CV] criterion=gini, max_depth=None, max_features=0.5, min_samples_split=10 \n",
            "[CV]  criterion=gini, max_depth=None, max_features=0.5, min_samples_split=10, score=0.693, total=   0.0s\n",
            "[CV] criterion=gini, max_depth=None, max_features=sqrt, min_samples_split=2 \n",
            "[CV]  criterion=gini, max_depth=None, max_features=sqrt, min_samples_split=2, score=0.912, total=   0.0s\n",
            "[CV] criterion=gini, max_depth=None, max_features=sqrt, min_samples_split=2 \n",
            "[CV]  criterion=gini, max_depth=None, max_features=sqrt, min_samples_split=2, score=0.755, total=   0.0s\n",
            "[CV] criterion=gini, max_depth=None, max_features=sqrt, min_samples_split=2 \n",
            "[CV]  criterion=gini, max_depth=None, max_features=sqrt, min_samples_split=2, score=0.634, total=   0.0s\n",
            "[CV] criterion=gini, max_depth=None, max_features=sqrt, min_samples_split=2 \n",
            "[CV]  criterion=gini, max_depth=None, max_features=sqrt, min_samples_split=2, score=0.733, total=   0.0s\n",
            "[CV] criterion=gini, max_depth=None, max_features=sqrt, min_samples_split=2 \n",
            "[CV]  criterion=gini, max_depth=None, max_features=sqrt, min_samples_split=2, score=0.782, total=   0.0s\n",
            "[CV] criterion=gini, max_depth=None, max_features=sqrt, min_samples_split=5 \n",
            "[CV]  criterion=gini, max_depth=None, max_features=sqrt, min_samples_split=5, score=0.755, total=   0.0s\n",
            "[CV] criterion=gini, max_depth=None, max_features=sqrt, min_samples_split=5 \n",
            "[CV]  criterion=gini, max_depth=None, max_features=sqrt, min_samples_split=5, score=0.657, total=   0.0s\n",
            "[CV] criterion=gini, max_depth=None, max_features=sqrt, min_samples_split=5 \n",
            "[CV]  criterion=gini, max_depth=None, max_features=sqrt, min_samples_split=5, score=0.624, total=   0.0s\n",
            "[CV] criterion=gini, max_depth=None, max_features=sqrt, min_samples_split=5 \n",
            "[CV]  criterion=gini, max_depth=None, max_features=sqrt, min_samples_split=5, score=0.713, total=   0.0s\n",
            "[CV] criterion=gini, max_depth=None, max_features=sqrt, min_samples_split=5 \n",
            "[CV]  criterion=gini, max_depth=None, max_features=sqrt, min_samples_split=5, score=0.663, total=   0.0s\n",
            "[CV] criterion=gini, max_depth=None, max_features=sqrt, min_samples_split=10 \n",
            "[CV]  criterion=gini, max_depth=None, max_features=sqrt, min_samples_split=10, score=0.824, total=   0.0s\n",
            "[CV] criterion=gini, max_depth=None, max_features=sqrt, min_samples_split=10 \n",
            "[CV]  criterion=gini, max_depth=None, max_features=sqrt, min_samples_split=10, score=0.853, total=   0.0s\n",
            "[CV] criterion=gini, max_depth=None, max_features=sqrt, min_samples_split=10 \n",
            "[CV]  criterion=gini, max_depth=None, max_features=sqrt, min_samples_split=10, score=0.733, total=   0.0s\n",
            "[CV] criterion=gini, max_depth=None, max_features=sqrt, min_samples_split=10 \n",
            "[CV]  criterion=gini, max_depth=None, max_features=sqrt, min_samples_split=10, score=0.683, total=   0.0s\n",
            "[CV] criterion=gini, max_depth=None, max_features=sqrt, min_samples_split=10 \n",
            "[CV]  criterion=gini, max_depth=None, max_features=sqrt, min_samples_split=10, score=0.653, total=   0.0s\n",
            "[CV] criterion=gini, max_depth=None, max_features=None, min_samples_split=2 \n",
            "[CV]  criterion=gini, max_depth=None, max_features=None, min_samples_split=2, score=0.873, total=   0.0s\n",
            "[CV] criterion=gini, max_depth=None, max_features=None, min_samples_split=2 \n",
            "[CV]  criterion=gini, max_depth=None, max_features=None, min_samples_split=2, score=0.696, total=   0.0s\n",
            "[CV] criterion=gini, max_depth=None, max_features=None, min_samples_split=2 \n",
            "[CV]  criterion=gini, max_depth=None, max_features=None, min_samples_split=2, score=0.683, total=   0.0s\n",
            "[CV] criterion=gini, max_depth=None, max_features=None, min_samples_split=2 \n",
            "[CV]  criterion=gini, max_depth=None, max_features=None, min_samples_split=2, score=0.782, total=   0.0s\n",
            "[CV] criterion=gini, max_depth=None, max_features=None, min_samples_split=2 \n",
            "[CV]  criterion=gini, max_depth=None, max_features=None, min_samples_split=2, score=0.782, total=   0.0s\n",
            "[CV] criterion=gini, max_depth=None, max_features=None, min_samples_split=5 \n",
            "[CV]  criterion=gini, max_depth=None, max_features=None, min_samples_split=5, score=0.824, total=   0.0s\n",
            "[CV] criterion=gini, max_depth=None, max_features=None, min_samples_split=5 \n",
            "[CV]  criterion=gini, max_depth=None, max_features=None, min_samples_split=5, score=0.676, total=   0.0s\n",
            "[CV] criterion=gini, max_depth=None, max_features=None, min_samples_split=5 \n",
            "[CV]  criterion=gini, max_depth=None, max_features=None, min_samples_split=5, score=0.693, total=   0.0s\n",
            "[CV] criterion=gini, max_depth=None, max_features=None, min_samples_split=5 \n",
            "[CV]  criterion=gini, max_depth=None, max_features=None, min_samples_split=5, score=0.772, total=   0.0s\n",
            "[CV] criterion=gini, max_depth=None, max_features=None, min_samples_split=5 \n",
            "[CV]  criterion=gini, max_depth=None, max_features=None, min_samples_split=5, score=0.693, total=   0.0s\n",
            "[CV] criterion=gini, max_depth=None, max_features=None, min_samples_split=10 \n",
            "[CV]  criterion=gini, max_depth=None, max_features=None, min_samples_split=10, score=0.775, total=   0.0s\n",
            "[CV] criterion=gini, max_depth=None, max_features=None, min_samples_split=10 \n",
            "[CV]  criterion=gini, max_depth=None, max_features=None, min_samples_split=10, score=0.745, total=   0.0s\n",
            "[CV] criterion=gini, max_depth=None, max_features=None, min_samples_split=10 \n",
            "[CV]  criterion=gini, max_depth=None, max_features=None, min_samples_split=10, score=0.693, total=   0.0s\n",
            "[CV] criterion=gini, max_depth=None, max_features=None, min_samples_split=10 \n",
            "[CV]  criterion=gini, max_depth=None, max_features=None, min_samples_split=10, score=0.743, total=   0.0s\n",
            "[CV] criterion=gini, max_depth=None, max_features=None, min_samples_split=10 \n",
            "[CV]  criterion=gini, max_depth=None, max_features=None, min_samples_split=10, score=0.713, total=   0.0s\n",
            "[CV] criterion=entropy, max_depth=2, max_features=0.5, min_samples_split=2 \n",
            "[CV]  criterion=entropy, max_depth=2, max_features=0.5, min_samples_split=2, score=0.863, total=   0.0s\n",
            "[CV] criterion=entropy, max_depth=2, max_features=0.5, min_samples_split=2 \n",
            "[CV]  criterion=entropy, max_depth=2, max_features=0.5, min_samples_split=2, score=0.961, total=   0.0s\n",
            "[CV] criterion=entropy, max_depth=2, max_features=0.5, min_samples_split=2 \n",
            "[CV]  criterion=entropy, max_depth=2, max_features=0.5, min_samples_split=2, score=0.960, total=   0.0s\n",
            "[CV] criterion=entropy, max_depth=2, max_features=0.5, min_samples_split=2 \n",
            "[CV]  criterion=entropy, max_depth=2, max_features=0.5, min_samples_split=2, score=0.574, total=   0.0s\n",
            "[CV] criterion=entropy, max_depth=2, max_features=0.5, min_samples_split=2 \n",
            "[CV]  criterion=entropy, max_depth=2, max_features=0.5, min_samples_split=2, score=0.564, total=   0.0s\n",
            "[CV] criterion=entropy, max_depth=2, max_features=0.5, min_samples_split=5 \n",
            "[CV]  criterion=entropy, max_depth=2, max_features=0.5, min_samples_split=5, score=0.971, total=   0.0s\n",
            "[CV] criterion=entropy, max_depth=2, max_features=0.5, min_samples_split=5 \n",
            "[CV]  criterion=entropy, max_depth=2, max_features=0.5, min_samples_split=5, score=0.941, total=   0.0s\n",
            "[CV] criterion=entropy, max_depth=2, max_features=0.5, min_samples_split=5 \n",
            "[CV]  criterion=entropy, max_depth=2, max_features=0.5, min_samples_split=5, score=0.970, total=   0.0s\n",
            "[CV] criterion=entropy, max_depth=2, max_features=0.5, min_samples_split=5 \n",
            "[CV]  criterion=entropy, max_depth=2, max_features=0.5, min_samples_split=5, score=0.960, total=   0.0s\n",
            "[CV] criterion=entropy, max_depth=2, max_features=0.5, min_samples_split=5 \n",
            "[CV]  criterion=entropy, max_depth=2, max_features=0.5, min_samples_split=5, score=0.594, total=   0.0s\n",
            "[CV] criterion=entropy, max_depth=2, max_features=0.5, min_samples_split=10 \n",
            "[CV]  criterion=entropy, max_depth=2, max_features=0.5, min_samples_split=10, score=0.735, total=   0.0s\n",
            "[CV] criterion=entropy, max_depth=2, max_features=0.5, min_samples_split=10 \n",
            "[CV]  criterion=entropy, max_depth=2, max_features=0.5, min_samples_split=10, score=0.941, total=   0.0s\n",
            "[CV] criterion=entropy, max_depth=2, max_features=0.5, min_samples_split=10 \n",
            "[CV]  criterion=entropy, max_depth=2, max_features=0.5, min_samples_split=10, score=0.960, total=   0.0s\n",
            "[CV] criterion=entropy, max_depth=2, max_features=0.5, min_samples_split=10 \n",
            "[CV]  criterion=entropy, max_depth=2, max_features=0.5, min_samples_split=10, score=0.960, total=   0.0s\n",
            "[CV] criterion=entropy, max_depth=2, max_features=0.5, min_samples_split=10 \n",
            "[CV]  criterion=entropy, max_depth=2, max_features=0.5, min_samples_split=10, score=0.931, total=   0.0s\n",
            "[CV] criterion=entropy, max_depth=2, max_features=sqrt, min_samples_split=2 \n",
            "[CV]  criterion=entropy, max_depth=2, max_features=sqrt, min_samples_split=2, score=0.971, total=   0.0s\n",
            "[CV] criterion=entropy, max_depth=2, max_features=sqrt, min_samples_split=2 \n",
            "[CV]  criterion=entropy, max_depth=2, max_features=sqrt, min_samples_split=2, score=0.324, total=   0.0s\n",
            "[CV] criterion=entropy, max_depth=2, max_features=sqrt, min_samples_split=2 \n",
            "[CV]  criterion=entropy, max_depth=2, max_features=sqrt, min_samples_split=2, score=0.604, total=   0.0s\n",
            "[CV] criterion=entropy, max_depth=2, max_features=sqrt, min_samples_split=2 \n",
            "[CV]  criterion=entropy, max_depth=2, max_features=sqrt, min_samples_split=2, score=0.624, total=   0.0s\n",
            "[CV] criterion=entropy, max_depth=2, max_features=sqrt, min_samples_split=2 \n",
            "[CV]  criterion=entropy, max_depth=2, max_features=sqrt, min_samples_split=2, score=0.733, total=   0.0s\n",
            "[CV] criterion=entropy, max_depth=2, max_features=sqrt, min_samples_split=5 \n",
            "[CV]  criterion=entropy, max_depth=2, max_features=sqrt, min_samples_split=5, score=0.971, total=   0.0s\n",
            "[CV] criterion=entropy, max_depth=2, max_features=sqrt, min_samples_split=5 \n",
            "[CV]  criterion=entropy, max_depth=2, max_features=sqrt, min_samples_split=5, score=0.647, total=   0.0s\n",
            "[CV] criterion=entropy, max_depth=2, max_features=sqrt, min_samples_split=5 \n",
            "[CV]  criterion=entropy, max_depth=2, max_features=sqrt, min_samples_split=5, score=0.614, total=   0.0s\n",
            "[CV] criterion=entropy, max_depth=2, max_features=sqrt, min_samples_split=5 \n",
            "[CV]  criterion=entropy, max_depth=2, max_features=sqrt, min_samples_split=5, score=0.416, total=   0.0s\n",
            "[CV] criterion=entropy, max_depth=2, max_features=sqrt, min_samples_split=5 \n",
            "[CV]  criterion=entropy, max_depth=2, max_features=sqrt, min_samples_split=5, score=0.515, total=   0.0s\n",
            "[CV] criterion=entropy, max_depth=2, max_features=sqrt, min_samples_split=10 \n",
            "[CV]  criterion=entropy, max_depth=2, max_features=sqrt, min_samples_split=10, score=0.392, total=   0.0s\n",
            "[CV] criterion=entropy, max_depth=2, max_features=sqrt, min_samples_split=10 \n",
            "[CV]  criterion=entropy, max_depth=2, max_features=sqrt, min_samples_split=10, score=0.706, total=   0.0s\n",
            "[CV] criterion=entropy, max_depth=2, max_features=sqrt, min_samples_split=10 \n",
            "[CV]  criterion=entropy, max_depth=2, max_features=sqrt, min_samples_split=10, score=0.604, total=   0.0s\n",
            "[CV] criterion=entropy, max_depth=2, max_features=sqrt, min_samples_split=10 \n",
            "[CV]  criterion=entropy, max_depth=2, max_features=sqrt, min_samples_split=10, score=0.634, total=   0.0s\n",
            "[CV] criterion=entropy, max_depth=2, max_features=sqrt, min_samples_split=10 \n",
            "[CV]  criterion=entropy, max_depth=2, max_features=sqrt, min_samples_split=10, score=0.406, total=   0.0s\n",
            "[CV] criterion=entropy, max_depth=2, max_features=None, min_samples_split=2 \n",
            "[CV]  criterion=entropy, max_depth=2, max_features=None, min_samples_split=2, score=0.971, total=   0.0s\n",
            "[CV] criterion=entropy, max_depth=2, max_features=None, min_samples_split=2 \n",
            "[CV]  criterion=entropy, max_depth=2, max_features=None, min_samples_split=2, score=0.941, total=   0.0s\n",
            "[CV] criterion=entropy, max_depth=2, max_features=None, min_samples_split=2 \n",
            "[CV]  criterion=entropy, max_depth=2, max_features=None, min_samples_split=2, score=0.960, total=   0.0s\n",
            "[CV] criterion=entropy, max_depth=2, max_features=None, min_samples_split=2 \n",
            "[CV]  criterion=entropy, max_depth=2, max_features=None, min_samples_split=2, score=0.960, total=   0.0s\n",
            "[CV] criterion=entropy, max_depth=2, max_features=None, min_samples_split=2 \n",
            "[CV]  criterion=entropy, max_depth=2, max_features=None, min_samples_split=2, score=0.931, total=   0.0s\n",
            "[CV] criterion=entropy, max_depth=2, max_features=None, min_samples_split=5 \n",
            "[CV]  criterion=entropy, max_depth=2, max_features=None, min_samples_split=5, score=0.971, total=   0.0s\n",
            "[CV] criterion=entropy, max_depth=2, max_features=None, min_samples_split=5 \n",
            "[CV]  criterion=entropy, max_depth=2, max_features=None, min_samples_split=5, score=0.941, total=   0.0s\n",
            "[CV] criterion=entropy, max_depth=2, max_features=None, min_samples_split=5 \n",
            "[CV]  criterion=entropy, max_depth=2, max_features=None, min_samples_split=5, score=0.960, total=   0.0s\n",
            "[CV] criterion=entropy, max_depth=2, max_features=None, min_samples_split=5 \n",
            "[CV]  criterion=entropy, max_depth=2, max_features=None, min_samples_split=5, score=0.960, total=   0.0s\n",
            "[CV] criterion=entropy, max_depth=2, max_features=None, min_samples_split=5 \n",
            "[CV]  criterion=entropy, max_depth=2, max_features=None, min_samples_split=5, score=0.931, total=   0.0s\n",
            "[CV] criterion=entropy, max_depth=2, max_features=None, min_samples_split=10 \n",
            "[CV]  criterion=entropy, max_depth=2, max_features=None, min_samples_split=10, score=0.971, total=   0.0s\n",
            "[CV] criterion=entropy, max_depth=2, max_features=None, min_samples_split=10 \n",
            "[CV]  criterion=entropy, max_depth=2, max_features=None, min_samples_split=10, score=0.941, total=   0.0s\n",
            "[CV] criterion=entropy, max_depth=2, max_features=None, min_samples_split=10 \n",
            "[CV]  criterion=entropy, max_depth=2, max_features=None, min_samples_split=10, score=0.960, total=   0.0s\n",
            "[CV] criterion=entropy, max_depth=2, max_features=None, min_samples_split=10 \n",
            "[CV]  criterion=entropy, max_depth=2, max_features=None, min_samples_split=10, score=0.960, total=   0.0s\n",
            "[CV] criterion=entropy, max_depth=2, max_features=None, min_samples_split=10 \n",
            "[CV]  criterion=entropy, max_depth=2, max_features=None, min_samples_split=10, score=0.931, total=   0.0s\n",
            "[CV] criterion=entropy, max_depth=3, max_features=0.5, min_samples_split=2 \n",
            "[CV]  criterion=entropy, max_depth=3, max_features=0.5, min_samples_split=2, score=0.971, total=   0.0s\n",
            "[CV] criterion=entropy, max_depth=3, max_features=0.5, min_samples_split=2 \n",
            "[CV]  criterion=entropy, max_depth=3, max_features=0.5, min_samples_split=2, score=0.941, total=   0.0s\n",
            "[CV] criterion=entropy, max_depth=3, max_features=0.5, min_samples_split=2 \n",
            "[CV]  criterion=entropy, max_depth=3, max_features=0.5, min_samples_split=2, score=0.960, total=   0.0s\n",
            "[CV] criterion=entropy, max_depth=3, max_features=0.5, min_samples_split=2 \n",
            "[CV]  criterion=entropy, max_depth=3, max_features=0.5, min_samples_split=2, score=0.960, total=   0.0s\n",
            "[CV] criterion=entropy, max_depth=3, max_features=0.5, min_samples_split=2 \n",
            "[CV]  criterion=entropy, max_depth=3, max_features=0.5, min_samples_split=2, score=0.941, total=   0.0s\n",
            "[CV] criterion=entropy, max_depth=3, max_features=0.5, min_samples_split=5 \n",
            "[CV]  criterion=entropy, max_depth=3, max_features=0.5, min_samples_split=5, score=0.980, total=   0.0s\n",
            "[CV] criterion=entropy, max_depth=3, max_features=0.5, min_samples_split=5 \n",
            "[CV]  criterion=entropy, max_depth=3, max_features=0.5, min_samples_split=5, score=0.941, total=   0.0s\n",
            "[CV] criterion=entropy, max_depth=3, max_features=0.5, min_samples_split=5 \n",
            "[CV]  criterion=entropy, max_depth=3, max_features=0.5, min_samples_split=5, score=0.960, total=   0.0s\n",
            "[CV] criterion=entropy, max_depth=3, max_features=0.5, min_samples_split=5 \n",
            "[CV]  criterion=entropy, max_depth=3, max_features=0.5, min_samples_split=5, score=0.960, total=   0.0s\n",
            "[CV] criterion=entropy, max_depth=3, max_features=0.5, min_samples_split=5 \n",
            "[CV]  criterion=entropy, max_depth=3, max_features=0.5, min_samples_split=5, score=0.931, total=   0.0s\n",
            "[CV] criterion=entropy, max_depth=3, max_features=0.5, min_samples_split=10 \n",
            "[CV]  criterion=entropy, max_depth=3, max_features=0.5, min_samples_split=10, score=0.971, total=   0.0s\n",
            "[CV] criterion=entropy, max_depth=3, max_features=0.5, min_samples_split=10 \n",
            "[CV]  criterion=entropy, max_depth=3, max_features=0.5, min_samples_split=10, score=0.941, total=   0.0s\n",
            "[CV] criterion=entropy, max_depth=3, max_features=0.5, min_samples_split=10 \n",
            "[CV]  criterion=entropy, max_depth=3, max_features=0.5, min_samples_split=10, score=0.871, total=   0.0s\n",
            "[CV] criterion=entropy, max_depth=3, max_features=0.5, min_samples_split=10 \n",
            "[CV]  criterion=entropy, max_depth=3, max_features=0.5, min_samples_split=10, score=0.574, total=   0.0s\n",
            "[CV] criterion=entropy, max_depth=3, max_features=0.5, min_samples_split=10 \n",
            "[CV]  criterion=entropy, max_depth=3, max_features=0.5, min_samples_split=10, score=0.931, total=   0.0s\n",
            "[CV] criterion=entropy, max_depth=3, max_features=sqrt, min_samples_split=2 \n",
            "[CV]  criterion=entropy, max_depth=3, max_features=sqrt, min_samples_split=2, score=0.902, total=   0.0s\n",
            "[CV] criterion=entropy, max_depth=3, max_features=sqrt, min_samples_split=2 \n",
            "[CV]  criterion=entropy, max_depth=3, max_features=sqrt, min_samples_split=2, score=0.941, total=   0.0s\n",
            "[CV] criterion=entropy, max_depth=3, max_features=sqrt, min_samples_split=2 \n",
            "[CV]  criterion=entropy, max_depth=3, max_features=sqrt, min_samples_split=2, score=0.624, total=   0.0s\n",
            "[CV] criterion=entropy, max_depth=3, max_features=sqrt, min_samples_split=2 \n",
            "[CV]  criterion=entropy, max_depth=3, max_features=sqrt, min_samples_split=2, score=0.960, total=   0.0s\n",
            "[CV] criterion=entropy, max_depth=3, max_features=sqrt, min_samples_split=2 \n",
            "[CV]  criterion=entropy, max_depth=3, max_features=sqrt, min_samples_split=2, score=0.752, total=   0.0s\n",
            "[CV] criterion=entropy, max_depth=3, max_features=sqrt, min_samples_split=5 \n",
            "[CV]  criterion=entropy, max_depth=3, max_features=sqrt, min_samples_split=5, score=0.500, total=   0.0s\n",
            "[CV] criterion=entropy, max_depth=3, max_features=sqrt, min_samples_split=5 \n",
            "[CV]  criterion=entropy, max_depth=3, max_features=sqrt, min_samples_split=5, score=0.745, total=   0.0s\n",
            "[CV] criterion=entropy, max_depth=3, max_features=sqrt, min_samples_split=5 \n",
            "[CV]  criterion=entropy, max_depth=3, max_features=sqrt, min_samples_split=5, score=0.515, total=   0.0s\n",
            "[CV] criterion=entropy, max_depth=3, max_features=sqrt, min_samples_split=5 \n",
            "[CV]  criterion=entropy, max_depth=3, max_features=sqrt, min_samples_split=5, score=0.960, total=   0.0s\n",
            "[CV] criterion=entropy, max_depth=3, max_features=sqrt, min_samples_split=5 \n",
            "[CV]  criterion=entropy, max_depth=3, max_features=sqrt, min_samples_split=5, score=0.376, total=   0.0s\n",
            "[CV] criterion=entropy, max_depth=3, max_features=sqrt, min_samples_split=10 \n",
            "[CV]  criterion=entropy, max_depth=3, max_features=sqrt, min_samples_split=10, score=0.941, total=   0.0s\n",
            "[CV] criterion=entropy, max_depth=3, max_features=sqrt, min_samples_split=10 \n",
            "[CV]  criterion=entropy, max_depth=3, max_features=sqrt, min_samples_split=10, score=0.804, total=   0.0s\n",
            "[CV] criterion=entropy, max_depth=3, max_features=sqrt, min_samples_split=10 \n",
            "[CV]  criterion=entropy, max_depth=3, max_features=sqrt, min_samples_split=10, score=0.921, total=   0.0s\n",
            "[CV] criterion=entropy, max_depth=3, max_features=sqrt, min_samples_split=10 \n",
            "[CV]  criterion=entropy, max_depth=3, max_features=sqrt, min_samples_split=10, score=0.495, total=   0.0s\n",
            "[CV] criterion=entropy, max_depth=3, max_features=sqrt, min_samples_split=10 \n",
            "[CV]  criterion=entropy, max_depth=3, max_features=sqrt, min_samples_split=10, score=0.525, total=   0.0s\n",
            "[CV] criterion=entropy, max_depth=3, max_features=None, min_samples_split=2 \n",
            "[CV]  criterion=entropy, max_depth=3, max_features=None, min_samples_split=2, score=0.971, total=   0.0s\n",
            "[CV] criterion=entropy, max_depth=3, max_features=None, min_samples_split=2 \n",
            "[CV]  criterion=entropy, max_depth=3, max_features=None, min_samples_split=2, score=0.941, total=   0.0s\n",
            "[CV] criterion=entropy, max_depth=3, max_features=None, min_samples_split=2 \n",
            "[CV]  criterion=entropy, max_depth=3, max_features=None, min_samples_split=2, score=0.960, total=   0.0s\n",
            "[CV] criterion=entropy, max_depth=3, max_features=None, min_samples_split=2 \n",
            "[CV]  criterion=entropy, max_depth=3, max_features=None, min_samples_split=2, score=0.960, total=   0.0s\n",
            "[CV] criterion=entropy, max_depth=3, max_features=None, min_samples_split=2 \n",
            "[CV]  criterion=entropy, max_depth=3, max_features=None, min_samples_split=2, score=0.931, total=   0.0s\n",
            "[CV] criterion=entropy, max_depth=3, max_features=None, min_samples_split=5 \n",
            "[CV]  criterion=entropy, max_depth=3, max_features=None, min_samples_split=5, score=0.971, total=   0.0s\n",
            "[CV] criterion=entropy, max_depth=3, max_features=None, min_samples_split=5 \n",
            "[CV]  criterion=entropy, max_depth=3, max_features=None, min_samples_split=5, score=0.941, total=   0.0s\n",
            "[CV] criterion=entropy, max_depth=3, max_features=None, min_samples_split=5 \n",
            "[CV]  criterion=entropy, max_depth=3, max_features=None, min_samples_split=5, score=0.960, total=   0.0s\n",
            "[CV] criterion=entropy, max_depth=3, max_features=None, min_samples_split=5 \n",
            "[CV]  criterion=entropy, max_depth=3, max_features=None, min_samples_split=5, score=0.960, total=   0.0s\n",
            "[CV] criterion=entropy, max_depth=3, max_features=None, min_samples_split=5 \n",
            "[CV]  criterion=entropy, max_depth=3, max_features=None, min_samples_split=5, score=0.931, total=   0.0s\n",
            "[CV] criterion=entropy, max_depth=3, max_features=None, min_samples_split=10 \n",
            "[CV]  criterion=entropy, max_depth=3, max_features=None, min_samples_split=10, score=0.971, total=   0.0s\n",
            "[CV] criterion=entropy, max_depth=3, max_features=None, min_samples_split=10 \n",
            "[CV]  criterion=entropy, max_depth=3, max_features=None, min_samples_split=10, score=0.941, total=   0.0s\n",
            "[CV] criterion=entropy, max_depth=3, max_features=None, min_samples_split=10 \n",
            "[CV]  criterion=entropy, max_depth=3, max_features=None, min_samples_split=10, score=0.960, total=   0.0s\n",
            "[CV] criterion=entropy, max_depth=3, max_features=None, min_samples_split=10 \n",
            "[CV]  criterion=entropy, max_depth=3, max_features=None, min_samples_split=10, score=0.960, total=   0.0s\n",
            "[CV] criterion=entropy, max_depth=3, max_features=None, min_samples_split=10 \n",
            "[CV]  criterion=entropy, max_depth=3, max_features=None, min_samples_split=10, score=0.931, total=   0.0s\n",
            "[CV] criterion=entropy, max_depth=5, max_features=0.5, min_samples_split=2 \n",
            "[CV]  criterion=entropy, max_depth=5, max_features=0.5, min_samples_split=2, score=0.922, total=   0.0s\n",
            "[CV] criterion=entropy, max_depth=5, max_features=0.5, min_samples_split=2 \n",
            "[CV]  criterion=entropy, max_depth=5, max_features=0.5, min_samples_split=2, score=0.931, total=   0.0s\n",
            "[CV] criterion=entropy, max_depth=5, max_features=0.5, min_samples_split=2 \n",
            "[CV]  criterion=entropy, max_depth=5, max_features=0.5, min_samples_split=2, score=0.921, total=   0.0s\n",
            "[CV] criterion=entropy, max_depth=5, max_features=0.5, min_samples_split=2 \n",
            "[CV]  criterion=entropy, max_depth=5, max_features=0.5, min_samples_split=2, score=0.842, total=   0.0s\n",
            "[CV] criterion=entropy, max_depth=5, max_features=0.5, min_samples_split=2 \n",
            "[CV]  criterion=entropy, max_depth=5, max_features=0.5, min_samples_split=2, score=0.752, total=   0.0s\n",
            "[CV] criterion=entropy, max_depth=5, max_features=0.5, min_samples_split=5 \n",
            "[CV]  criterion=entropy, max_depth=5, max_features=0.5, min_samples_split=5, score=0.941, total=   0.0s\n",
            "[CV] criterion=entropy, max_depth=5, max_features=0.5, min_samples_split=5 \n",
            "[CV]  criterion=entropy, max_depth=5, max_features=0.5, min_samples_split=5, score=0.951, total=   0.0s\n",
            "[CV] criterion=entropy, max_depth=5, max_features=0.5, min_samples_split=5 \n",
            "[CV]  criterion=entropy, max_depth=5, max_features=0.5, min_samples_split=5, score=0.911, total=   0.0s\n",
            "[CV] criterion=entropy, max_depth=5, max_features=0.5, min_samples_split=5 \n",
            "[CV]  criterion=entropy, max_depth=5, max_features=0.5, min_samples_split=5, score=0.861, total=   0.0s\n",
            "[CV] criterion=entropy, max_depth=5, max_features=0.5, min_samples_split=5 \n",
            "[CV]  criterion=entropy, max_depth=5, max_features=0.5, min_samples_split=5, score=0.901, total=   0.0s\n",
            "[CV] criterion=entropy, max_depth=5, max_features=0.5, min_samples_split=10 \n",
            "[CV]  criterion=entropy, max_depth=5, max_features=0.5, min_samples_split=10, score=0.951, total=   0.0s\n",
            "[CV] criterion=entropy, max_depth=5, max_features=0.5, min_samples_split=10 \n",
            "[CV]  criterion=entropy, max_depth=5, max_features=0.5, min_samples_split=10, score=0.882, total=   0.0s\n",
            "[CV] criterion=entropy, max_depth=5, max_features=0.5, min_samples_split=10 \n",
            "[CV]  criterion=entropy, max_depth=5, max_features=0.5, min_samples_split=10, score=0.950, total=   0.0s\n",
            "[CV] criterion=entropy, max_depth=5, max_features=0.5, min_samples_split=10 \n",
            "[CV]  criterion=entropy, max_depth=5, max_features=0.5, min_samples_split=10, score=0.960, total=   0.0s\n",
            "[CV] criterion=entropy, max_depth=5, max_features=0.5, min_samples_split=10 \n",
            "[CV]  criterion=entropy, max_depth=5, max_features=0.5, min_samples_split=10, score=0.911, total=   0.0s\n",
            "[CV] criterion=entropy, max_depth=5, max_features=sqrt, min_samples_split=2 \n",
            "[CV]  criterion=entropy, max_depth=5, max_features=sqrt, min_samples_split=2, score=0.961, total=   0.0s\n",
            "[CV] criterion=entropy, max_depth=5, max_features=sqrt, min_samples_split=2 \n",
            "[CV]  criterion=entropy, max_depth=5, max_features=sqrt, min_samples_split=2, score=0.657, total=   0.0s\n",
            "[CV] criterion=entropy, max_depth=5, max_features=sqrt, min_samples_split=2 \n",
            "[CV]  criterion=entropy, max_depth=5, max_features=sqrt, min_samples_split=2, score=0.901, total=   0.0s\n",
            "[CV] criterion=entropy, max_depth=5, max_features=sqrt, min_samples_split=2 \n",
            "[CV]  criterion=entropy, max_depth=5, max_features=sqrt, min_samples_split=2, score=0.713, total=   0.0s\n",
            "[CV] criterion=entropy, max_depth=5, max_features=sqrt, min_samples_split=2 \n",
            "[CV]  criterion=entropy, max_depth=5, max_features=sqrt, min_samples_split=2, score=0.535, total=   0.0s\n",
            "[CV] criterion=entropy, max_depth=5, max_features=sqrt, min_samples_split=5 \n",
            "[CV]  criterion=entropy, max_depth=5, max_features=sqrt, min_samples_split=5, score=0.971, total=   0.0s\n",
            "[CV] criterion=entropy, max_depth=5, max_features=sqrt, min_samples_split=5 \n",
            "[CV]  criterion=entropy, max_depth=5, max_features=sqrt, min_samples_split=5, score=0.441, total=   0.0s\n",
            "[CV] criterion=entropy, max_depth=5, max_features=sqrt, min_samples_split=5 \n",
            "[CV]  criterion=entropy, max_depth=5, max_features=sqrt, min_samples_split=5, score=0.584, total=   0.0s\n",
            "[CV] criterion=entropy, max_depth=5, max_features=sqrt, min_samples_split=5 \n",
            "[CV]  criterion=entropy, max_depth=5, max_features=sqrt, min_samples_split=5, score=0.960, total=   0.0s\n",
            "[CV] criterion=entropy, max_depth=5, max_features=sqrt, min_samples_split=5 \n",
            "[CV]  criterion=entropy, max_depth=5, max_features=sqrt, min_samples_split=5, score=0.733, total=   0.0s\n",
            "[CV] criterion=entropy, max_depth=5, max_features=sqrt, min_samples_split=10 \n",
            "[CV]  criterion=entropy, max_depth=5, max_features=sqrt, min_samples_split=10, score=0.971, total=   0.0s\n",
            "[CV] criterion=entropy, max_depth=5, max_features=sqrt, min_samples_split=10 \n",
            "[CV]  criterion=entropy, max_depth=5, max_features=sqrt, min_samples_split=10, score=0.941, total=   0.0s\n",
            "[CV] criterion=entropy, max_depth=5, max_features=sqrt, min_samples_split=10 \n",
            "[CV]  criterion=entropy, max_depth=5, max_features=sqrt, min_samples_split=10, score=0.851, total=   0.0s\n",
            "[CV] criterion=entropy, max_depth=5, max_features=sqrt, min_samples_split=10 \n",
            "[CV]  criterion=entropy, max_depth=5, max_features=sqrt, min_samples_split=10, score=0.772, total=   0.0s\n",
            "[CV] criterion=entropy, max_depth=5, max_features=sqrt, min_samples_split=10 \n",
            "[CV]  criterion=entropy, max_depth=5, max_features=sqrt, min_samples_split=10, score=0.921, total=   0.0s\n",
            "[CV] criterion=entropy, max_depth=5, max_features=None, min_samples_split=2 \n",
            "[CV]  criterion=entropy, max_depth=5, max_features=None, min_samples_split=2, score=0.931, total=   0.0s\n",
            "[CV] criterion=entropy, max_depth=5, max_features=None, min_samples_split=2 \n",
            "[CV]  criterion=entropy, max_depth=5, max_features=None, min_samples_split=2, score=0.912, total=   0.0s\n",
            "[CV] criterion=entropy, max_depth=5, max_features=None, min_samples_split=2 \n",
            "[CV]  criterion=entropy, max_depth=5, max_features=None, min_samples_split=2, score=0.911, total=   0.0s\n",
            "[CV] criterion=entropy, max_depth=5, max_features=None, min_samples_split=2 \n",
            "[CV]  criterion=entropy, max_depth=5, max_features=None, min_samples_split=2, score=0.812, total=   0.0s\n",
            "[CV] criterion=entropy, max_depth=5, max_features=None, min_samples_split=2 \n",
            "[CV]  criterion=entropy, max_depth=5, max_features=None, min_samples_split=2, score=0.911, total=   0.0s\n",
            "[CV] criterion=entropy, max_depth=5, max_features=None, min_samples_split=5 \n",
            "[CV]  criterion=entropy, max_depth=5, max_features=None, min_samples_split=5, score=0.931, total=   0.0s\n",
            "[CV] criterion=entropy, max_depth=5, max_features=None, min_samples_split=5 \n",
            "[CV]  criterion=entropy, max_depth=5, max_features=None, min_samples_split=5, score=0.912, total=   0.0s\n",
            "[CV] criterion=entropy, max_depth=5, max_features=None, min_samples_split=5 \n",
            "[CV]  criterion=entropy, max_depth=5, max_features=None, min_samples_split=5, score=0.921, total=   0.0s\n",
            "[CV] criterion=entropy, max_depth=5, max_features=None, min_samples_split=5 \n",
            "[CV]  criterion=entropy, max_depth=5, max_features=None, min_samples_split=5, score=0.812, total=   0.0s\n",
            "[CV] criterion=entropy, max_depth=5, max_features=None, min_samples_split=5 \n",
            "[CV]  criterion=entropy, max_depth=5, max_features=None, min_samples_split=5, score=0.911, total=   0.0s\n",
            "[CV] criterion=entropy, max_depth=5, max_features=None, min_samples_split=10 \n",
            "[CV]  criterion=entropy, max_depth=5, max_features=None, min_samples_split=10, score=0.931, total=   0.0s\n",
            "[CV] criterion=entropy, max_depth=5, max_features=None, min_samples_split=10 \n",
            "[CV]  criterion=entropy, max_depth=5, max_features=None, min_samples_split=10, score=0.912, total=   0.0s\n",
            "[CV] criterion=entropy, max_depth=5, max_features=None, min_samples_split=10 \n",
            "[CV]  criterion=entropy, max_depth=5, max_features=None, min_samples_split=10, score=0.911, total=   0.0s\n",
            "[CV] criterion=entropy, max_depth=5, max_features=None, min_samples_split=10 \n",
            "[CV]  criterion=entropy, max_depth=5, max_features=None, min_samples_split=10, score=0.812, total=   0.0s\n",
            "[CV] criterion=entropy, max_depth=5, max_features=None, min_samples_split=10 \n",
            "[CV]  criterion=entropy, max_depth=5, max_features=None, min_samples_split=10, score=0.911, total=   0.0s\n",
            "[CV] criterion=entropy, max_depth=10, max_features=0.5, min_samples_split=2 \n",
            "[CV]  criterion=entropy, max_depth=10, max_features=0.5, min_samples_split=2, score=0.814, total=   0.0s\n",
            "[CV] criterion=entropy, max_depth=10, max_features=0.5, min_samples_split=2 \n",
            "[CV]  criterion=entropy, max_depth=10, max_features=0.5, min_samples_split=2, score=0.765, total=   0.0s\n",
            "[CV] criterion=entropy, max_depth=10, max_features=0.5, min_samples_split=2 \n",
            "[CV]  criterion=entropy, max_depth=10, max_features=0.5, min_samples_split=2, score=0.752, total=   0.0s\n",
            "[CV] criterion=entropy, max_depth=10, max_features=0.5, min_samples_split=2 \n",
            "[CV]  criterion=entropy, max_depth=10, max_features=0.5, min_samples_split=2, score=0.762, total=   0.0s\n",
            "[CV] criterion=entropy, max_depth=10, max_features=0.5, min_samples_split=2 \n",
            "[CV]  criterion=entropy, max_depth=10, max_features=0.5, min_samples_split=2, score=0.683, total=   0.0s\n",
            "[CV] criterion=entropy, max_depth=10, max_features=0.5, min_samples_split=5 \n",
            "[CV]  criterion=entropy, max_depth=10, max_features=0.5, min_samples_split=5, score=0.784, total=   0.0s\n",
            "[CV] criterion=entropy, max_depth=10, max_features=0.5, min_samples_split=5 \n",
            "[CV]  criterion=entropy, max_depth=10, max_features=0.5, min_samples_split=5, score=0.853, total=   0.0s\n",
            "[CV] criterion=entropy, max_depth=10, max_features=0.5, min_samples_split=5 \n",
            "[CV]  criterion=entropy, max_depth=10, max_features=0.5, min_samples_split=5, score=0.693, total=   0.0s\n",
            "[CV] criterion=entropy, max_depth=10, max_features=0.5, min_samples_split=5 \n",
            "[CV]  criterion=entropy, max_depth=10, max_features=0.5, min_samples_split=5, score=0.703, total=   0.0s\n",
            "[CV] criterion=entropy, max_depth=10, max_features=0.5, min_samples_split=5 \n",
            "[CV]  criterion=entropy, max_depth=10, max_features=0.5, min_samples_split=5, score=0.802, total=   0.0s\n",
            "[CV] criterion=entropy, max_depth=10, max_features=0.5, min_samples_split=10 \n",
            "[CV]  criterion=entropy, max_depth=10, max_features=0.5, min_samples_split=10, score=0.882, total=   0.0s\n",
            "[CV] criterion=entropy, max_depth=10, max_features=0.5, min_samples_split=10 \n",
            "[CV]  criterion=entropy, max_depth=10, max_features=0.5, min_samples_split=10, score=0.735, total=   0.0s\n",
            "[CV] criterion=entropy, max_depth=10, max_features=0.5, min_samples_split=10 \n",
            "[CV]  criterion=entropy, max_depth=10, max_features=0.5, min_samples_split=10, score=0.683, total=   0.0s\n",
            "[CV] criterion=entropy, max_depth=10, max_features=0.5, min_samples_split=10 \n",
            "[CV]  criterion=entropy, max_depth=10, max_features=0.5, min_samples_split=10, score=0.792, total=   0.0s\n",
            "[CV] criterion=entropy, max_depth=10, max_features=0.5, min_samples_split=10 \n",
            "[CV]  criterion=entropy, max_depth=10, max_features=0.5, min_samples_split=10, score=0.614, total=   0.0s\n",
            "[CV] criterion=entropy, max_depth=10, max_features=sqrt, min_samples_split=2 \n",
            "[CV]  criterion=entropy, max_depth=10, max_features=sqrt, min_samples_split=2, score=0.725, total=   0.0s\n",
            "[CV] criterion=entropy, max_depth=10, max_features=sqrt, min_samples_split=2 \n",
            "[CV]  criterion=entropy, max_depth=10, max_features=sqrt, min_samples_split=2, score=0.696, total=   0.0s\n",
            "[CV] criterion=entropy, max_depth=10, max_features=sqrt, min_samples_split=2 \n",
            "[CV]  criterion=entropy, max_depth=10, max_features=sqrt, min_samples_split=2, score=0.624, total=   0.0s\n",
            "[CV] criterion=entropy, max_depth=10, max_features=sqrt, min_samples_split=2 \n",
            "[CV]  criterion=entropy, max_depth=10, max_features=sqrt, min_samples_split=2, score=0.663, total=   0.0s\n",
            "[CV] criterion=entropy, max_depth=10, max_features=sqrt, min_samples_split=2 \n",
            "[CV]  criterion=entropy, max_depth=10, max_features=sqrt, min_samples_split=2, score=0.802, total=   0.0s\n",
            "[CV] criterion=entropy, max_depth=10, max_features=sqrt, min_samples_split=5 \n",
            "[CV]  criterion=entropy, max_depth=10, max_features=sqrt, min_samples_split=5, score=0.686, total=   0.0s\n",
            "[CV] criterion=entropy, max_depth=10, max_features=sqrt, min_samples_split=5 \n",
            "[CV]  criterion=entropy, max_depth=10, max_features=sqrt, min_samples_split=5, score=0.745, total=   0.0s\n",
            "[CV] criterion=entropy, max_depth=10, max_features=sqrt, min_samples_split=5 \n",
            "[CV]  criterion=entropy, max_depth=10, max_features=sqrt, min_samples_split=5, score=0.772, total=   0.0s\n",
            "[CV] criterion=entropy, max_depth=10, max_features=sqrt, min_samples_split=5 \n",
            "[CV]  criterion=entropy, max_depth=10, max_features=sqrt, min_samples_split=5, score=0.713, total=   0.0s\n",
            "[CV] criterion=entropy, max_depth=10, max_features=sqrt, min_samples_split=5 \n",
            "[CV]  criterion=entropy, max_depth=10, max_features=sqrt, min_samples_split=5, score=0.703, total=   0.0s\n",
            "[CV] criterion=entropy, max_depth=10, max_features=sqrt, min_samples_split=10 \n",
            "[CV]  criterion=entropy, max_depth=10, max_features=sqrt, min_samples_split=10, score=0.873, total=   0.0s\n",
            "[CV] criterion=entropy, max_depth=10, max_features=sqrt, min_samples_split=10 \n",
            "[CV]  criterion=entropy, max_depth=10, max_features=sqrt, min_samples_split=10, score=0.794, total=   0.0s\n",
            "[CV] criterion=entropy, max_depth=10, max_features=sqrt, min_samples_split=10 \n",
            "[CV]  criterion=entropy, max_depth=10, max_features=sqrt, min_samples_split=10, score=0.644, total=   0.0s\n",
            "[CV] criterion=entropy, max_depth=10, max_features=sqrt, min_samples_split=10 \n",
            "[CV]  criterion=entropy, max_depth=10, max_features=sqrt, min_samples_split=10, score=0.743, total=   0.0s\n",
            "[CV] criterion=entropy, max_depth=10, max_features=sqrt, min_samples_split=10 \n",
            "[CV]  criterion=entropy, max_depth=10, max_features=sqrt, min_samples_split=10, score=0.713, total=   0.0s\n",
            "[CV] criterion=entropy, max_depth=10, max_features=None, min_samples_split=2 \n",
            "[CV]  criterion=entropy, max_depth=10, max_features=None, min_samples_split=2, score=0.912, total=   0.0s\n",
            "[CV] criterion=entropy, max_depth=10, max_features=None, min_samples_split=2 \n",
            "[CV]  criterion=entropy, max_depth=10, max_features=None, min_samples_split=2, score=0.804, total=   0.0s\n",
            "[CV] criterion=entropy, max_depth=10, max_features=None, min_samples_split=2 \n",
            "[CV]  criterion=entropy, max_depth=10, max_features=None, min_samples_split=2, score=0.762, total=   0.0s\n",
            "[CV] criterion=entropy, max_depth=10, max_features=None, min_samples_split=2 \n",
            "[CV]  criterion=entropy, max_depth=10, max_features=None, min_samples_split=2, score=0.743, total=   0.0s\n",
            "[CV] criterion=entropy, max_depth=10, max_features=None, min_samples_split=2 \n",
            "[CV]  criterion=entropy, max_depth=10, max_features=None, min_samples_split=2, score=0.693, total=   0.0s\n",
            "[CV] criterion=entropy, max_depth=10, max_features=None, min_samples_split=5 \n",
            "[CV]  criterion=entropy, max_depth=10, max_features=None, min_samples_split=5, score=0.873, total=   0.0s\n",
            "[CV] criterion=entropy, max_depth=10, max_features=None, min_samples_split=5 \n",
            "[CV]  criterion=entropy, max_depth=10, max_features=None, min_samples_split=5, score=0.833, total=   0.0s\n",
            "[CV] criterion=entropy, max_depth=10, max_features=None, min_samples_split=5 \n",
            "[CV]  criterion=entropy, max_depth=10, max_features=None, min_samples_split=5, score=0.762, total=   0.0s\n",
            "[CV] criterion=entropy, max_depth=10, max_features=None, min_samples_split=5 \n",
            "[CV]  criterion=entropy, max_depth=10, max_features=None, min_samples_split=5, score=0.723, total=   0.0s\n",
            "[CV] criterion=entropy, max_depth=10, max_features=None, min_samples_split=5 \n",
            "[CV]  criterion=entropy, max_depth=10, max_features=None, min_samples_split=5, score=0.653, total=   0.0s\n",
            "[CV] criterion=entropy, max_depth=10, max_features=None, min_samples_split=10 \n",
            "[CV]  criterion=entropy, max_depth=10, max_features=None, min_samples_split=10, score=0.853, total=   0.0s\n",
            "[CV] criterion=entropy, max_depth=10, max_features=None, min_samples_split=10 \n",
            "[CV]  criterion=entropy, max_depth=10, max_features=None, min_samples_split=10, score=0.824, total=   0.0s\n",
            "[CV] criterion=entropy, max_depth=10, max_features=None, min_samples_split=10 \n",
            "[CV]  criterion=entropy, max_depth=10, max_features=None, min_samples_split=10, score=0.772, total=   0.0s\n",
            "[CV] criterion=entropy, max_depth=10, max_features=None, min_samples_split=10 \n",
            "[CV]  criterion=entropy, max_depth=10, max_features=None, min_samples_split=10, score=0.673, total=   0.0s\n",
            "[CV] criterion=entropy, max_depth=10, max_features=None, min_samples_split=10 \n",
            "[CV]  criterion=entropy, max_depth=10, max_features=None, min_samples_split=10, score=0.663, total=   0.0s\n",
            "[CV] criterion=entropy, max_depth=20, max_features=0.5, min_samples_split=2 \n",
            "[CV]  criterion=entropy, max_depth=20, max_features=0.5, min_samples_split=2, score=0.775, total=   0.0s\n",
            "[CV] criterion=entropy, max_depth=20, max_features=0.5, min_samples_split=2 \n",
            "[CV]  criterion=entropy, max_depth=20, max_features=0.5, min_samples_split=2, score=0.765, total=   0.0s\n",
            "[CV] criterion=entropy, max_depth=20, max_features=0.5, min_samples_split=2 \n",
            "[CV]  criterion=entropy, max_depth=20, max_features=0.5, min_samples_split=2, score=0.693, total=   0.0s\n",
            "[CV] criterion=entropy, max_depth=20, max_features=0.5, min_samples_split=2 \n",
            "[CV]  criterion=entropy, max_depth=20, max_features=0.5, min_samples_split=2, score=0.792, total=   0.0s\n",
            "[CV] criterion=entropy, max_depth=20, max_features=0.5, min_samples_split=2 \n",
            "[CV]  criterion=entropy, max_depth=20, max_features=0.5, min_samples_split=2, score=0.673, total=   0.0s\n",
            "[CV] criterion=entropy, max_depth=20, max_features=0.5, min_samples_split=5 \n",
            "[CV]  criterion=entropy, max_depth=20, max_features=0.5, min_samples_split=5, score=0.775, total=   0.0s\n",
            "[CV] criterion=entropy, max_depth=20, max_features=0.5, min_samples_split=5 \n",
            "[CV]  criterion=entropy, max_depth=20, max_features=0.5, min_samples_split=5, score=0.725, total=   0.0s\n",
            "[CV] criterion=entropy, max_depth=20, max_features=0.5, min_samples_split=5 \n",
            "[CV]  criterion=entropy, max_depth=20, max_features=0.5, min_samples_split=5, score=0.693, total=   0.0s\n",
            "[CV] criterion=entropy, max_depth=20, max_features=0.5, min_samples_split=5 \n",
            "[CV]  criterion=entropy, max_depth=20, max_features=0.5, min_samples_split=5, score=0.713, total=   0.0s\n",
            "[CV] criterion=entropy, max_depth=20, max_features=0.5, min_samples_split=5 \n",
            "[CV]  criterion=entropy, max_depth=20, max_features=0.5, min_samples_split=5, score=0.762, total=   0.0s\n",
            "[CV] criterion=entropy, max_depth=20, max_features=0.5, min_samples_split=10 \n",
            "[CV]  criterion=entropy, max_depth=20, max_features=0.5, min_samples_split=10, score=0.814, total=   0.0s\n",
            "[CV] criterion=entropy, max_depth=20, max_features=0.5, min_samples_split=10 \n",
            "[CV]  criterion=entropy, max_depth=20, max_features=0.5, min_samples_split=10, score=0.784, total=   0.0s\n",
            "[CV] criterion=entropy, max_depth=20, max_features=0.5, min_samples_split=10 \n",
            "[CV]  criterion=entropy, max_depth=20, max_features=0.5, min_samples_split=10, score=0.752, total=   0.0s\n",
            "[CV] criterion=entropy, max_depth=20, max_features=0.5, min_samples_split=10 \n",
            "[CV]  criterion=entropy, max_depth=20, max_features=0.5, min_samples_split=10, score=0.743, total=   0.0s\n",
            "[CV] criterion=entropy, max_depth=20, max_features=0.5, min_samples_split=10 \n",
            "[CV]  criterion=entropy, max_depth=20, max_features=0.5, min_samples_split=10, score=0.733, total=   0.0s\n",
            "[CV] criterion=entropy, max_depth=20, max_features=sqrt, min_samples_split=2 \n",
            "[CV]  criterion=entropy, max_depth=20, max_features=sqrt, min_samples_split=2, score=0.784, total=   0.0s\n",
            "[CV] criterion=entropy, max_depth=20, max_features=sqrt, min_samples_split=2 \n",
            "[CV]  criterion=entropy, max_depth=20, max_features=sqrt, min_samples_split=2, score=0.716, total=   0.0s\n",
            "[CV] criterion=entropy, max_depth=20, max_features=sqrt, min_samples_split=2 \n",
            "[CV]  criterion=entropy, max_depth=20, max_features=sqrt, min_samples_split=2, score=0.693, total=   0.0s\n",
            "[CV] criterion=entropy, max_depth=20, max_features=sqrt, min_samples_split=2 \n",
            "[CV]  criterion=entropy, max_depth=20, max_features=sqrt, min_samples_split=2, score=0.733, total=   0.0s\n",
            "[CV] criterion=entropy, max_depth=20, max_features=sqrt, min_samples_split=2 \n",
            "[CV]  criterion=entropy, max_depth=20, max_features=sqrt, min_samples_split=2, score=0.752, total=   0.0s\n",
            "[CV] criterion=entropy, max_depth=20, max_features=sqrt, min_samples_split=5 \n",
            "[CV]  criterion=entropy, max_depth=20, max_features=sqrt, min_samples_split=5, score=0.824, total=   0.0s\n",
            "[CV] criterion=entropy, max_depth=20, max_features=sqrt, min_samples_split=5 \n",
            "[CV]  criterion=entropy, max_depth=20, max_features=sqrt, min_samples_split=5, score=0.667, total=   0.0s\n",
            "[CV] criterion=entropy, max_depth=20, max_features=sqrt, min_samples_split=5 \n",
            "[CV]  criterion=entropy, max_depth=20, max_features=sqrt, min_samples_split=5, score=0.693, total=   0.0s\n",
            "[CV] criterion=entropy, max_depth=20, max_features=sqrt, min_samples_split=5 \n",
            "[CV]  criterion=entropy, max_depth=20, max_features=sqrt, min_samples_split=5, score=0.703, total=   0.0s\n",
            "[CV] criterion=entropy, max_depth=20, max_features=sqrt, min_samples_split=5 \n",
            "[CV]  criterion=entropy, max_depth=20, max_features=sqrt, min_samples_split=5, score=0.535, total=   0.0s\n",
            "[CV] criterion=entropy, max_depth=20, max_features=sqrt, min_samples_split=10 \n",
            "[CV]  criterion=entropy, max_depth=20, max_features=sqrt, min_samples_split=10, score=0.853, total=   0.0s\n",
            "[CV] criterion=entropy, max_depth=20, max_features=sqrt, min_samples_split=10 \n",
            "[CV]  criterion=entropy, max_depth=20, max_features=sqrt, min_samples_split=10, score=0.745, total=   0.0s\n",
            "[CV] criterion=entropy, max_depth=20, max_features=sqrt, min_samples_split=10 \n",
            "[CV]  criterion=entropy, max_depth=20, max_features=sqrt, min_samples_split=10, score=0.772, total=   0.0s\n",
            "[CV] criterion=entropy, max_depth=20, max_features=sqrt, min_samples_split=10 \n",
            "[CV]  criterion=entropy, max_depth=20, max_features=sqrt, min_samples_split=10, score=0.723, total=   0.0s\n",
            "[CV] criterion=entropy, max_depth=20, max_features=sqrt, min_samples_split=10 \n",
            "[CV]  criterion=entropy, max_depth=20, max_features=sqrt, min_samples_split=10, score=0.663, total=   0.0s\n",
            "[CV] criterion=entropy, max_depth=20, max_features=None, min_samples_split=2 \n",
            "[CV]  criterion=entropy, max_depth=20, max_features=None, min_samples_split=2, score=0.824, total=   0.0s\n",
            "[CV] criterion=entropy, max_depth=20, max_features=None, min_samples_split=2 \n",
            "[CV]  criterion=entropy, max_depth=20, max_features=None, min_samples_split=2, score=0.765, total=   0.0s\n",
            "[CV] criterion=entropy, max_depth=20, max_features=None, min_samples_split=2 \n",
            "[CV]  criterion=entropy, max_depth=20, max_features=None, min_samples_split=2, score=0.723, total=   0.0s\n",
            "[CV] criterion=entropy, max_depth=20, max_features=None, min_samples_split=2 \n",
            "[CV]  criterion=entropy, max_depth=20, max_features=None, min_samples_split=2, score=0.743, total=   0.0s\n",
            "[CV] criterion=entropy, max_depth=20, max_features=None, min_samples_split=2 \n",
            "[CV]  criterion=entropy, max_depth=20, max_features=None, min_samples_split=2, score=0.703, total=   0.0s\n",
            "[CV] criterion=entropy, max_depth=20, max_features=None, min_samples_split=5 \n",
            "[CV]  criterion=entropy, max_depth=20, max_features=None, min_samples_split=5, score=0.814, total=   0.0s\n",
            "[CV] criterion=entropy, max_depth=20, max_features=None, min_samples_split=5 \n",
            "[CV]  criterion=entropy, max_depth=20, max_features=None, min_samples_split=5, score=0.745, total=   0.0s\n",
            "[CV] criterion=entropy, max_depth=20, max_features=None, min_samples_split=5 \n",
            "[CV]  criterion=entropy, max_depth=20, max_features=None, min_samples_split=5, score=0.713, total=   0.0s\n",
            "[CV] criterion=entropy, max_depth=20, max_features=None, min_samples_split=5 \n",
            "[CV]  criterion=entropy, max_depth=20, max_features=None, min_samples_split=5, score=0.772, total=   0.0s\n",
            "[CV] criterion=entropy, max_depth=20, max_features=None, min_samples_split=5 \n",
            "[CV]  criterion=entropy, max_depth=20, max_features=None, min_samples_split=5, score=0.634, total=   0.0s\n",
            "[CV] criterion=entropy, max_depth=20, max_features=None, min_samples_split=10 \n",
            "[CV]  criterion=entropy, max_depth=20, max_features=None, min_samples_split=10, score=0.784, total=   0.0s\n",
            "[CV] criterion=entropy, max_depth=20, max_features=None, min_samples_split=10 \n",
            "[CV]  criterion=entropy, max_depth=20, max_features=None, min_samples_split=10, score=0.765, total=   0.0s\n",
            "[CV] criterion=entropy, max_depth=20, max_features=None, min_samples_split=10 \n",
            "[CV]  criterion=entropy, max_depth=20, max_features=None, min_samples_split=10, score=0.733, total=   0.0s\n",
            "[CV] criterion=entropy, max_depth=20, max_features=None, min_samples_split=10 \n",
            "[CV]  criterion=entropy, max_depth=20, max_features=None, min_samples_split=10, score=0.683, total=   0.0s\n",
            "[CV] criterion=entropy, max_depth=20, max_features=None, min_samples_split=10 \n",
            "[CV]  criterion=entropy, max_depth=20, max_features=None, min_samples_split=10, score=0.634, total=   0.0s\n",
            "[CV] criterion=entropy, max_depth=None, max_features=0.5, min_samples_split=2 \n",
            "[CV]  criterion=entropy, max_depth=None, max_features=0.5, min_samples_split=2, score=0.794, total=   0.0s\n",
            "[CV] criterion=entropy, max_depth=None, max_features=0.5, min_samples_split=2 \n",
            "[CV]  criterion=entropy, max_depth=None, max_features=0.5, min_samples_split=2, score=0.716, total=   0.0s\n",
            "[CV] criterion=entropy, max_depth=None, max_features=0.5, min_samples_split=2 \n",
            "[CV]  criterion=entropy, max_depth=None, max_features=0.5, min_samples_split=2, score=0.673, total=   0.0s\n",
            "[CV] criterion=entropy, max_depth=None, max_features=0.5, min_samples_split=2 \n",
            "[CV]  criterion=entropy, max_depth=None, max_features=0.5, min_samples_split=2, score=0.723, total=   0.0s\n",
            "[CV] criterion=entropy, max_depth=None, max_features=0.5, min_samples_split=2 \n",
            "[CV]  criterion=entropy, max_depth=None, max_features=0.5, min_samples_split=2, score=0.693, total=   0.0s\n",
            "[CV] criterion=entropy, max_depth=None, max_features=0.5, min_samples_split=5 \n",
            "[CV]  criterion=entropy, max_depth=None, max_features=0.5, min_samples_split=5, score=0.843, total=   0.0s\n",
            "[CV] criterion=entropy, max_depth=None, max_features=0.5, min_samples_split=5 \n",
            "[CV]  criterion=entropy, max_depth=None, max_features=0.5, min_samples_split=5, score=0.765, total=   0.0s\n",
            "[CV] criterion=entropy, max_depth=None, max_features=0.5, min_samples_split=5 \n",
            "[CV]  criterion=entropy, max_depth=None, max_features=0.5, min_samples_split=5, score=0.693, total=   0.0s\n",
            "[CV] criterion=entropy, max_depth=None, max_features=0.5, min_samples_split=5 \n",
            "[CV]  criterion=entropy, max_depth=None, max_features=0.5, min_samples_split=5, score=0.713, total=   0.0s\n",
            "[CV] criterion=entropy, max_depth=None, max_features=0.5, min_samples_split=5 \n",
            "[CV]  criterion=entropy, max_depth=None, max_features=0.5, min_samples_split=5, score=0.772, total=   0.0s\n",
            "[CV] criterion=entropy, max_depth=None, max_features=0.5, min_samples_split=10 \n",
            "[CV]  criterion=entropy, max_depth=None, max_features=0.5, min_samples_split=10, score=0.745, total=   0.0s\n",
            "[CV] criterion=entropy, max_depth=None, max_features=0.5, min_samples_split=10 \n",
            "[CV]  criterion=entropy, max_depth=None, max_features=0.5, min_samples_split=10, score=0.765, total=   0.0s\n",
            "[CV] criterion=entropy, max_depth=None, max_features=0.5, min_samples_split=10 \n",
            "[CV]  criterion=entropy, max_depth=None, max_features=0.5, min_samples_split=10, score=0.762, total=   0.0s\n",
            "[CV] criterion=entropy, max_depth=None, max_features=0.5, min_samples_split=10 \n",
            "[CV]  criterion=entropy, max_depth=None, max_features=0.5, min_samples_split=10, score=0.782, total=   0.0s\n",
            "[CV] criterion=entropy, max_depth=None, max_features=0.5, min_samples_split=10 \n",
            "[CV]  criterion=entropy, max_depth=None, max_features=0.5, min_samples_split=10, score=0.693, total=   0.0s\n",
            "[CV] criterion=entropy, max_depth=None, max_features=sqrt, min_samples_split=2 \n",
            "[CV]  criterion=entropy, max_depth=None, max_features=sqrt, min_samples_split=2, score=0.716, total=   0.0s\n",
            "[CV] criterion=entropy, max_depth=None, max_features=sqrt, min_samples_split=2 \n",
            "[CV]  criterion=entropy, max_depth=None, max_features=sqrt, min_samples_split=2, score=0.725, total=   0.0s\n",
            "[CV] criterion=entropy, max_depth=None, max_features=sqrt, min_samples_split=2 \n",
            "[CV]  criterion=entropy, max_depth=None, max_features=sqrt, min_samples_split=2, score=0.703, total=   0.0s\n",
            "[CV] criterion=entropy, max_depth=None, max_features=sqrt, min_samples_split=2 \n",
            "[CV]  criterion=entropy, max_depth=None, max_features=sqrt, min_samples_split=2, score=0.723, total=   0.0s\n",
            "[CV] criterion=entropy, max_depth=None, max_features=sqrt, min_samples_split=2 \n",
            "[CV]  criterion=entropy, max_depth=None, max_features=sqrt, min_samples_split=2, score=0.743, total=   0.0s\n",
            "[CV] criterion=entropy, max_depth=None, max_features=sqrt, min_samples_split=5 \n",
            "[CV]  criterion=entropy, max_depth=None, max_features=sqrt, min_samples_split=5, score=0.794, total=   0.0s\n",
            "[CV] criterion=entropy, max_depth=None, max_features=sqrt, min_samples_split=5 \n",
            "[CV]  criterion=entropy, max_depth=None, max_features=sqrt, min_samples_split=5, score=0.706, total=   0.0s\n",
            "[CV] criterion=entropy, max_depth=None, max_features=sqrt, min_samples_split=5 \n",
            "[CV]  criterion=entropy, max_depth=None, max_features=sqrt, min_samples_split=5, score=0.723, total=   0.0s\n",
            "[CV] criterion=entropy, max_depth=None, max_features=sqrt, min_samples_split=5 \n",
            "[CV]  criterion=entropy, max_depth=None, max_features=sqrt, min_samples_split=5, score=0.703, total=   0.0s\n",
            "[CV] criterion=entropy, max_depth=None, max_features=sqrt, min_samples_split=5 \n",
            "[CV]  criterion=entropy, max_depth=None, max_features=sqrt, min_samples_split=5, score=0.683, total=   0.0s\n",
            "[CV] criterion=entropy, max_depth=None, max_features=sqrt, min_samples_split=10 \n",
            "[CV]  criterion=entropy, max_depth=None, max_features=sqrt, min_samples_split=10, score=0.676, total=   0.0s\n",
            "[CV] criterion=entropy, max_depth=None, max_features=sqrt, min_samples_split=10 \n",
            "[CV]  criterion=entropy, max_depth=None, max_features=sqrt, min_samples_split=10, score=0.627, total=   0.0s\n",
            "[CV] criterion=entropy, max_depth=None, max_features=sqrt, min_samples_split=10 \n",
            "[CV]  criterion=entropy, max_depth=None, max_features=sqrt, min_samples_split=10, score=0.723, total=   0.0s\n",
            "[CV] criterion=entropy, max_depth=None, max_features=sqrt, min_samples_split=10 \n",
            "[CV]  criterion=entropy, max_depth=None, max_features=sqrt, min_samples_split=10, score=0.743, total=   0.0s\n",
            "[CV] criterion=entropy, max_depth=None, max_features=sqrt, min_samples_split=10 \n",
            "[CV]  criterion=entropy, max_depth=None, max_features=sqrt, min_samples_split=10, score=0.792, total=   0.0s\n",
            "[CV] criterion=entropy, max_depth=None, max_features=None, min_samples_split=2 \n",
            "[CV]  criterion=entropy, max_depth=None, max_features=None, min_samples_split=2, score=0.824, total=   0.0s\n",
            "[CV] criterion=entropy, max_depth=None, max_features=None, min_samples_split=2 \n",
            "[CV]  criterion=entropy, max_depth=None, max_features=None, min_samples_split=2, score=0.765, total=   0.0s\n",
            "[CV] criterion=entropy, max_depth=None, max_features=None, min_samples_split=2 \n",
            "[CV]  criterion=entropy, max_depth=None, max_features=None, min_samples_split=2, score=0.713, total=   0.0s\n",
            "[CV] criterion=entropy, max_depth=None, max_features=None, min_samples_split=2 \n",
            "[CV]  criterion=entropy, max_depth=None, max_features=None, min_samples_split=2, score=0.752, total=   0.0s\n",
            "[CV] criterion=entropy, max_depth=None, max_features=None, min_samples_split=2 \n",
            "[CV]  criterion=entropy, max_depth=None, max_features=None, min_samples_split=2, score=0.683, total=   0.0s\n",
            "[CV] criterion=entropy, max_depth=None, max_features=None, min_samples_split=5 \n",
            "[CV]  criterion=entropy, max_depth=None, max_features=None, min_samples_split=5, score=0.775, total=   0.0s\n",
            "[CV] criterion=entropy, max_depth=None, max_features=None, min_samples_split=5 \n",
            "[CV]  criterion=entropy, max_depth=None, max_features=None, min_samples_split=5, score=0.755, total=   0.0s\n",
            "[CV] criterion=entropy, max_depth=None, max_features=None, min_samples_split=5 \n",
            "[CV]  criterion=entropy, max_depth=None, max_features=None, min_samples_split=5, score=0.673, total=   0.0s\n",
            "[CV] criterion=entropy, max_depth=None, max_features=None, min_samples_split=5 \n",
            "[CV]  criterion=entropy, max_depth=None, max_features=None, min_samples_split=5, score=0.723, total=   0.0s\n",
            "[CV] criterion=entropy, max_depth=None, max_features=None, min_samples_split=5 \n",
            "[CV]  criterion=entropy, max_depth=None, max_features=None, min_samples_split=5, score=0.644, total=   0.0s\n",
            "[CV] criterion=entropy, max_depth=None, max_features=None, min_samples_split=10 \n",
            "[CV]  criterion=entropy, max_depth=None, max_features=None, min_samples_split=10, score=0.784, total=   0.0s\n",
            "[CV] criterion=entropy, max_depth=None, max_features=None, min_samples_split=10 \n",
            "[CV]  criterion=entropy, max_depth=None, max_features=None, min_samples_split=10, score=0.775, total=   0.0s\n",
            "[CV] criterion=entropy, max_depth=None, max_features=None, min_samples_split=10 \n",
            "[CV]  criterion=entropy, max_depth=None, max_features=None, min_samples_split=10, score=0.743, total=   0.0s\n",
            "[CV] criterion=entropy, max_depth=None, max_features=None, min_samples_split=10 \n",
            "[CV]  criterion=entropy, max_depth=None, max_features=None, min_samples_split=10, score=0.693, total=   0.0s\n",
            "[CV] criterion=entropy, max_depth=None, max_features=None, min_samples_split=10 \n",
            "[CV]  criterion=entropy, max_depth=None, max_features=None, min_samples_split=10, score=0.634, total=   0.0s\n"
          ],
          "name": "stdout"
        },
        {
          "output_type": "stream",
          "text": [
            "[Parallel(n_jobs=1)]: Done 540 out of 540 | elapsed:    2.6s finished\n"
          ],
          "name": "stderr"
        },
        {
          "output_type": "execute_result",
          "data": {
            "text/plain": [
              "GridSearchCV(cv=5, error_score=nan,\n",
              "             estimator=DecisionTreeClassifier(ccp_alpha=0.0, class_weight=None,\n",
              "                                              criterion='gini', max_depth=None,\n",
              "                                              max_features=None,\n",
              "                                              max_leaf_nodes=None,\n",
              "                                              min_impurity_decrease=0.0,\n",
              "                                              min_impurity_split=None,\n",
              "                                              min_samples_leaf=1,\n",
              "                                              min_samples_split=2,\n",
              "                                              min_weight_fraction_leaf=0.0,\n",
              "                                              presort='deprecated',\n",
              "                                              random_state=None,\n",
              "                                              splitter='best'),\n",
              "             iid='deprecated', n_jobs=None,\n",
              "             param_grid={'criterion': ['gini', 'entropy'],\n",
              "                         'max_depth': [2, 3, 5, 10, 20, None],\n",
              "                         'max_features': [0.5, 'sqrt', None],\n",
              "                         'min_samples_split': [2, 5, 10]},\n",
              "             pre_dispatch='2*n_jobs', refit=True, return_train_score=False,\n",
              "             scoring='recall', verbose=4)"
            ]
          },
          "metadata": {
            "tags": []
          },
          "execution_count": 65
        }
      ]
    },
    {
      "cell_type": "code",
      "metadata": {
        "colab": {
          "base_uri": "https://localhost:8080/"
        },
        "id": "wrong-moisture",
        "outputId": "8a66c5bf-c990-4ffc-fcf7-9990f58c4b2d"
      },
      "source": [
        "dt.best_score_, dt.best_params_"
      ],
      "id": "wrong-moisture",
      "execution_count": 66,
      "outputs": [
        {
          "output_type": "execute_result",
          "data": {
            "text/plain": [
              "(0.9585905649388469,\n",
              " {'criterion': 'gini',\n",
              "  'max_depth': 3,\n",
              "  'max_features': 0.5,\n",
              "  'min_samples_split': 10})"
            ]
          },
          "metadata": {
            "tags": []
          },
          "execution_count": 66
        }
      ]
    },
    {
      "cell_type": "code",
      "metadata": {
        "id": "1KIsYBXyW-UP"
      },
      "source": [
        "dt_test = round(recall_score(y_test, dt.best_estimator_.predict(x_test))*100, 2)\n",
        "dt_train = round(recall_score(y_train, dt.best_estimator_.predict(x_train))*100, 2)"
      ],
      "id": "1KIsYBXyW-UP",
      "execution_count": 68,
      "outputs": []
    },
    {
      "cell_type": "code",
      "metadata": {
        "colab": {
          "base_uri": "https://localhost:8080/"
        },
        "id": "imnCE84TW9Yf",
        "outputId": "e41ed123-21cd-4858-a32b-9f1c83effccb"
      },
      "source": [
        "# Результаты \n",
        "print(f\" Recall on test is {round(recall_score(y_test, dt.best_estimator_.predict(x_test))*100, 2)}\")\n",
        "print(f\" Recall on train is {round(recall_score(y_train, dt.best_estimator_.predict(x_train))*100, 2)}\")"
      ],
      "id": "imnCE84TW9Yf",
      "execution_count": 86,
      "outputs": [
        {
          "output_type": "stream",
          "text": [
            " Recall on test is 87.69\n",
            " Recall on train is 88.36\n"
          ],
          "name": "stdout"
        }
      ]
    },
    {
      "cell_type": "markdown",
      "metadata": {
        "id": "assigned-tenant"
      },
      "source": [
        "### Grid search and random forest"
      ],
      "id": "assigned-tenant"
    },
    {
      "cell_type": "code",
      "metadata": {
        "id": "chubby-original"
      },
      "source": [
        "#  Grid search + cross validation\n",
        "rfc = RandomForestClassifier()\n",
        "param_grid = {       \n",
        "     'n_estimators' : [80, 160, 500, 1000],\n",
        "     'criterion' : ['gini', 'entropy'],\n",
        "     'max_depth' : [3, 5, 10],\n",
        "     'min_samples_split' : [2,3]   \n",
        "    }\n",
        "\n",
        "gs = GridSearchCV(\n",
        "    estimator=rfc,\n",
        "    param_grid=param_grid,\n",
        "    scoring=['recall'], \n",
        "    refit='recall',\n",
        "    cv=5,\n",
        "    verbose=4, \n",
        "    n_jobs=-1,\n",
        ")"
      ],
      "id": "chubby-original",
      "execution_count": 71,
      "outputs": []
    },
    {
      "cell_type": "code",
      "metadata": {
        "colab": {
          "base_uri": "https://localhost:8080/"
        },
        "id": "corresponding-reason",
        "outputId": "5982c6b8-25e6-4237-9da7-45568c857dd2"
      },
      "source": [
        "gs.fit(x_train, y_train)"
      ],
      "id": "corresponding-reason",
      "execution_count": 72,
      "outputs": [
        {
          "output_type": "stream",
          "text": [
            "Fitting 5 folds for each of 48 candidates, totalling 240 fits\n"
          ],
          "name": "stdout"
        },
        {
          "output_type": "stream",
          "text": [
            "[Parallel(n_jobs=-1)]: Using backend LokyBackend with 2 concurrent workers.\n",
            "[Parallel(n_jobs=-1)]: Done  21 tasks      | elapsed:   13.9s\n",
            "[Parallel(n_jobs=-1)]: Done  94 tasks      | elapsed:   59.8s\n",
            "[Parallel(n_jobs=-1)]: Done 217 tasks      | elapsed:  2.5min\n",
            "[Parallel(n_jobs=-1)]: Done 240 out of 240 | elapsed:  2.8min finished\n"
          ],
          "name": "stderr"
        },
        {
          "output_type": "execute_result",
          "data": {
            "text/plain": [
              "GridSearchCV(cv=5, error_score=nan,\n",
              "             estimator=RandomForestClassifier(bootstrap=True, ccp_alpha=0.0,\n",
              "                                              class_weight=None,\n",
              "                                              criterion='gini', max_depth=None,\n",
              "                                              max_features='auto',\n",
              "                                              max_leaf_nodes=None,\n",
              "                                              max_samples=None,\n",
              "                                              min_impurity_decrease=0.0,\n",
              "                                              min_impurity_split=None,\n",
              "                                              min_samples_leaf=1,\n",
              "                                              min_samples_split=2,\n",
              "                                              min_weight_fraction_leaf=0.0,\n",
              "                                              n_estimators=100, n_jobs=None,\n",
              "                                              oob_score=False,\n",
              "                                              random_state=None, verbose=0,\n",
              "                                              warm_start=False),\n",
              "             iid='deprecated', n_jobs=-1,\n",
              "             param_grid={'criterion': ['gini', 'entropy'],\n",
              "                         'max_depth': [3, 5, 10], 'min_samples_split': [2, 3],\n",
              "                         'n_estimators': [80, 160, 500, 1000]},\n",
              "             pre_dispatch='2*n_jobs', refit='recall', return_train_score=False,\n",
              "             scoring=['recall'], verbose=4)"
            ]
          },
          "metadata": {
            "tags": []
          },
          "execution_count": 72
        }
      ]
    },
    {
      "cell_type": "code",
      "metadata": {
        "id": "YNPVAhfWVlo7"
      },
      "source": [
        "random_forest_test = round(recall_score(y_test, gs.best_estimator_.predict(x_test))*100, 2)\n",
        "random_forest_train = round(recall_score(y_train, gs.best_estimator_.predict(x_train))*100, 2)"
      ],
      "id": "YNPVAhfWVlo7",
      "execution_count": 73,
      "outputs": []
    },
    {
      "cell_type": "code",
      "metadata": {
        "colab": {
          "base_uri": "https://localhost:8080/"
        },
        "id": "quick-chamber",
        "outputId": "a76d86b2-f6bc-492f-8ae6-2a725a089ca3"
      },
      "source": [
        "# Результаты \n",
        "print(f\" Recall on test is {round(recall_score(y_test, gs.best_estimator_.predict(x_test))*100, 2)}\")\n",
        "print(f\" Recall on train is {round(recall_score(y_train, gs.best_estimator_.predict(x_train))*100, 2)}\")\n"
      ],
      "id": "quick-chamber",
      "execution_count": 87,
      "outputs": [
        {
          "output_type": "stream",
          "text": [
            " Recall on test is 87.69\n",
            " Recall on train is 92.5\n"
          ],
          "name": "stdout"
        }
      ]
    },
    {
      "cell_type": "markdown",
      "metadata": {
        "id": "actual-clinic"
      },
      "source": [
        "### Grid search и xgboost\n"
      ],
      "id": "actual-clinic"
    },
    {
      "cell_type": "code",
      "metadata": {
        "id": "material-service"
      },
      "source": [
        "xgbc = XGBClassifier()\n",
        "param_grid = { \n",
        "    'binary':['logistic'],\n",
        "     'n_estimators' : [80, 160, 500, 1000],\n",
        "     'max_depth' : [3, 5, 7, 10],\n",
        "     'learning_rate' : [0.1, 0.01, 0.001],\n",
        "    'booster': ['gbtree', 'gblinear', 'dart'],\n",
        "    'gamma': [0, 0.3, 0.5],\n",
        "    'min_child_weight': [5, 6, 7, 8, 9, 10]\n",
        "    }\n",
        "\n",
        "\n",
        "cv = GridSearchCV(\n",
        "    estimator=xgbc,\n",
        "    param_grid=param_grid,\n",
        "    scoring=['recall'],\n",
        "    refit='recall',\n",
        "    cv=5, \n",
        "    verbose=4, \n",
        "    n_jobs=-1, \n",
        ")"
      ],
      "id": "material-service",
      "execution_count": 75,
      "outputs": []
    },
    {
      "cell_type": "code",
      "metadata": {
        "colab": {
          "base_uri": "https://localhost:8080/"
        },
        "id": "discrete-plaintiff",
        "outputId": "6f870510-c81c-4639-9933-d63689fd181c"
      },
      "source": [
        "cv.fit(x_train, y_train)"
      ],
      "id": "discrete-plaintiff",
      "execution_count": 76,
      "outputs": [
        {
          "output_type": "stream",
          "text": [
            "Fitting 5 folds for each of 2592 candidates, totalling 12960 fits\n"
          ],
          "name": "stdout"
        },
        {
          "output_type": "stream",
          "text": [
            "[Parallel(n_jobs=-1)]: Using backend LokyBackend with 2 concurrent workers.\n",
            "[Parallel(n_jobs=-1)]: Done  21 tasks      | elapsed:    6.3s\n",
            "[Parallel(n_jobs=-1)]: Done  94 tasks      | elapsed:   23.8s\n",
            "[Parallel(n_jobs=-1)]: Done 217 tasks      | elapsed:  1.1min\n",
            "[Parallel(n_jobs=-1)]: Done 388 tasks      | elapsed:  2.1min\n",
            "[Parallel(n_jobs=-1)]: Done 609 tasks      | elapsed:  3.3min\n",
            "[Parallel(n_jobs=-1)]: Done 878 tasks      | elapsed:  5.2min\n",
            "[Parallel(n_jobs=-1)]: Done 1197 tasks      | elapsed:  7.0min\n",
            "[Parallel(n_jobs=-1)]: Done 1564 tasks      | elapsed:  9.3min\n",
            "[Parallel(n_jobs=-1)]: Done 1981 tasks      | elapsed: 11.8min\n",
            "[Parallel(n_jobs=-1)]: Done 2446 tasks      | elapsed: 14.7min\n",
            "[Parallel(n_jobs=-1)]: Done 2961 tasks      | elapsed: 17.9min\n",
            "[Parallel(n_jobs=-1)]: Done 3524 tasks      | elapsed: 21.2min\n",
            "[Parallel(n_jobs=-1)]: Done 4137 tasks      | elapsed: 25.1min\n",
            "[Parallel(n_jobs=-1)]: Done 4798 tasks      | elapsed: 27.8min\n",
            "[Parallel(n_jobs=-1)]: Done 5509 tasks      | elapsed: 29.7min\n",
            "[Parallel(n_jobs=-1)]: Done 6268 tasks      | elapsed: 31.9min\n",
            "[Parallel(n_jobs=-1)]: Done 7077 tasks      | elapsed: 34.1min\n",
            "[Parallel(n_jobs=-1)]: Done 7934 tasks      | elapsed: 36.5min\n",
            "[Parallel(n_jobs=-1)]: Done 8841 tasks      | elapsed: 54.3min\n",
            "[Parallel(n_jobs=-1)]: Done 9796 tasks      | elapsed: 133.0min\n",
            "[Parallel(n_jobs=-1)]: Done 10801 tasks      | elapsed: 201.6min\n",
            "[Parallel(n_jobs=-1)]: Done 11854 tasks      | elapsed: 273.0min\n",
            "[Parallel(n_jobs=-1)]: Done 12957 tasks      | elapsed: 354.8min\n",
            "[Parallel(n_jobs=-1)]: Done 12960 out of 12960 | elapsed: 355.5min finished\n"
          ],
          "name": "stderr"
        },
        {
          "output_type": "execute_result",
          "data": {
            "text/plain": [
              "GridSearchCV(cv=5, error_score=nan,\n",
              "             estimator=XGBClassifier(base_score=0.5, booster='gbtree',\n",
              "                                     colsample_bylevel=1, colsample_bynode=1,\n",
              "                                     colsample_bytree=1, gamma=0,\n",
              "                                     learning_rate=0.1, max_delta_step=0,\n",
              "                                     max_depth=3, min_child_weight=1,\n",
              "                                     missing=None, n_estimators=100, n_jobs=1,\n",
              "                                     nthread=None, objective='binary:logistic',\n",
              "                                     random_state=0, reg_alpha=0, reg_lambda=1,\n",
              "                                     scale_po...\n",
              "                                     subsample=1, verbosity=1),\n",
              "             iid='deprecated', n_jobs=-1,\n",
              "             param_grid={'binary': ['logistic'],\n",
              "                         'booster': ['gbtree', 'gblinear', 'dart'],\n",
              "                         'gamma': [0, 0.3, 0.5],\n",
              "                         'learning_rate': [0.1, 0.01, 0.001],\n",
              "                         'max_depth': [3, 5, 7, 10],\n",
              "                         'min_child_weight': [5, 6, 7, 8, 9, 10],\n",
              "                         'n_estimators': [80, 160, 500, 1000]},\n",
              "             pre_dispatch='2*n_jobs', refit='recall', return_train_score=False,\n",
              "             scoring=['recall'], verbose=4)"
            ]
          },
          "metadata": {
            "tags": []
          },
          "execution_count": 76
        }
      ]
    },
    {
      "cell_type": "code",
      "metadata": {
        "id": "pAdg2OhJWo_w"
      },
      "source": [
        "xgboost_test = round(recall_score(y_test, cv.best_estimator_.predict(x_test))*100,2)\n",
        "xgboost_train = round(recall_score(y_train, cv.best_estimator_.predict(x_train))*100,2)"
      ],
      "id": "pAdg2OhJWo_w",
      "execution_count": 77,
      "outputs": []
    },
    {
      "cell_type": "code",
      "metadata": {
        "id": "legitimate-puppy",
        "colab": {
          "base_uri": "https://localhost:8080/"
        },
        "outputId": "256ed499-1dd5-408b-e0df-697298faaffe"
      },
      "source": [
        "# Результаты \n",
        "print(f\" Recall on test is {round(recall_score(y_test, cv.best_estimator_.predict(x_test))*100,2)}\")\n",
        "print(f\" Recall on train is {round(recall_score(y_train, cv.best_estimator_.predict(x_train))*100,2)}\")"
      ],
      "id": "legitimate-puppy",
      "execution_count": 78,
      "outputs": [
        {
          "output_type": "stream",
          "text": [
            " Recall on test is 92.31\n",
            " Recall on train is 95.27\n"
          ],
          "name": "stdout"
        }
      ]
    },
    {
      "cell_type": "markdown",
      "metadata": {
        "id": "lTTvTS6VM3-K"
      },
      "source": [
        "## Оформляем результаты в таблицу"
      ],
      "id": "lTTvTS6VM3-K"
    },
    {
      "cell_type": "code",
      "metadata": {
        "id": "above-execution",
        "colab": {
          "base_uri": "https://localhost:8080/",
          "height": 235
        },
        "outputId": "04d4fb12-00e0-48f5-998d-7e6d81910ae7"
      },
      "source": [
        "models = pd.DataFrame({\n",
        "    'Model': ['Logistic Regression', 'KNN', 'SVC', 'DecisionTreeClassifier', 'RandomForestClassifier', 'XGBClassifier'],\n",
        "    'Recall': [logreg_score_test, neighbors_score_test, svm_score_test, dt_test, random_forest_test, xgboost_test]})\n",
        "models.sort_values(by='Recall', ascending=False)"
      ],
      "id": "above-execution",
      "execution_count": 80,
      "outputs": [
        {
          "output_type": "execute_result",
          "data": {
            "text/html": [
              "<div>\n",
              "<style scoped>\n",
              "    .dataframe tbody tr th:only-of-type {\n",
              "        vertical-align: middle;\n",
              "    }\n",
              "\n",
              "    .dataframe tbody tr th {\n",
              "        vertical-align: top;\n",
              "    }\n",
              "\n",
              "    .dataframe thead th {\n",
              "        text-align: right;\n",
              "    }\n",
              "</style>\n",
              "<table border=\"1\" class=\"dataframe\">\n",
              "  <thead>\n",
              "    <tr style=\"text-align: right;\">\n",
              "      <th></th>\n",
              "      <th>Model</th>\n",
              "      <th>Recall</th>\n",
              "    </tr>\n",
              "  </thead>\n",
              "  <tbody>\n",
              "    <tr>\n",
              "      <th>5</th>\n",
              "      <td>XGBClassifier</td>\n",
              "      <td>92.3100</td>\n",
              "    </tr>\n",
              "    <tr>\n",
              "      <th>3</th>\n",
              "      <td>DecisionTreeClassifier</td>\n",
              "      <td>87.6900</td>\n",
              "    </tr>\n",
              "    <tr>\n",
              "      <th>4</th>\n",
              "      <td>RandomForestClassifier</td>\n",
              "      <td>87.6900</td>\n",
              "    </tr>\n",
              "    <tr>\n",
              "      <th>1</th>\n",
              "      <td>KNN</td>\n",
              "      <td>80.0000</td>\n",
              "    </tr>\n",
              "    <tr>\n",
              "      <th>2</th>\n",
              "      <td>SVC</td>\n",
              "      <td>78.2258</td>\n",
              "    </tr>\n",
              "    <tr>\n",
              "      <th>0</th>\n",
              "      <td>Logistic Regression</td>\n",
              "      <td>77.7800</td>\n",
              "    </tr>\n",
              "  </tbody>\n",
              "</table>\n",
              "</div>"
            ],
            "text/plain": [
              "                    Model   Recall\n",
              "5           XGBClassifier  92.3100\n",
              "3  DecisionTreeClassifier  87.6900\n",
              "4  RandomForestClassifier  87.6900\n",
              "1                     KNN  80.0000\n",
              "2                     SVC  78.2258\n",
              "0     Logistic Regression  77.7800"
            ]
          },
          "metadata": {
            "tags": []
          },
          "execution_count": 80
        }
      ]
    }
  ]
}